{
 "cells": [
  {
   "cell_type": "markdown",
   "metadata": {},
   "source": [
    "$\\textbf{1.1}$ Ask the user for two numbers. Print to the user the value of the first number divided by the second. Make your code such that it never divides by zero."
   ]
  },
  {
   "cell_type": "markdown",
   "metadata": {},
   "source": [
    "This is straight forward. Ask the user for input using the input function, convert the input to numbers, preform math on the input and print to the user. Note that when taking user input, the resulting python variable is a string. In order to use this input as a value in calculation, its data type must be converted (done below with the python float function). Lastly, an if statement can be used to determine that the second number is not 0."
   ]
  },
  {
   "cell_type": "code",
   "execution_count": null,
   "metadata": {},
   "outputs": [],
   "source": [
    "# Ask the user for the two numbers\n",
    "num1 = float(input('Enter number 1: '))\n",
    "num2 = float(input('Enter number 2: '))\n",
    "\n",
    "# Only continue if num2 is not 0\n",
    "if(num2 != 0):\n",
    "    ans = num1 / num2 # Do the math\n",
    "    print(num1,\"divided by\",num2,\"is\",ans) # Print to the user\n",
    "else:\n",
    "    print('Number 2 cannot be 0') # Tell user they divided by 0"
   ]
  },
  {
   "cell_type": "markdown",
   "metadata": {},
   "source": [
    "Looks like simple math works."
   ]
  },
  {
   "cell_type": "markdown",
   "metadata": {},
   "source": [
    "$\\textbf{1.3}$ Ask the user for the length of two sides of a right triangle that form the right angle. Tell the user what the length of the hypotenuse is and the number of degrees in each of the other two angles."
   ]
  },
  {
   "cell_type": "markdown",
   "metadata": {},
   "source": [
    "The idea here is to ask use Pythagorean theorem to calculate the length of the hypotenuse and simple trig functions to calculate the two angles. The basic python $\\texttt{math}$ module can be imported and the following functions can be used (note that there are many other libraries that can be used to accomplish the same task, Google can be your friend):"
   ]
  },
  {
   "cell_type": "code",
   "execution_count": null,
   "metadata": {},
   "outputs": [],
   "source": [
    "# Used for math.asin and math.acos\n",
    "import math\n",
    "\n",
    "# Ask the user for the length of both sides\n",
    "side1 = float(input(\"Enter the length of one side of a right triangle: \"))\n",
    "side2 = float(input(\"Enter the length of the other side of a right triangle: \"))\n",
    "\n",
    "# Calculate the length of the hypotenuse and print\n",
    "hyp = (side1**2 + side2**2)**(1/2)\n",
    "print(\"The hypotenuse has length\",hyp)\n",
    "\n",
    "# Calculate the two angles and print\n",
    "angle1 = math.degrees(math.asin(side1/hyp))\n",
    "angle2 = math.degrees(math.acos(side1/hyp))\n",
    "print(\"One of the non-right angles is\",angle1,\"degrees\")\n",
    "print(\"The other non-right angle is\",angle2,\"degrees\")"
   ]
  }
 ],
 "metadata": {
  "kernelspec": {
   "display_name": "Python 3",
   "language": "python",
   "name": "python3"
  },
  "language_info": {
   "codemirror_mode": {
    "name": "ipython",
    "version": 3
   },
   "file_extension": ".py",
   "mimetype": "text/x-python",
   "name": "python",
   "nbconvert_exporter": "python",
   "pygments_lexer": "ipython3",
   "version": "3.6.8"
  }
 },
 "nbformat": 4,
 "nbformat_minor": 1
}
