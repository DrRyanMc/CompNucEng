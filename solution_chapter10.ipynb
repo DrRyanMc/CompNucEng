{
 "cells": [
  {
   "cell_type": "markdown",
   "metadata": {},
   "source": [
    "## 10.1 \n",
    "Compute, by hand, the second-order Lagrange polynormial for the points $x = \\{0,2,4\\}$ and $f(x) = \\{1,0.223891,-0.39715\\}$. If $f(3) = -0.260052$, how accurate is the interpolation at this point. Plot your interpolating polynomial for $x \\in [0,5]$. The points were generated from the Bessel function of the first kind, $J_0 (x)$. Compare your interpolating polynomial to the actual function."
   ]
  },
  {
   "cell_type": "markdown",
   "metadata": {},
   "source": [
    "## Solution"
   ]
  },
  {
   "cell_type": "markdown",
   "metadata": {},
   "source": [
    "The general Lagrange interpolation formula is as follows"
   ]
  },
  {
   "cell_type": "markdown",
   "metadata": {},
   "source": [
    "$$P_n(x) = \\sum_{i=0}^{n} f(a_i) \\frac{\\prod_{j=0, j\\neq i}^n (x-x_j)}{\\prod_{j=0, j\\neq i}^n (x_i-x_j)}.$$"
   ]
  },
  {
   "cell_type": "markdown",
   "metadata": {},
   "source": [
    "Expanding the above for $n = 2$ and substituting the given information"
   ]
  },
  {
   "cell_type": "markdown",
   "metadata": {},
   "source": [
    "$$P(x) = f(0) \\frac{(x - x_1)(x - x_2)}{(x_0 - x_1)(x_0 - x_2)} + f(2) \\frac{(x - x_0)(x - x_2)}{(x_1 - x_0)(x_1 - x_2)} + f(4) \\frac{(x - x_0)(x - x_1)}{(x_2 - x_0)(x_2 - x_1)},$$"
   ]
  },
  {
   "cell_type": "markdown",
   "metadata": {},
   "source": [
    "$$P(x) = \\frac{(x - 2)(x - 4)}{(0 - 2)(0 - 4)} + 0.223891 \\frac{(x - 0)(x - 4)}{(2 - 0)(2 - 4)} - 0.39715 \\frac{(x - 0)(x - 2)}{(4 - 0)(4 - 2)},$$"
   ]
  },
  {
   "cell_type": "markdown",
   "metadata": {},
   "source": [
    "$$P(x) = \\frac{(x - 2)(x - 4)}{8} - 0.223891 \\frac{x(x - 4)}{4} - 0.39715 \\frac{x(x - 2)}{8},$$"
   ]
  },
  {
   "cell_type": "markdown",
   "metadata": {},
   "source": [
    "$$P(x) = x^2\\Bigg(\\frac{1}{8} - \\frac{0.223891}{4} - \\frac{0.39715}{8}\\Bigg) + x\\Bigg(-\\frac{3}{4} + 0.223891 + \\frac{0.39715}{4}\\Bigg) + 1,$$"
   ]
  },
  {
   "cell_type": "markdown",
   "metadata": {},
   "source": [
    "$$P(x) = 0.0193835 x^2 - 0.4268215 x + 1.$$"
   ]
  },
  {
   "cell_type": "markdown",
   "metadata": {},
   "source": [
    "The $\\tt{SciPy}$ module $\\tt{special}$ has a function $\\tt{jv}$ which can be used to caclulate $J_0(x)$. $P(x)$ as calculated above is defined using a $\\texttt{lambda}$ function, such that it can be plotted along side $J_0(x)$ on the bound $[0,5]$."
   ]
  },
  {
   "cell_type": "code",
   "execution_count": 2,
   "metadata": {},
   "outputs": [
    {
     "name": "stdout",
     "output_type": "stream",
     "text": [
      "Comparing at x = 3:\n",
      "J_0(3) = −0.260052\n",
      "P(3) = -0.10601300000000013\n"
     ]
    },
    {
     "data": {
      "image/png": "[encoded data removed]",
      "text/plain": [
       "<Figure size 432x288 with 1 Axes>"
      ]
     },
     "metadata": {},
     "output_type": "display_data"
    }
   ],
   "source": [
    "import numpy as np\n",
    "from scipy.special import jv\n",
    "import matplotlib.pyplot as plt\n",
    "%matplotlib inline\n",
    "\n",
    "# Lambda function for lagrange polynomial\n",
    "lagrangePoly = lambda x: 0.0193835*x**2 - 0.4268215*x + 1\n",
    "\n",
    "# Given data points\n",
    "datax = [0,2,4]\n",
    "datay = [1,0.223891,-0.39715]\n",
    "\n",
    "# Compare against J_0(3)\n",
    "print('Comparing at x = 3:')\n",
    "print('J_0(3) = −0.260052')\n",
    "print('P(3) =',lagrangePoly(3))\n",
    "\n",
    "# Plot against J_0(x)\n",
    "x = np.linspace(0,5,1000)\n",
    "plt.plot(x,lagrangePoly(x),label='Lagrange polynomial')\n",
    "plt.plot(x,jv(0,x),label='$J_0(x)$')\n",
    "plt.scatter(datax,datay,label='Data points')\n",
    "plt.xlabel('x')\n",
    "plt.ylabel('y')\n",
    "plt.legend()\n",
    "plt.show()"
   ]
  }
 ],
 "metadata": {
  "kernelspec": {
   "display_name": "Python 3",
   "language": "python",
   "name": "python3"
  },
  "language_info": {
   "codemirror_mode": {
    "name": "ipython",
    "version": 3
   },
   "file_extension": ".py",
   "mimetype": "text/x-python",
   "name": "python",
   "nbconvert_exporter": "python",
   "pygments_lexer": "ipython3",
   "version": "3.6.8"
  }
 },
 "nbformat": 4,
 "nbformat_minor": 1
}
