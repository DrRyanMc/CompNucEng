{
 "cells": [
  {
   "cell_type": "markdown",
   "metadata": {},
   "source": [
    "## $k_\\infty$ and Diffusion Length for a Water Balloon"
   ]
  },
  {
   "cell_type": "markdown",
   "metadata": {},
   "source": [
    "$\\textbf{(100 points)}$ Consider a water balloon that you fill with a homogeneous mixture of\n",
    "heavy water and fissile material. You do not know the exact ratio of the\n",
    "water molecules to fissile atoms. However, you can fill the balloon with\n",
    "different amounts of the solution (thereby changing the radius of the\n",
    "sphere). You are able to measure the multiplication factor,\n",
    "$k_\\mathrm{eff}$, at several different balloon radii by pulsing the\n",
    "sphere with a neutron source and observing the subcritical\n",
    "multiplication. You also astutely remember that the 1-group diffusion\n",
    "theory relation between the multiplication factor, the infinite medium\n",
    "multiplication factor $k_\\infty$, and the diffusion length, $L$ is"
   ]
  },
  {
   "cell_type": "markdown",
   "metadata": {},
   "source": [
    "$$k_\\mathrm{eff} = \\frac{k_\\infty}{1+L^2 B_g^2},$$"
   ]
  },
  {
   "cell_type": "markdown",
   "metadata": {},
   "source": [
    "where $B_g^2$ is the geometric buckling for the system. In this case we have"
   ]
  },
  {
   "cell_type": "markdown",
   "metadata": {},
   "source": [
    "$$B_g^2 = \\frac{\\pi^2}{(R+d)^2},$$"
   ]
  },
  {
   "cell_type": "markdown",
   "metadata": {},
   "source": [
    "where $d$ is the extrapolation length. If we assume that $d \\ll R$, we can do a linear Taylor expansion around $d=0$ to write"
   ]
  },
  {
   "cell_type": "markdown",
   "metadata": {},
   "source": [
    "$$B_g^2 = \\frac{\\pi^2}{R^2} - \\frac{2 \\pi^2}{R^3}d.$$"
   ]
  },
  {
   "cell_type": "markdown",
   "metadata": {},
   "source": [
    "Given the measurement data below, infer the values of $k_\\infty$, $L$, and $d$. Is the assumption on $d$ correct? What radius will make the reactor critical? Report $R^2$ for your model."
   ]
  },
  {
   "cell_type": "markdown",
   "metadata": {},
   "source": [
    "Hint: make your regression model have the dependent variable be $1/k_\\mathrm{eff}$."
   ]
  },
  {
   "cell_type": "markdown",
   "metadata": {},
   "source": [
    "## Solution"
   ]
  },
  {
   "cell_type": "markdown",
   "metadata": {},
   "source": [
    "We have an equation for the geometric buckling that can be substitued into the equation for the multiplication factor as follows"
   ]
  },
  {
   "cell_type": "markdown",
   "metadata": {},
   "source": [
    "$$k_\\mathrm{eff} = \\frac{k_\\infty}{1 + L^2\\Big(\\frac{\\pi^2}{R^2} - \\frac{2 \\pi^2}{R^3}d\\Big)}.$$"
   ]
  },
  {
   "cell_type": "markdown",
   "metadata": {},
   "source": [
    "Taking the hint, we are going to let $\\frac{1}{k_\\mathrm{eff}}$ be the experimential variable. As such, the equation above can be re-ordered like so"
   ]
  },
  {
   "cell_type": "markdown",
   "metadata": {},
   "source": [
    "$$\\frac{1}{k_\\mathrm{eff}} = \\frac{1 + L^2\\Big(\\frac{\\pi^2}{R^2} - \\frac{2 \\pi^2}{R^3}d\\Big)}{k_\\infty},$$"
   ]
  },
  {
   "cell_type": "markdown",
   "metadata": {},
   "source": [
    "and is then re-organized"
   ]
  },
  {
   "cell_type": "markdown",
   "metadata": {},
   "source": [
    "$$\\frac{1}{k_\\mathrm{eff}} = \\frac{1}{k_\\infty} + \\frac{1}{R^2} \\frac{L^2 \\pi^2}{k_\\infty} - \\frac{2 L^2 d \\pi^2}{k_\\infty} \\frac{1}{R^3}.$$"
   ]
  },
  {
   "cell_type": "markdown",
   "metadata": {},
   "source": [
    "This is then simplified further as"
   ]
  },
  {
   "cell_type": "markdown",
   "metadata": {},
   "source": [
    "$$\\frac{1}{k_\\mathrm{eff}} = a + \\frac{1}{R^2} b + \\frac{1}{R^3} c,$$"
   ]
  },
  {
   "cell_type": "markdown",
   "metadata": {},
   "source": [
    "where"
   ]
  },
  {
   "cell_type": "markdown",
   "metadata": {},
   "source": [
    "$$k_\\infty = \\frac{1}{a},$$"
   ]
  },
  {
   "cell_type": "markdown",
   "metadata": {},
   "source": [
    "$$L = \\sqrt{\\frac{k_\\infty b}{\\pi^2}},$$"
   ]
  },
  {
   "cell_type": "markdown",
   "metadata": {},
   "source": [
    "and"
   ]
  },
  {
   "cell_type": "markdown",
   "metadata": {},
   "source": [
    "$$d = -\\frac{k_\\infty c}{2 L^2 \\pi^2}.$$"
   ]
  },
  {
   "cell_type": "markdown",
   "metadata": {},
   "source": [
    "Once these variables are all known, the critical radius, $R_\\mathrm{crit}$ can be determined as follows:"
   ]
  },
  {
   "cell_type": "markdown",
   "metadata": {},
   "source": [
    "$$R_\\mathrm{crit} = \\sqrt{\\frac{L^2 \\pi^2}{k_\\infty - 1}} - d.$$"
   ]
  },
  {
   "cell_type": "markdown",
   "metadata": {},
   "source": [
    "Knowing this, we will will first define our expiermental data in $\\texttt{Python}$."
   ]
  },
  {
   "cell_type": "code",
   "execution_count": 3,
   "metadata": {},
   "outputs": [],
   "source": [
    "import numpy as np\n",
    "import matplotlib.pyplot as plt\n",
    "%matplotlib inline\n",
    "\n",
    "# Import given data\n",
    "R = np.array([10,12.5,15,20,25,35,36,40,45,50])\n",
    "keff = np.array([0.16,0.23,0.31,0.46,0.60,0.80,0.82,0.87,0.93,0.98])\n",
    "keffinv = np.power(keff,-1)"
   ]
  },
  {
   "cell_type": "markdown",
   "metadata": {},
   "source": [
    "The numpy function $\\tt{linalg.lstsq}$ is then used to preform a least-squared regression on the data. This procedure follows the \"Nonlinear models\" section in Chapter 11. "
   ]
  },
  {
   "cell_type": "code",
   "execution_count": 4,
   "metadata": {},
   "outputs": [
    {
     "name": "stdout",
     "output_type": "stream",
     "text": [
      "The solution is\n",
      "1/k_eff = 0.7925449706176176 + 562.5447946283518 R^-2 + -157.31148820044072 R^-3\n",
      "\n",
      "With a R^2 value of [0.99992049]\n"
     ]
    },
    {
     "name": "stderr",
     "output_type": "stream",
     "text": [
      "/anaconda3/lib/python3.6/site-packages/ipykernel_launcher.py:7: FutureWarning: `rcond` parameter will change to the default of machine precision times ``max(M, N)`` where M and N are the input matrix dimensions.\n",
      "To use the future default and silence this warning we advise to pass `rcond=None`, to keep using the old, explicitly pass `rcond=-1`.\n",
      "  import sys\n"
     ]
    }
   ],
   "source": [
    "# Fill necessary A matrix\n",
    "A = np.ones((R.size,3))\n",
    "A[:,1] = np.power(R,-2)\n",
    "A[:,2] = np.power(R,-3)\n",
    "\n",
    "# Run least-squared regression\n",
    "solution,residuals = np.linalg.lstsq(A,keffinv)[:2]\n",
    "a = solution[0]\n",
    "b = solution[1]\n",
    "c = solution[2]\n",
    "R2 = 1 - residuals/(keffinv.size*keffinv.var())\n",
    "\n",
    "# Print\n",
    "print('The solution is')\n",
    "print('1/k_eff =',a,'+',b,'R^-2 +',c,'R^-3')\n",
    "print('\\nWith a R^2 value of',R2)"
   ]
  },
  {
   "cell_type": "markdown",
   "metadata": {},
   "source": [
    "As seen, the result is a very reasonable $R^2$ value. Next, the solution is plotted as a simple verification (not required)."
   ]
  },
  {
   "cell_type": "code",
   "execution_count": 5,
   "metadata": {},
   "outputs": [
    {
     "data": {
      "image/png": "[encoded data removed]",
      "text/plain": [
       "<Figure size 432x288 with 1 Axes>"
      ]
     },
     "metadata": {},
     "output_type": "display_data"
    }
   ],
   "source": [
    "Rplot = np.linspace(10,50,1000)\n",
    "plt.plot(Rplot,a + b/Rplot**2 + c/Rplot**3,label=\"Regression\")\n",
    "plt.scatter(R,keffinv,label='Experimental data')\n",
    "plt.xlabel(\"$R$\")\n",
    "plt.ylabel(\"1/$k_\\mathrm{eff}$\")\n",
    "plt.legend()\n",
    "plt.show()"
   ]
  },
  {
   "cell_type": "markdown",
   "metadata": {},
   "source": [
    "As expected, the agreement between the regression and the experimental data is excellent."
   ]
  },
  {
   "cell_type": "markdown",
   "metadata": {},
   "source": [
    "The desired values of $k_\\infty$, $L$, $d$, and $R_\\mathrm{crit}$ are then determined. Note that the values of $L$, $d$, and $R_\\mathrm{crit}$ have arbitrary units of length."
   ]
  },
  {
   "cell_type": "code",
   "execution_count": 6,
   "metadata": {},
   "outputs": [
    {
     "name": "stdout",
     "output_type": "stream",
     "text": [
      "k_inf = 1.2617580542094866\n",
      "L = 8.480407575885692\n",
      "d = 0.13982129930147996\n",
      "R_crit = 51.933655013086444\n"
     ]
    }
   ],
   "source": [
    "# Determined desired values\n",
    "kinf = 1/a\n",
    "L = np.sqrt(kinf*b/np.pi**2)\n",
    "d = -kinf*c/(2*L**2*np.pi**2)\n",
    "R_crit = np.sqrt((L**2*np.pi**2)/(kinf-1)) - d\n",
    "\n",
    "# Print\n",
    "print('k_inf =',kinf)\n",
    "print('L =',L)\n",
    "print('d =',d)\n",
    "print('R_crit =',R_crit)"
   ]
  },
  {
   "cell_type": "markdown",
   "metadata": {},
   "source": [
    "From these values, it can be determined that the assumption $d \\ll R$ is valid."
   ]
  },
  {
   "cell_type": "markdown",
   "metadata": {},
   "source": [
    "## Model without a constant"
   ]
  },
  {
   "cell_type": "markdown",
   "metadata": {},
   "source": [
    "It does not always make sense to have a constant in a linear model. What the constant indicates is the value of the dependent variable when all the dependent variables are zero. One example of a model where this is the case is the temperature coefficient of reactivity for a nuclear system. This coefficient, denoted by $\\alpha$, given by"
   ]
  },
  {
   "cell_type": "markdown",
   "metadata": {},
   "source": [
    "$$\\Delta \\rho = \\alpha \\Delta T,$$"
   ]
  },
  {
   "cell_type": "markdown",
   "metadata": {},
   "source": [
    "where $T$ is the temperature of the system and $\\Delta T$ is the difference between the current temperature and the point where the reactivity $\\rho$ is 0. The reactivity is given by"
   ]
  },
  {
   "cell_type": "markdown",
   "metadata": {},
   "source": [
    "$$\\rho = \\frac{k-1}{k}.$$"
   ]
  },
  {
   "cell_type": "markdown",
   "metadata": {},
   "source": [
    "Your task is to find $\\alpha$ using the data below by fitting a model without a constant. To do this you have to modify the data matrix in the least squares procedure. Report $R^2$ for your model."
   ]
  },
  {
   "cell_type": "markdown",
   "metadata": {},
   "source": [
    "## Solution"
   ]
  },
  {
   "cell_type": "markdown",
   "metadata": {},
   "source": [
    "The point at which the reactivity $\\rho$ is 0 is at $k_\\mathrm{eff} = 1$. We will use simple interpolation between the first two data points to find an approximate temperature at which this is true:"
   ]
  },
  {
   "cell_type": "markdown",
   "metadata": {},
   "source": [
    "$$T\\rvert_{\\rho = 0} = T_0 + \\frac{T_1 - T_0}{k_\\mathrm{eff,1} - k_\\mathrm{eff,0}} \\Big(k_\\mathrm{eff,0} - 1\\Big).$$"
   ]
  },
  {
   "cell_type": "code",
   "execution_count": 7,
   "metadata": {},
   "outputs": [
    {
     "name": "stdout",
     "output_type": "stream",
     "text": [
      "T_rho0 = 297.79411764705975\n"
     ]
    }
   ],
   "source": [
    "import numpy as np\n",
    "import matplotlib.pyplot as plt\n",
    "\n",
    "# Define given data\n",
    "keff = np.array([1.002145,0.999901,0.998032,0.996076,\n",
    "                 0.994055,0.992329])\n",
    "T = np.array([250,300,350,400,450,500])\n",
    "\n",
    "# Interpolate temperature where reactivity is 0\n",
    "T_rho0 = T[1] - (T[1]-T[0])/(keff[1]-keff[0])*(keff[1]-1)\n",
    "print('T_rho0 =',T_rho0)"
   ]
  },
  {
   "cell_type": "markdown",
   "metadata": {},
   "source": [
    "Once the temperature at which $\\rho = 0$ is determined, the individual values of $\\Delta \\rho$ and $\\Delta T$ are then determined. A least squares procedure is then used to determine an appropriate value of $\\alpha$."
   ]
  },
  {
   "cell_type": "code",
   "execution_count": 8,
   "metadata": {},
   "outputs": [
    {
     "name": "stdout",
     "output_type": "stream",
     "text": [
      "alpha = -3.940900073931034e-05 K^-1\n",
      "R^2 = [0.99908071]\n"
     ]
    },
    {
     "name": "stderr",
     "output_type": "stream",
     "text": [
      "/anaconda3/lib/python3.6/site-packages/ipykernel_launcher.py:8: FutureWarning: `rcond` parameter will change to the default of machine precision times ``max(M, N)`` where M and N are the input matrix dimensions.\n",
      "To use the future default and silence this warning we advise to pass `rcond=None`, to keep using the old, explicitly pass `rcond=-1`.\n",
      "  \n"
     ]
    }
   ],
   "source": [
    "# Determine delta values and fill A matrix\n",
    "drho = (keff-1)/keff\n",
    "dT = T - T_rho0\n",
    "A = np.ones((drho.size,2))\n",
    "A[:,1] = dT\n",
    "\n",
    "# Solve for solution and residual\n",
    "solution,residuals = np.linalg.lstsq(A,drho)[:2]\n",
    "R2 = 1 - residuals/(drho.size*drho.var())\n",
    "alpha = solution[1]\n",
    "                     \n",
    "# Print\n",
    "print('alpha =',alpha,'K^-1')\n",
    "print('R^2 =',R2)"
   ]
  },
  {
   "cell_type": "markdown",
   "metadata": {},
   "source": [
    "Again, an appropriate value of $R^2$ is found."
   ]
  },
  {
   "cell_type": "markdown",
   "metadata": {},
   "source": [
    "The data is then plotted as an additional form of verification (not required)."
   ]
  },
  {
   "cell_type": "code",
   "execution_count": 9,
   "metadata": {},
   "outputs": [
    {
     "data": {
      "image/png": "[encoded data removed]",
      "text/plain": [
       "<Figure size 432x288 with 1 Axes>"
      ]
     },
     "metadata": {},
     "output_type": "display_data"
    }
   ],
   "source": [
    "# Plot regression and experimental data\n",
    "dTplot = np.linspace(dT.min(),dT.max(),100)\n",
    "plt.plot(dTplot,alpha*dTplot,label=\"Regression\")\n",
    "plt.scatter(dT,drho,label='Experimental data')\n",
    "plt.xlabel(r\"$\\Delta T$\")\n",
    "plt.ylabel(r\"$\\Delta \\rho$\")\n",
    "plt.legend()\n",
    "plt.show()"
   ]
  }
 ],
 "metadata": {
  "kernelspec": {
   "display_name": "Python 3",
   "language": "python",
   "name": "python3"
  },
  "language_info": {
   "codemirror_mode": {
    "name": "ipython",
    "version": 3
   },
   "file_extension": ".py",
   "mimetype": "text/x-python",
   "name": "python",
   "nbconvert_exporter": "python",
   "pygments_lexer": "ipython3",
   "version": "3.6.8"
  }
 },
 "nbformat": 4,
 "nbformat_minor": 1
}
