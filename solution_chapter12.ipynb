{
 "cells": [
  {
   "cell_type": "markdown",
   "metadata": {},
   "source": [
    "## 12.1\n",
    "Find a root of $\\cos x$ using the three methods discussed in this section and an initial interval of $[0,10]$. Compare the solutions and the number of iterations to find the root for each method."
   ]
  },
  {
   "cell_type": "markdown",
   "metadata": {},
   "source": [
    "## Solution"
   ]
  },
  {
   "cell_type": "markdown",
   "metadata": {},
   "source": [
    "The needed functions $\\texttt{bisection}$, $\\texttt{false\\_position}$, and $\\texttt{ridder}$ are defined in the file $\\texttt{ch12.py}$ and imported as such. It is also acceptable to copy and paste the functions directly in the code."
   ]
  },
  {
   "cell_type": "markdown",
   "metadata": {},
   "source": [
    "$\\texttt{lambda}$ function is used to define $cos~x$ as an input to the root finding methods. Each method is then executed for the range $[0,10]$ and the results printed."
   ]
  },
  {
   "cell_type": "code",
   "execution_count": null,
   "metadata": {},
   "outputs": [],
   "source": [
    "import numpy as np\n",
    "from ch12 import *\n",
    "\n",
    "# Define lambda function for cos(x)\n",
    "cos = lambda x: np.cos(x)\n",
    "\n",
    "# Run bisection method\n",
    "print('Using bisection')\n",
    "rootBi = bisection(cos,0,10)\n",
    "print('Root found is',\"%.7f\" % rootBi)\n",
    "\n",
    "# Run false position method\n",
    "print('\\nUsing false position')\n",
    "rootFalse = false_position(cos,0,10)\n",
    "print('Root found is',\"%.7f\" % rootFalse)\n",
    "\n",
    "# Run ridder method\n",
    "print('\\nUsing ridder')\n",
    "rootRidder = ridder(cos,0,10)\n",
    "print('Root found is',\"%.7f\" % rootRidder)"
   ]
  },
  {
   "cell_type": "markdown",
   "metadata": {},
   "source": [
    "As expected, each method found the last root of the function on $[0,10]$. The false position method preformed with a significantly fewer amount of iterations, and all roots were the same to within 6 significant figures."
   ]
  },
  {
   "cell_type": "markdown",
   "metadata": {},
   "source": [
    "## 2-D Heat Equation Optimization"
   ]
  },
  {
   "cell_type": "markdown",
   "metadata": {},
   "source": [
    "Previously, we gave code to solve the heat equation:"
   ]
  },
  {
   "cell_type": "markdown",
   "metadata": {},
   "source": [
    "$$-k \\nabla^2 T = q, \\qquad \\text{for } x \\in [0,L_x]\\quad y\\in[0,L_y].$$"
   ]
  },
  {
   "cell_type": "markdown",
   "metadata": {},
   "source": [
    "With the boundary condition"
   ]
  },
  {
   "cell_type": "markdown",
   "metadata": {},
   "source": [
    "$$T(x,y) = 0 \\qquad \\text{for } x,y \\text{ on the boundary}.$$"
   ]
  },
  {
   "cell_type": "markdown",
   "metadata": {},
   "source": [
    "You have been tasked to determine what value of $k$ will make the maximum temperature equal to 3 when $L_x = L_y = 1$ and the source, $q$, is given by"
   ]
  },
  {
   "cell_type": "markdown",
   "metadata": {},
   "source": [
    "$$q = \\begin{cases} 1 & 0.25 \\leq x \\leq 0.75 \\qquad 0.25 \\leq y \\leq 0.75\\\\\n",
    "0 & \\text{otherwise}\\end{cases}.$$"
   ]
  },
  {
   "cell_type": "markdown",
   "metadata": {},
   "source": [
    "Your particular tasks are as follows:"
   ]
  },
  {
   "cell_type": "markdown",
   "metadata": {},
   "source": [
    "- Define a function called {\\tt max\\_temperature} that finds the maximum value of $T(x)$ in the domain. This function will take as it's only argument $k$.  Inside the function solve the heat equation with $\\Delta x = \\Delta y = 0.025$. The function {\\tt np.max} will be helpful here.\n",
    "- Find the value of $k$ for which the  max temperature  equals 3 using bisection, false position, and Ridder's method. Use an initial interval of $k \\in [0.001, 0.01]$. Remember that the root-finding methods find when a function is equal to 0. You will have to define a function that is equal to 0 when the maximum temperature is equal to 3. How many iterations does each method take?\n",
    "- The Python package, {\\tt time}, has a function {\\tt time.clock()} that returns the system time. Using this function time how long it takes for each method to find the value of $k$ that makes the maximum temperature equal to 3. Which method is the fastest? "
   ]
  },
  {
   "cell_type": "markdown",
   "metadata": {},
   "source": [
    "This problem will demonstrate why it is important to be parsimonious with the number of function evaluations."
   ]
  },
  {
   "cell_type": "markdown",
   "metadata": {},
   "source": [
    "## Solution"
   ]
  },
  {
   "cell_type": "markdown",
   "metadata": {},
   "source": [
    "First, we must use define the conjugate gradient solver."
   ]
  },
  {
   "cell_type": "code",
   "execution_count": null,
   "metadata": {},
   "outputs": [],
   "source": [
    "import numpy as np\n",
    "import math\n",
    "import time\n",
    "import warnings\n",
    "from ch12 import *\n",
    "warnings.filterwarnings(\"ignore\")\n",
    "\n",
    "# CG solver from Chapter 9\n",
    "def CG(A,b, x0=np.array([]),tol=1.0e-6,max_iterations=100,LOUD=False):\n",
    "    \"\"\"Solve a linear system by Conjugate Gradient\n",
    "    Note: system must be SPD\n",
    "    Args:\n",
    "        A: N by N array\n",
    "        b: array of length N\n",
    "        x0: initial guess (if none given will be random)\n",
    "        tol: Relative L2 norm tolerance for convergence\n",
    "        max_iterations: maximum number of iterations\n",
    "    Returns:\n",
    "        The approximate solution to the linear system\n",
    "    \"\"\"\n",
    "    \n",
    "    # Create empty variable for residuals\n",
    "    residuals = np.array([])\n",
    "    [Nrow, Ncol] = A.shape\n",
    "    assert Nrow == Ncol\n",
    "    N = Nrow\n",
    "    converged = False\n",
    "    iteration = 1\n",
    "    if (x0.size==0):\n",
    "        x = np.random.rand(N) #random initial guess\n",
    "    else:\n",
    "        x = x0\n",
    "    r = b - np.dot(A,x)\n",
    "    s = r.copy()\n",
    "    while not(converged):\n",
    "        denom = np.dot(s, np.dot(A,s))\n",
    "        alpha = np.dot(s,r)/denom\n",
    "        x = x + alpha*s\n",
    "        r = b - np.dot(A,x)\n",
    "        beta = - np.dot(r,np.dot(A,s))/denom\n",
    "        s = r + beta * s\n",
    "        relative_change = np.linalg.norm(r)\n",
    "        residuals = np.append(residuals,relative_change)\n",
    "        if (LOUD):\n",
    "            print(\"Iteration\",iteration,\": Relative Change =\",relative_change)\n",
    "        if (relative_change < tol) or (iteration >= max_iterations):\n",
    "            converged = True\n",
    "        iteration += 1\n",
    "    return x   "
   ]
  },
  {
   "cell_type": "markdown",
   "metadata": {},
   "source": [
    "A function is then made  which takes as its only input the thermal conductivity and solves the array using $\\texttt{CG}$. The numpy object $\\texttt{max()}$ is then used on the variable $\\texttt{x}$ in order to determine the max value in the array."
   ]
  },
  {
   "cell_type": "code",
   "execution_count": null,
   "metadata": {},
   "outputs": [],
   "source": [
    "def max_temperature(k):\n",
    "    \"\"\"Solves for the temperature distribution in a simple\n",
    "    square mesh and returns the maximum temperature in the\n",
    "    domain\n",
    "    Args:\n",
    "        k: thermal conductivity\n",
    "    Returns:\n",
    "        The approximate maximum temperature\n",
    "    \"\"\"\n",
    "    delta = 0.025;\n",
    "    L = 1.0;\n",
    "    ndim = int(round(L/delta))\n",
    "    nCells = ndim*ndim;\n",
    "    A = np.zeros((nCells,nCells));\n",
    "    b = np.zeros(nCells)\n",
    "    #save us some work for later\n",
    "    idelta2 = 1.0/(delta*delta);\n",
    "\n",
    "    #now fill in A and b\n",
    "    for cellVar in range(nCells):\n",
    "        xCell = cellVar % ndim; #x % y means x modulo y\n",
    "        yCell = (cellVar-xCell)//ndim;\n",
    "        xVal = xCell*delta + 0.5*delta;\n",
    "        yVal = yCell*delta + 0.5*delta;\n",
    "        #put source only in the middle of the problem\n",
    "        if ( ( math.fabs(xVal - L*0.5) < .25*L) and ( math.fabs(yVal - L*0.5) < .25*L) ):\n",
    "            b[cellVar] = 1;\n",
    "        #end if\n",
    "\n",
    "        A[cellVar,cellVar] = 4.0*k*idelta2;\n",
    "\n",
    "        if (xCell > 0):\n",
    "            A[cellVar,ndim*yCell + xCell -1] = -k*idelta2;\n",
    "        if (xCell < ndim-1):\n",
    "            A[cellVar,ndim*yCell + xCell + 1] = -k*idelta2;\n",
    "        if (yCell > 0):\n",
    "            A[cellVar,ndim*(yCell-1) + xCell] = -k*idelta2;\n",
    "        if (yCell < ndim-1):\n",
    "            A[cellVar,ndim*(yCell+1) + xCell] = -k*idelta2;\n",
    "\n",
    "    if (nCells <= 20):\n",
    "        #print the matrix\n",
    "        print(\"The A matrix in Ax = b is\\n\",A)\n",
    "\n",
    "        #print the righthand side\n",
    "        print(\"The RHS is\",b)\n",
    "\n",
    "    x = CG(A,b,LOUD=False,max_iterations=1000)\n",
    "    \n",
    "    return x.max()"
   ]
  },
  {
   "cell_type": "markdown",
   "metadata": {},
   "source": [
    "As root-finding methods search for the roots where the function is 0, a lambda function is defined as follows as input for the root-finding functions:"
   ]
  },
  {
   "cell_type": "markdown",
   "metadata": {},
   "source": [
    "$$0 = 3.0 - T_\\mathrm{max}(k).$$"
   ]
  },
  {
   "cell_type": "markdown",
   "metadata": {},
   "source": [
    "The three root-finding methods defined in chapter 12 are then ran within the defined range for k, $[0.001,0.02]$. The Python $\\texttt{time}$ library is used to determine the time that each set method takes."
   ]
  },
  {
   "cell_type": "code",
   "execution_count": null,
   "metadata": {},
   "outputs": [],
   "source": [
    "# Define function to be iterated for roots\n",
    "desiredtemp = lambda k: 3.0 - max_temperature(k)\n",
    "\n",
    "# Define bounds for root iteration\n",
    "k0 = 0.001\n",
    "kf = 0.02\n",
    "\n",
    "# Run bisection method\n",
    "print('Using bisection')\n",
    "start = time.clock()\n",
    "rootBi = bisection(desiredtemp,k0,kf)\n",
    "stop = time.clock()\n",
    "timeBi = stop - start\n",
    "print('Root found is',\"%.7f\" % rootBi)\n",
    "print('It took',\"%.2f\" % timeBi,\"sec\")\n",
    "\n",
    "# Run false position method\n",
    "print('\\nUsing false position')\n",
    "start = time.clock()\n",
    "rootFalse = false_position(desiredtemp,k0,kf)\n",
    "stop = time.clock()\n",
    "timeFalse = stop - start\n",
    "print('Root found is',\"%.7f\" % rootFalse)\n",
    "print('It took',\"%.2f\" % timeFalse,\"sec\")\n",
    "\n",
    "# Run ridder method\n",
    "print('\\nUsing Ridder')\n",
    "start = time.clock()\n",
    "rootRidder = ridder(desiredtemp,k0,kf)\n",
    "stop = time.clock()\n",
    "timeRidder = stop - start\n",
    "print('Root found is',\"%.7f\" % rootRidder)\n",
    "print('It took',\"%.2f\" % timeRidder,\"sec\")"
   ]
  },
  {
   "cell_type": "markdown",
   "metadata": {},
   "source": [
    "In examination of the time study above, it is seen that the false position method performed poorly compared to the other two methods.  Of interest is that while Ridder's method only took 4 iterations, it was actually only a little faster than the bisection method. From the three methods, it was determined that the value of $k$ that results in a maximum temperature of 3 is 0.0514129."
   ]
  },
  {
   "cell_type": "code",
   "execution_count": null,
   "metadata": {},
   "outputs": [],
   "source": []
  }
 ],
 "metadata": {
  "kernelspec": {
   "display_name": "Python 3",
   "language": "python",
   "name": "python3"
  },
  "language_info": {
   "codemirror_mode": {
    "name": "ipython",
    "version": 3
   },
   "file_extension": ".py",
   "mimetype": "text/x-python",
   "name": "python",
   "nbconvert_exporter": "python",
   "pygments_lexer": "ipython3",
   "version": "3.6.8"
  }
 },
 "nbformat": 4,
 "nbformat_minor": 1
}
