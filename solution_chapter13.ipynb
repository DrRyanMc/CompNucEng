{
 "cells": [
  {
   "cell_type": "markdown",
   "metadata": {},
   "source": [
    "## 13.1 \n",
    "Apply Newton's method to the function $f(x) = (1-x)^2 + 100(1-x^2)^2=0$, using the initial guess of $2.5$. "
   ]
  },
  {
   "cell_type": "markdown",
   "metadata": {},
   "source": [
    "## Solution"
   ]
  },
  {
   "cell_type": "markdown",
   "metadata": {},
   "source": [
    "In order to use Newton's method, we must know the derivative of $f(x)$:"
   ]
  },
  {
   "cell_type": "markdown",
   "metadata": {},
   "source": [
    "$$f'(x) = 400 x^3 - 398x - 2.$$"
   ]
  },
  {
   "cell_type": "markdown",
   "metadata": {},
   "source": [
    "$f(x)$ and $f'(x)$ are then defined using a $\\texttt{lambda}$ function. The Newton's method solver, $\\texttt{newton}$, found in Chapter 13 is then ran and the root approximated."
   ]
  },
  {
   "cell_type": "markdown",
   "metadata": {},
   "source": [
    "The python file $\\texttt{ch13.py}$ contains all of functions found in Chapter 13 and is imported for them to be used. It is also acceptable to paste the needed functions manually."
   ]
  },
  {
   "cell_type": "code",
   "execution_count": null,
   "metadata": {},
   "outputs": [],
   "source": [
    "# Define f(x) and f'(x)\n",
    "f = lambda x: (1-x)**2 + 100*(1-x**2)**2\n",
    "f1 = lambda x: 400*x**3 - 398*x - 2\n",
    "\n",
    "# Import functions from chapter 13\n",
    "from ch13 import *\n",
    "\n",
    "# Solve for root and print\n",
    "root = newton(f,f1,2.5)\n",
    "print('The root found is',root)"
   ]
  },
  {
   "cell_type": "markdown",
   "metadata": {},
   "source": [
    "## Roots of the Bessel Function\n",
    "Consider the Bessel function of the first kind defined by"
   ]
  },
  {
   "cell_type": "markdown",
   "metadata": {},
   "source": [
    "$$ J_\\alpha(x) = \\sum_{m=0}^\\infty \\frac{(-1)^m}{m! \\, \\Gamma(m+\\alpha+1)} {\\left(\\frac{x}{2}\\right)}^{2m+\\alpha}.  $$"
   ]
  },
  {
   "cell_type": "markdown",
   "metadata": {},
   "source": [
    "- Write a Python code that prompts the user asks if they want to use bisection or Newton's method. Then the user enters an initial guess or initial range depending on the method selected. \n",
    "- Using the input find a root to $J_0$.  Each iteration print out to the user the value of $J_0(x)$ for the current guess and the change in the guess.\n",
    "- For testing, there is a root at $x \\approx 2.4048$. Also, {\\tt math.gamma(x)}, will give you $\\Gamma(x)$."
   ]
  },
  {
   "cell_type": "markdown",
   "metadata": {},
   "source": [
    "## Solution"
   ]
  },
  {
   "cell_type": "markdown",
   "metadata": {},
   "source": [
    "First, a function is defined that returns the value of $J_\\alpha(x)$ to be used as an input for the root-finding methods. Note that"
   ]
  },
  {
   "cell_type": "markdown",
   "metadata": {},
   "source": [
    "$$\\frac{d}{dx} J_\\alpha(x) = -J_{\\alpha+1}(x),$$"
   ]
  },
  {
   "cell_type": "markdown",
   "metadata": {},
   "source": [
    "therefore we must also define a function for $-J_1(x)$ as the input for the derivative for Newton's method.$\\br$"
   ]
  },
  {
   "cell_type": "markdown",
   "metadata": {},
   "source": [
    "As the definition for both cases includes an infinite integral, it is a reasonable approximation to instead use a finite integral to a reasonably large value.$\\br$"
   ]
  },
  {
   "cell_type": "code",
   "execution_count": null,
   "metadata": {},
   "outputs": [],
   "source": [
    "import numpy as np\n",
    "import math\n",
    "\n",
    "# Define a function for J_0\n",
    "def J_0(x, M = 100):\n",
    "    \"\"\"Order zero Bessel function of the first-kind\n",
    "    evaluated at x\n",
    "    Inputs:\n",
    "        alpha:  value of alpha\n",
    "        x:      point to evaluate Bessel function at\n",
    "        M:      number of terms to include in sum\n",
    "    Returns:\n",
    "        J_0(x)\n",
    "    \"\"\"\n",
    "    total = 0.0\n",
    "    for m in range(M):\n",
    "        total += (-1)**m/(math.factorial(m)*math.gamma(m+1))*(0.5*x)**(2*m)\n",
    "    return total \n",
    "\n",
    "# Define a function for J_0prime\n",
    "def J_0prime(x, M = 100):\n",
    "    \"\"\"Derivative of the order zero Bessel function\n",
    "    of the first-kind evaluated at x\n",
    "    Inputs:\n",
    "        alpha:  value of alpha\n",
    "        x:      point to evaluate Bessel function at\n",
    "        M:      number of terms to include in sum\n",
    "    Returns:\n",
    "        J_0'(x)\n",
    "    \"\"\"\n",
    "    total = 0.0\n",
    "    for m in range(M):\n",
    "        total += -(-1)**m/(math.factorial(m)*math.gamma(m+2))*(0.5*x)**(2*m+1)\n",
    "    return total "
   ]
  },
  {
   "cell_type": "markdown",
   "metadata": {},
   "source": [
    "$\\br$The $\\texttt{bisection}$ function from Chapter 12 is copied and modified to print the results between iterations.$\\br$"
   ]
  },
  {
   "cell_type": "code",
   "execution_count": null,
   "metadata": {},
   "outputs": [],
   "source": [
    "def bisectionNew(f,a,b,epsilon=1.0e-6):\n",
    "    \"\"\"Find the root of the function f via bisection where the root lies within [a,b]\n",
    "    Args:\n",
    "        f: function to find root of\n",
    "        a: left-side of interval\n",
    "        b: right-side of interval\n",
    "        epsilon: tolerance\n",
    "    Returns:\n",
    "        estimate of root\n",
    "    \"\"\"\n",
    "\n",
    "    assert (b>a)\n",
    "    assert (f(a)*f(b) < 0)\n",
    "    delta = b - a\n",
    "    print(\"We expect\",int(np.ceil(np.log(delta/epsilon)/np.log(2))),\"iterations\")\n",
    "    iterations = 0\n",
    "    cOld = 0\n",
    "    print('\\n    f(guess)\\t    Change in guess') # table header\n",
    "    while (delta > epsilon):\n",
    "        c = (a+b)*0.5\n",
    "        change = cOld - c\n",
    "        if (f(a)*f(c) < 0):\n",
    "            b = c\n",
    "        elif (f(b)*f(c) < 0):\n",
    "            a=c\n",
    "        else:\n",
    "            return c\n",
    "        delta = b-a\n",
    "        iterations += 1\n",
    "        if(iterations == 1):\n",
    "            print(iterations,\"  %.6e\" % f(c)) # print initial guess\n",
    "        else:\n",
    "            print(iterations,\"  %.6e\" % f(c),\"       %.6e\" % change) # print guess w/ change\n",
    "        cOld = c\n",
    "    print(\"\\nIt took\",iterations,\"iterations\")\n",
    "    return c #return midpoint of interval"
   ]
  },
  {
   "cell_type": "markdown",
   "metadata": {},
   "source": [
    "$\\br$The $\\texttt{newton}$ function from Chapter 13 is also copied and modified to print the results between iterations.$\\br$"
   ]
  },
  {
   "cell_type": "code",
   "execution_count": null,
   "metadata": {},
   "outputs": [],
   "source": [
    "def newtonNew(f,fprime,x0,epsilon=1.0e-6, LOUD=False):\n",
    "    \"\"\"Find the root of the function f via Newton-Raphson method\n",
    "    Args:\n",
    "        f: function to find root of\n",
    "        fprime: derivative of f\n",
    "        x0: initial guess\n",
    "        epsilon: tolerance\n",
    "        \n",
    "    Returns:\n",
    "        estimate of root\n",
    "    \"\"\"\n",
    "    x = x0\n",
    "    if (LOUD):\n",
    "        print(\"x0 =\",x0)\n",
    "    iterations = 0\n",
    "    print('\\n    f(guess)\\t  Change in guess') # table header\n",
    "    while (np.fabs(f(x)) > epsilon):\n",
    "        xOld = x\n",
    "        if (LOUD):\n",
    "            print(\"x_\",iterations+1,\"=\",x,\"-\",f(x),\"/\",fprime(x),\"=\",x - f(x)/fprime(x))\n",
    "        x = x - f(x)/fprime(x)\n",
    "        iterations += 1\n",
    "        change = x - xOld\n",
    "        print(iterations,\"  %.6e\" % f(xOld),\"      %.6e\" % change) # print iteration\n",
    "    print(\"\\nIt took\",iterations,\"iterations\")\n",
    "    return x #return estimate of root"
   ]
  },
  {
   "cell_type": "markdown",
   "metadata": {},
   "source": [
    "$\\br$A simple function, $\\texttt{findRoot}$ is then defined that asks the user for the desired root-finding method. It then asks the user for the necessary inputs for each root-finding method and executes the necessary function.$\\br$"
   ]
  },
  {
   "cell_type": "code",
   "execution_count": null,
   "metadata": {},
   "outputs": [],
   "source": [
    "def findRoot():\n",
    "    \"\"\"Finds a root of the order zero Bessel function\n",
    "    using either Newton's method or the method of\n",
    "    bisection\n",
    "    Args:\n",
    "       None, inputs are done using input function \n",
    "    Returns:\n",
    "        estimate of root\n",
    "    \"\"\"\n",
    "    # Ask for method\n",
    "    method = input('Enter a method (newton/bisection): ')\n",
    "    \n",
    "    # Newton's method\n",
    "    if method == \"newton\":\n",
    "        \n",
    "        # Ask for initial guess\n",
    "        print(\"\\nUsing Newton's method\")\n",
    "        guess = float(input('Enter an initial guess: '))\n",
    "        \n",
    "        # Calculate the root\n",
    "        root = newtonNew(J_0,J_0prime,guess)\n",
    "    \n",
    "    # Bisection method\n",
    "    elif method == \"bisection\":\n",
    "    \n",
    "        # Ask for bounds\n",
    "        print(\"Using bisecton method\")\n",
    "        a = float(input('\\nEnter a bound to the left: '))\n",
    "        b = float(input('Enter a bound to the right: '))\n",
    "        \n",
    "        # Calculate the root\n",
    "        root = bisectionNew(J_0,a,b)\n",
    "    \n",
    "    # User you wrong\n",
    "    else:\n",
    "        \n",
    "        print(method,\"is not a proper method\")\n",
    "        \n",
    "    return root"
   ]
  },
  {
   "cell_type": "markdown",
   "metadata": {},
   "source": [
    "$\\br$First, we will test it with the method of bisection.$\\br$"
   ]
  },
  {
   "cell_type": "code",
   "execution_count": null,
   "metadata": {},
   "outputs": [],
   "source": [
    "# Test with bisection\n",
    "rootBi = findRoot()\n",
    "print('\\nThe result is',\"%.6f\" % rootBi)"
   ]
  },
  {
   "cell_type": "markdown",
   "metadata": {},
   "source": [
    "$\\br$And second, the function is tested with Newton's method.$\\br$"
   ]
  },
  {
   "cell_type": "code",
   "execution_count": null,
   "metadata": {},
   "outputs": [],
   "source": [
    "# Test with newton\n",
    "rootNewton = findRoot()\n",
    "print('\\nThe result is',\"%.7f\" % rootNewton)"
   ]
  },
  {
   "cell_type": "markdown",
   "metadata": {},
   "source": [
    "Unfortunately, there is not a way to reasonably compare the timing between both methods, as they take very different inputs. However, it is clearly seen that both methods ended with the expected result."
   ]
  }
 ],
 "metadata": {
  "kernelspec": {
   "display_name": "Python 3",
   "language": "python",
   "name": "python3"
  },
  "language_info": {
   "codemirror_mode": {
    "name": "ipython",
    "version": 3
   },
   "file_extension": ".py",
   "mimetype": "text/x-python",
   "name": "python",
   "nbconvert_exporter": "python",
   "pygments_lexer": "ipython3",
   "version": "3.6.8"
  }
 },
 "nbformat": 4,
 "nbformat_minor": 1
}
