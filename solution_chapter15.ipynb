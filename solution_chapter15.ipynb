{
 "cells": [
  {
   "cell_type": "markdown",
   "metadata": {},
   "source": [
    "## Short Exercises \n",
    "Using the trapezoid rule and Simpson's rule estimate the following integrals with the following number of intervals: $2,4,8,16,\\dots, 512$."
   ]
  },
  {
   "cell_type": "markdown",
   "metadata": {},
   "source": [
    "- $\\int_0^{\\pi/2} e^{\\sin x} \\,dx \\approx ~3.104379017855555098181$\n",
    "- $\\int_0^{2.405} J_0(x) dx  \\approx 1.470300035485$, where $J_0(x)$ is a Bessel function of the first kind given by $$ J_\\alpha(x) = \\sum_{m=0}^\\infty \\frac{(-1)^m}{m! \\, \\Gamma(m+\\alpha+1)} {\\left(\\frac{x}{2}\\right)}^{2m+\\alpha}.  $$ "
   ]
  },
  {
   "cell_type": "markdown",
   "metadata": {},
   "source": [
    "## Solution"
   ]
  },
  {
   "cell_type": "markdown",
   "metadata": {},
   "source": [
    "The file $\\texttt{ch15.py}$ contains all of the functions contained in the Chapter 15 notes. It will be imported in order to use the $\\texttt{trapezoid}$ and $\\texttt{simpsons}$ functions. It is also acceptable to paste the functions individually.\n",
    "\n",
    "- We will then define the endpoints $\\texttt{a}$ and $\\texttt{b}$ for each part, and the function $\\texttt{f}$ to be integrated for each part. In addition, the variable $\\texttt{intervals}$ is defined to store the intervals we want to solve for.\n",
    "\n",
    "- The functions are then iterated and printed."
   ]
  },
  {
   "cell_type": "code",
   "execution_count": null,
   "metadata": {},
   "outputs": [],
   "source": [
    "import numpy as np\n",
    "import math\n",
    "from ch15 import *\n",
    "\n",
    "# Define array of intervals\n",
    "intervals = np.array([2,4,8,16,32,64,128,256,512])\n",
    "\n",
    "# Define bounds and function for part a\n",
    "f = lambda x: np.exp(np.sin(x))\n",
    "a = 0\n",
    "b = np.pi/2\n",
    "\n",
    "# Calculate for part a and print\n",
    "print('Estimating int_0^pi/2 of e^sin(x) dx\\n')\n",
    "print(\"\\t Trapezoid\\t\\t Simpson's\")\n",
    "i = 0\n",
    "for pieces in intervals:\n",
    "    ansTrap = trapezoid(f,a,b,pieces)\n",
    "    ansSimp = simpsons(f,a,b,pieces)\n",
    "    print(intervals[i],\"\\t %.15f\" % ansTrap,\"\\t %.15f\" % ansSimp)\n",
    "    i += 1\n",
    "    \n",
    "# Define bounds and function for part b\n",
    "def f(x, M = 100):\n",
    "    \"\"\"Order zero Bessel function of the first-kind\n",
    "    evaluated at x\n",
    "    Inputs:\n",
    "        alpha:  value of alpha\n",
    "        x:      point to evaluate Bessel function at\n",
    "        M:      number of terms to include in sum\n",
    "    Returns:\n",
    "        J_0(x)\n",
    "    \"\"\"\n",
    "    total = 0.0\n",
    "    for m in range(M):\n",
    "        total += (-1)**m/(math.factorial(m)*math.gamma(m+1))*(0.5*x)**(2*m)\n",
    "    return total \n",
    "a = 0\n",
    "b = 2.405\n",
    "\n",
    "# Calculate for part b and print\n",
    "print('\\nEstimating int_0^2.405 of J_0(x) dx\\n')\n",
    "print(\"\\t Trapezoid\\t\\t Simpson's\")\n",
    "i = 0\n",
    "for pieces in intervals:\n",
    "    ansTrap = trapezoid(f,a,b,pieces)\n",
    "    ansSimp = simpsons(f,a,b,pieces)\n",
    "    print(intervals[i],\"\\t %.12f\" % ansTrap,\"\\t %.12f\" % ansSimp)\n",
    "    i += 1"
   ]
  },
  {
   "cell_type": "markdown",
   "metadata": {},
   "source": [
    "As expected, the answers converge to the exact integral."
   ]
  },
  {
   "cell_type": "markdown",
   "metadata": {},
   "source": [
    "## Inverse Fourier Transform"
   ]
  },
  {
   "cell_type": "markdown",
   "metadata": {},
   "source": [
    "Consider the neutron diffusion equation in slab geometry an infinite, homogeneous medium given by \n",
    "\n",
    "$$-D \\frac{d^2}{dx^2}\\phi(x) + \\Sigma_\\mathrm{a} \\phi(x) = \\delta(x),$$\n",
    "\n",
    "where $\\delta(x)$ is the Dirac delta function. This source is equivalent to a planar source inside the slab at $x=0$.  One way to solve this problem is to use a Fourier transform.  The Fourier transform of a function can be defined by\n",
    "\n",
    "$$\\mathcal{F}\\{ f(x)\\}= \\hat{f}(k) = \\frac{1}{\\sqrt{2\\pi}} \\int\\limits_{-\\infty}^\\infty dx\\, f(x) (\\cos kx - i \\sin kx).$$\n",
    "\n",
    "The Fourier transform of the  diffusion equation above is \n",
    "\n",
    "$$(D k^2+ \\Sigma_\\mathrm{a}) \\hat{\\phi}  = \\frac{1}{\\sqrt{2\\pi}}.$$\n",
    "\n",
    "We can solve this equation for $\\hat{\\phi}(k)$, and then apply the inverse Fourier transform:\n",
    "\n",
    "$$\\mathcal{F}^{-1}\\{ \\hat{f}(k)\\}= {f}(x) = \\frac{1}{\\sqrt{2\\pi}} \\int\\limits_{-\\infty}^\\infty dk\\, \\hat{f}(k) (\\cos kx + i \\sin kx).$$\n",
    "\n",
    "This leads to the solution being defined by \n",
    "\n",
    "$$\\phi(x) =  \\int\\limits_{-\\infty}^\\infty  \\frac{\\cos kx\\,dk}{{2\\pi} (D k^2 + \\Sigma_\\mathrm{a})}  + i  \\int\\limits_{-\\infty}^\\infty  \\frac{\\sin kx\\,dk}{{2\\pi} (D k^2 + \\Sigma_\\mathrm{a})}  .$$\n",
    "\n",
    "The imaginary part of $\\phi$ is  zero because $\\phi$ is real. You can see that this is so because the integrand of the imaginary part is odd and the integral is symmetric about 0.\n",
    "\n",
    "Your task is to compute the value of $\\phi(x)$ at various points using $D = \\Sigma_\\mathrm{a} = 1$. Because you cannot integrate to infinity you will be computing integrals of the form\n",
    "\n",
    "$$\\int\\limits_{-L}^L f(x)\\,dx,$$\n",
    "\n",
    "for large values of $L$."
   ]
  },
  {
   "cell_type": "markdown",
   "metadata": {},
   "source": [
    "- Compute value of $\\phi(x)$ at 256 points in $x \\in [-3,3]$ using Simpson's and the trapezoidal rule with several different numbers of intervals (pieces) in the integration {\\em and} using different endpoints in the integration, $L$. Plot these estimates of $\\phi(x)$.\n",
    "- Plot the error between your estimate of $\\phi(1)$ and the true solution of $\\frac{1}{2} e^{-1}$. Make one graph each for trapezoid and Simpson's rule where the $x$-axis is $h$ and the $y$-axis is the absolute error.  On each plot show a curve for the error decay for $L=10, 1000, 10^5, 10^8.$\n",
    "- Give your best estimate, using numerical integration, for the absorption rate density of neutrons at $x=2.$\n"
   ]
  },
  {
   "cell_type": "markdown",
   "metadata": {},
   "source": [
    "The file $\\texttt{ch15.py}$ contains all of the functions contained in the Chapter 15 notes. It will be imported in order to use the $\\texttt{trapezoid}$ and $\\texttt{simpsons}$ functions. It is also acceptable to paste the functions individually.\n",
    "\n",
    "- First, all necessary constants, the domain of $x$ values, the exact function, intervals, and $L$s to integrate at are defined. Three dimensional arrays, $\\texttt{phiSimp}$ and $\\texttt{phiTrap}$ are defined to store the integrals for each given $L$, interval, and $x$ value.\n",
    "\n",
    "- A set of nested $\\texttt{for}$ loops are then defined to solve for each value as desired. Note that the function for $f(x)$ must be re-defined for each $x$. "
   ]
  },
  {
   "cell_type": "code",
   "execution_count": null,
   "metadata": {},
   "outputs": [],
   "source": [
    "import numpy as np\n",
    "import matplotlib.pyplot as plt\n",
    "from ch15 import *\n",
    "%matplotlib inline\n",
    "# Define given constants\n",
    "D = 1.0\n",
    "Sig_a = 1.0\n",
    "\n",
    "# Define domain\n",
    "points = 256\n",
    "xPoints = np.linspace(-3.0,3.0,points)\n",
    "\n",
    "# Define exact function\n",
    "exact = lambda x: 0.5*np.exp(-np.absolute(x))\n",
    "xExact = exact(xPoints)\n",
    "\n",
    "# Define multiple intervals and endpoints\n",
    "powers = np.array([2,3,4])\n",
    "Ls = 10**powers\n",
    "intervals = 10**powers\n",
    "\n",
    "# Create empty arrays to store approximations of phi\n",
    "phiSimp = np.zeros([Ls.size,intervals.size,xPoints.size])\n",
    "phiTrap = np.zeros([Ls.size,intervals.size,xPoints.size])\n",
    "\n",
    "# Loop through endpoints\n",
    "nL = 0\n",
    "for L in Ls:\n",
    "    # Loop through intervals\n",
    "    nInterval = 0\n",
    "    for interval in intervals:\n",
    "        nx = 0\n",
    "        # Loop through values of x\n",
    "        for x in xPoints:\n",
    "            # Define function for given value of x\n",
    "            f = lambda k: np.cos(k*x)/(2*np.pi*(D*k**2 + Sig_a))\n",
    "            # Solve Simpson's\n",
    "            phiSimp[nL,nInterval,nx] = simpsons(f,-L,L,interval)\n",
    "            # Solve trapezodial\n",
    "            phiTrap[nL,nInterval,nx] = trapezoid(f,-L,L,interval)\n",
    "            # Increment x index\n",
    "            nx += 1\n",
    "        # Increment interval index\n",
    "        nInterval += 1\n",
    "    # Increment L index\n",
    "    nL += 1"
   ]
  },
  {
   "cell_type": "markdown",
   "metadata": {},
   "source": [
    "Now that we have all of the numerical solutions, we will plot them.\n",
    "\n",
    "-Seperate plots are made for each value of $L$, and for each method. A $\\texttt{for}$ loop is used to loop through each value of $L$, and then two plots are made for each loop (one for Simpson's and one for the trapezodial rule). In addition, the exact solution is plotted on each plot as a comparison."
   ]
  },
  {
   "cell_type": "code",
   "execution_count": null,
   "metadata": {},
   "outputs": [],
   "source": [
    "# Loop through each value of L\n",
    "nL = 0\n",
    "for L in Ls:\n",
    "    # Plot for Simpson's for Ls[i]\n",
    "    plt.title(\"Simpson's approximation of $\\phi(x)$ for $L = 10^\" + str(powers[nL]) + \"$\")\n",
    "    plt.xlabel('$x$')\n",
    "    plt.ylabel('$\\phi$')\n",
    "    nInterval = 0\n",
    "    # Plot the line for each set of intervals\n",
    "    for interval in intervals:\n",
    "        plt.plot(xPoints,phiSimp[nL,nInterval,:],label=\"$10^\" + str(powers[nInterval]) + \"$ intervals\")\n",
    "        nInterval += 1\n",
    "    plt.plot(xPoints,xExact,'--',color=\"black\",label=\"Exact solution\")\n",
    "    plt.legend(bbox_to_anchor=(1.05, 1), loc=2, borderaxespad=0.)\n",
    "    plt.show()\n",
    "    \n",
    "    # Plot for trapezoidal for Ls[i]\n",
    "    plt.title(\"Trapezoidal approximation of $\\phi(x)$ for $L = 10^\" + str(powers[nL]) + \"$\")\n",
    "    plt.xlabel('$x$')\n",
    "    plt.ylabel('$\\phi$')\n",
    "    nInterval = 0\n",
    "    # Plot the line for each set of intervals\n",
    "    for interval in intervals:\n",
    "        plt.plot(xPoints,phiTrap[nL,nInterval,:],label=\"$10^\" + str(powers[nInterval]) + \"$ intervals\")\n",
    "        nInterval += 1\n",
    "    plt.plot(xPoints,xExact,'--',color=\"black\",label=\"Exact solution\")\n",
    "    plt.legend(bbox_to_anchor=(1.05, 1), loc=2, borderaxespad=0.)\n",
    "    plt.show()\n",
    "    nL += 1"
   ]
  },
  {
   "cell_type": "markdown",
   "metadata": {},
   "source": [
    "The oscillatory motion can be clearly seen when the number of intervals is low. \n",
    "\n",
    "$\\br$Of interest is that for the approximation with the smallest value of $L$, the solution with $10^3$ intervals approximations closely matches the exact solution. With larger values of $L$, the solution with $10^3$ intervals does not follow the exact solution. With $10^4$ intervals, the solution for each set of $L$ follows the exact solution well. It would seem that there is a ratio between $L$ and the number of intervals that allows for a better approximation. This will be seen later.\n",
    "\n",
    "$\\br$Next, we will evaluate the numerical solution at $x = 1$ with varying values of $L$ and the number of intervals in order to evaluate the errors at that specific point.\n",
    "\n",
    "$\\br$The exact solution and function $f(x)$ are then redefined for this evaluation. In addition, new intervals and endpoints are defined. \n",
    "\n",
    "$\\br$As done previously, variables are defined to store the approximations. The variables $\\texttt{errorSimp}$ and $\\texttt{errorTrap}$ are used to store the errors at each point.\n",
    "\n",
    "$\\br$A set of two $\\texttt{for}$ loops is used to run through each set of $L$ and each set of intervals. The resulting set of errors is then plotted for each $h$."
   ]
  },
  {
   "cell_type": "code",
   "execution_count": null,
   "metadata": {
    "scrolled": true
   },
   "outputs": [],
   "source": [
    "# Define constant x and exact solution\n",
    "x = 1\n",
    "exact = np.exp(-1)/2\n",
    "\n",
    "# Re-define f with new constant x\n",
    "f = lambda k: np.cos(k*x)/(2*np.pi*(D*k**2 + Sig_a))\n",
    "\n",
    "# Define multiple intervals and endpoints\n",
    "Lpowers = np.array([1,3,5,8])\n",
    "Ls = 10**Lpowers\n",
    "intervals = 10**np.array([0,1,2,3,4,5])\n",
    "\n",
    "# Create empty arrays to store approximations of phi\n",
    "phiSimp = np.zeros([Ls.size,intervals.size])\n",
    "phiTrap = np.zeros([Ls.size,intervals.size])\n",
    "errorSimp = np.zeros([Ls.size,intervals.size])\n",
    "errorTrap = np.zeros([Ls.size,intervals.size])\n",
    "h = np.zeros([Ls.size,intervals.size])\n",
    "\n",
    "# Loop through endpoints\n",
    "nL = 0\n",
    "for L in Ls:\n",
    "    # Loop through intervals\n",
    "    nInterval = 0\n",
    "    for interval in intervals:\n",
    "        # Define h\n",
    "        h[nL,nInterval] = 2*L/interval\n",
    "        # Solve Simpson's and determine error\n",
    "        phiSimp[nL,nInterval] = simpsons(f,-L,L,interval)\n",
    "        errorSimp[nL,nInterval] = np.fabs(exact-phiSimp[nL,nInterval])\n",
    "        # Solve trapezodial and determine error\n",
    "        phiTrap[nL,nInterval] = trapezoid(f,-L,L,interval)\n",
    "        errorTrap[nL,nInterval] = np.fabs(exact-phiTrap[nL,nInterval])\n",
    "        # Increment interval index\n",
    "        nInterval += 1\n",
    "    # Increment L index\n",
    "    nL += 1\n",
    "\n",
    "# Plot for Simpson's\n",
    "plt.title(\"Absolute error for Simpson's\")\n",
    "plt.xlabel(\"$h$\")\n",
    "plt.ylabel(\"Error\")\n",
    "nL = 0\n",
    "# Loop through values of L\n",
    "for L in Ls: \n",
    "    plt.loglog(h[nL,:],errorSimp[nL,:],'o-',label=\"$L = 10^ \" + str(Lpowers[nL]) + \"$\")\n",
    "    nL += 1\n",
    "plt.legend(bbox_to_anchor=(1.05, 1), loc=2, borderaxespad=0.)\n",
    "plt.show()\n",
    "\n",
    "# Plot for trapezodial\n",
    "plt.title(\"Absolute error for trapezodial rule\")\n",
    "plt.xlabel(\"$h$\")\n",
    "plt.ylabel(\"Error\")\n",
    "nL = 0\n",
    "# Loop through value sof L\n",
    "for L in Ls: \n",
    "    plt.loglog(h[nL,:],errorTrap[nL,:],'o-',label=\"$L = 10^ \" + str(Lpowers[nL]) + \"$\")\n",
    "    nL += 1\n",
    "plt.legend(bbox_to_anchor=(1.05, 1), loc=2, borderaxespad=0.)\n",
    "plt.show()"
   ]
  },
  {
   "cell_type": "markdown",
   "metadata": {},
   "source": [
    "It appears that there is a range where the error is roughly first order for each method, and then for any larger number of intervals it flatlines at a constant error."
   ]
  },
  {
   "cell_type": "markdown",
   "metadata": {},
   "source": [
    "$\\br$Lastly, we will see how close we can determine the exact solution at $x = 2$. Any reasonable attempt at this is acceptable. By looking at the plot of errors and the general plots in part 1, you should notice that a ratio of $L$ to intervals of 0.1 returns a reasonable error with minimum calculation."
   ]
  },
  {
   "cell_type": "code",
   "execution_count": null,
   "metadata": {},
   "outputs": [],
   "source": [
    "# Define constant x and exact solution\n",
    "x = 2\n",
    "exact = np.exp(-2)/2\n",
    "\n",
    "# Re-define f with new constant x\n",
    "f = lambda k: np.cos(k*x)/(2*np.pi*(D*k**2 + Sig_a))\n",
    "\n",
    "# Define L and intervals\n",
    "L = 10**7\n",
    "intervals = 10**8\n",
    "\n",
    "# Determine estimation\n",
    "ans = trapezoid(f,-L,L,intervals)\n",
    "\n",
    "# Print to user\n",
    "print('For phi(2):')\n",
    "print(\"Numerical solution: %.15f\" % ans)\n",
    "print(\"Exact solution: %.15f\" % exact)"
   ]
  },
  {
   "cell_type": "markdown",
   "metadata": {},
   "source": [
    "Close enough."
   ]
  }
 ],
 "metadata": {
  "kernelspec": {
   "display_name": "Python 3",
   "language": "python",
   "name": "python3"
  },
  "language_info": {
   "codemirror_mode": {
    "name": "ipython",
    "version": 3
   },
   "file_extension": ".py",
   "mimetype": "text/x-python",
   "name": "python",
   "nbconvert_exporter": "python",
   "pygments_lexer": "ipython3",
   "version": "3.6.8"
  }
 },
 "nbformat": 4,
 "nbformat_minor": 1
}
