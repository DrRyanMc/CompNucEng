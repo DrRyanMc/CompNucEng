{
 "cells": [
  {
   "cell_type": "markdown",
   "metadata": {},
   "source": [
    "## Short Exercises"
   ]
  },
  {
   "cell_type": "markdown",
   "metadata": {},
   "source": [
    "Using Gauss-Legendre quadrature estimate the following integrals with $L = 2,4,6,8,$ and $30$."
   ]
  },
  {
   "cell_type": "markdown",
   "metadata": {},
   "source": [
    "- $\\int_0^{\\pi/2} e^{\\sin x} \\,dx \\approx ~3.104379017855555098181$\n",
    "- $\\int_0^{2.405} J_0(x) dx  \\approx 1.470300035485$, where $J_0(x)$ is a Bessel function of the first kind given by $$ J_\\alpha(x) = \\sum_{m=0}^\\infty \\frac{(-1)^m}{m! \\, \\Gamma(m+\\alpha+1)} {\\left(\\frac{x}{2}\\right)}^{2m+\\alpha}.  $$ \n",
    "\n",
    "\n",
    "## Solution"
   ]
  },
  {
   "cell_type": "markdown",
   "metadata": {},
   "source": [
    "The file $\\texttt{ch16.py}$ contains all of the functions contained in the Chapter 16 notes. It will be imported in order to use the $\\texttt{GLQuad}$ and $\\texttt{generalGL}$ functions. It is also acceptable to paste the functions individually.\n",
    "\n",
    "$\\br$We will then define the endpoints $\\texttt{a}$ and $\\texttt{b}$ for each part, and the function $\\texttt{f}$ to be integrated for each part. In addition, the variable $\\texttt{Ls}$ is defined to store the values of $L$ we want to solve for.\n",
    "\n",
    "$\\br$The functions are then iterated and printed."
   ]
  },
  {
   "cell_type": "code",
   "execution_count": 1,
   "metadata": {},
   "outputs": [
    {
     "name": "stdout",
     "output_type": "stream",
     "text": [
      "Estimating int_0^pi/2 of e^sin(x) dx\n",
      "\n",
      "L - estimation\n",
      "2 - 3.1094881740332059\n",
      "4 - 3.1043971358561424\n",
      "6 - 3.1043790270248941\n",
      "8 - 3.1043790178548503\n",
      "30 - 3.1043790178555541\n",
      "\n",
      "Estimating int_0^2.405 of J_0(x) dx\n",
      "\n",
      "L - estimation\n",
      "2 - 1.4672406130050588\n",
      "4 - 1.4702998677927528\n",
      "6 - 1.4703000354840137\n",
      "8 - 1.4703000354855102\n",
      "30 - 1.4703000354855094\n"
     ]
    }
   ],
   "source": [
    "import numpy as np\n",
    "import math\n",
    "from ch16 import *\n",
    "\n",
    "# Define values of L\n",
    "Ls = np.array([2,4,6,8,30])\n",
    "\n",
    "# Define bounds and function for part a\n",
    "f = lambda x: np.exp(np.sin(x))\n",
    "a = 0\n",
    "b = np.pi/2\n",
    "\n",
    "# Calculate for part a and print\n",
    "print('Estimating int_0^pi/2 of e^sin(x) dx\\n')\n",
    "print('L - estimation')\n",
    "i = 0\n",
    "for L in Ls:\n",
    "    ans = generalGL(f,a,b,L)\n",
    "    print(L,\"- %.16f\" % ans)\n",
    "    i += 1\n",
    "    \n",
    "# Define bounds and function for part b\n",
    "def f(x, M = 100):\n",
    "    \"\"\"Order zero Bessel function of the first-kind\n",
    "    evaluated at x\n",
    "    Inputs:\n",
    "        alpha:  value of alpha\n",
    "        x:      point to evaluate Bessel function at\n",
    "        M:      number of terms to include in sum\n",
    "    Returns:\n",
    "        J_0(x)\n",
    "    \"\"\"\n",
    "    total = 0.0\n",
    "    for m in range(M):\n",
    "        total += (-1)**m/(math.factorial(m)*math.gamma(m+1))*(0.5*x)**(2*m)\n",
    "    return total \n",
    "a = 0\n",
    "b = 2.405\n",
    "\n",
    "# Calculate for part a and print\n",
    "print('\\nEstimating int_0^2.405 of J_0(x) dx\\n')\n",
    "print('L - estimation')\n",
    "i = 0\n",
    "for L in Ls:\n",
    "    ans = generalGL(f,a,b,L)\n",
    "    print(L,\"- %.16f\" % ans)\n",
    "    i += 1"
   ]
  },
  {
   "cell_type": "markdown",
   "metadata": {},
   "source": [
    "As expected, the answers converge to the exact integral."
   ]
  },
  {
   "cell_type": "markdown",
   "metadata": {},
   "source": [
    "## Gauss-Lobatto Quadrature"
   ]
  },
  {
   "cell_type": "markdown",
   "metadata": {},
   "source": [
    "One sometimes desires a quadrature rule to include the endpoints of the interval. The Gauss-Legendre quadrature rules do not include $x=\\pm 1$.  Gauss-Lobatto quadrature includes both of these points in the set. "
   ]
  },
  {
   "cell_type": "markdown",
   "metadata": {},
   "source": [
    "- Derive the $L=2$ Gauss-Lobatto quadrature set.  There is only one degree of freedom in this quadrature set, the weight, and it needs to integrate linear polynomials exactly.  This quadrature rule will have the form\n",
    "\\[ \\int\\limits_{-1}^{1} f(x)\\,dx = w f(-1) + w f(1).\\]\n",
    "\\item Now derive the $L=3$ Gauss-Lobatto quadrature set.  Now there are two degrees of freedom because the $x$'s must be $\\pm 1$ and 0.  This rule will integrate cubics exactly and have the form:\n",
    "\\[ \\int\\limits_{-1}^{1} f(x)\\,dx = w_1 f(-1) + w_2 f(0) + w_1 f(1).\\]\n",
    "- Implement this quadrature rule and verify that it integrates that appropriate polynomials exactly.\n",
    "\n",
    "## Solution"
   ]
  },
  {
   "cell_type": "markdown",
   "metadata": {},
   "source": [
    "For $L = 2$ we have the following\n",
    "\n",
    "$$\\int_{-1}^{1} x^0 = w(-1)^0 + w(1)^0.$$"
   ]
  },
  {
   "cell_type": "markdown",
   "metadata": {},
   "source": [
    "Integrating and solving the above leads to\n",
    "\n",
    "$$2 = 2w,$$\n",
    "\n",
    "therefore\n",
    "\n",
    "$$w = 1.$$"
   ]
  },
  {
   "cell_type": "markdown",
   "metadata": {},
   "source": [
    "For $L = 3$ we have the following \n",
    "\n",
    "$$\\int_{-1}^{1} x^0 = w_1(-1)^0 + w_2(0)^0 + w_1(1)^0,$$\n",
    "\n",
    "$$\\int_{-1}^{1} x^1 = w_1(-1)^1 + w_2(0)^1 + w_1(1)^1,$$\n",
    "\n",
    "and\n",
    "\n",
    "$$\\int_{-1}^{1} x^2 = w_1(-1)^2 + w_2(0)^2 + w_1(1)^2.$$"
   ]
  },
  {
   "cell_type": "markdown",
   "metadata": {},
   "source": [
    "Note that we went out to second degree polynomials because the first degree polynomial was of no use. Integrating and solving both of the above leads to\n",
    "\n",
    "$$2 = 2w_1 + w_2,$$\n",
    "\n",
    "$$0 = 0,$$\n",
    "\n",
    "and\n",
    "\n",
    "$$\\frac{2}{3} = 2w_1.$$"
   ]
  },
  {
   "cell_type": "markdown",
   "metadata": {},
   "source": [
    "We will then solve this simple system for $w_1$ and $w_2$, where the results are\n",
    "\n",
    "$$w_1 = \\frac{1}{3},$$\n",
    "\n",
    "and\n",
    "\n",
    "$$w_2 = \\frac{4}{3}.$$"
   ]
  },
  {
   "cell_type": "markdown",
   "metadata": {},
   "source": [
    "In order to verify the integration, we will make a simple function that can use the Gauss-Lobatto quadrature for $L = 2$ and $L = 3$."
   ]
  },
  {
   "cell_type": "code",
   "execution_count": 2,
   "metadata": {},
   "outputs": [],
   "source": [
    "def LobattoQuad(f,L):\n",
    "    \"\"\"Compute the Gauss-Lobatto Quadrature estimate \n",
    "    of the integral of f(x,y) from x = -1 to 1\n",
    "    Inputs:\n",
    "    f:   name of function to integrate\n",
    "    L:   Order of integration rule (2 or 3)\n",
    "    Returns:\n",
    "    Gauss-Lobatto Quadrature estimate\"\"\"\n",
    "\n",
    "    # L = 2 or L = 3 please\n",
    "    assert L == 2 or L == 3\n",
    "    \n",
    "    # Solve for L = 2\n",
    "    if L == 2:\n",
    "        w = 1\n",
    "        return w*f(-1) + w*f(1)\n",
    "    \n",
    "    # Solve for L = 3\n",
    "    if L == 3:\n",
    "        w_1 = 1.0/3\n",
    "        w_2 = 4.0/3\n",
    "        return w_1*f(-1) + w_2*f(0) + w_1*f(1)"
   ]
  },
  {
   "cell_type": "markdown",
   "metadata": {},
   "source": [
    "First, we will test it for $L = 2$ with the following integral of a linear polynomial\n",
    "\n",
    "$$\\int_{-1}^{1} \\Big(10x - 12\\Big)~dx = -24$$"
   ]
  },
  {
   "cell_type": "code",
   "execution_count": 3,
   "metadata": {},
   "outputs": [
    {
     "name": "stdout",
     "output_type": "stream",
     "text": [
      "The result is -24\n"
     ]
    }
   ],
   "source": [
    "# Define function\n",
    "f = lambda x: 10*x - 12\n",
    "\n",
    "# Solve and print\n",
    "ans = LobattoQuad(f,2)\n",
    "print('The result is',ans)"
   ]
  },
  {
   "cell_type": "markdown",
   "metadata": {},
   "source": [
    "As expected, it integrated the linear polynomial exactly.\n",
    "\n",
    "Next, we will test it for L = 3 with the following integral of a cubic polynomial\n",
    "\n",
    "$$\\int_{-1}^{1} \\Big(8x^3 + 6x^2 + 4x + 2\\Big)~dx = 8$$"
   ]
  },
  {
   "cell_type": "code",
   "execution_count": 4,
   "metadata": {},
   "outputs": [
    {
     "name": "stdout",
     "output_type": "stream",
     "text": [
      "The result is 7.999999999999999\n"
     ]
    }
   ],
   "source": [
    "# Define function\n",
    "f = lambda x: 8*x**3 + 6*x**2 + 4*x + 2\n",
    "\n",
    "# Solve and print\n",
    "ans = LobattoQuad(f,3)\n",
    "print('The result is',ans)"
   ]
  },
  {
   "cell_type": "markdown",
   "metadata": {},
   "source": [
    "Exact integration? Close enough."
   ]
  },
  {
   "cell_type": "markdown",
   "metadata": {},
   "source": [
    "## Integration and Root Finding"
   ]
  },
  {
   "cell_type": "markdown",
   "metadata": {},
   "source": [
    "Consider a 1-D cylindrical reactor with geometric buckling 0.0203124 cm$^{-1}$ and $\\Sigma_\\mathrm{f} = 0.07$ cm$^{-1}$."
   ]
  },
  {
   "cell_type": "markdown",
   "metadata": {},
   "source": [
    "- Find the critical radius of this reactor.\n",
    "- Using the numerical integration method of your choice, find the peak scalar flux assuming that power per unit height is 2 MW/cm.  Use 200 MeV/fission = $3.204 \\times 10^{-11}$ J.\n",
    "- [Challenge] Now assume the reactor has a height of 500 cm and a power of 1000 MW.  What is the peak scalar flux? You'll need a multi-dimensional integral in this case.\n",
    "\n",
    "## Solution\n"
   ]
  },
  {
   "cell_type": "markdown",
   "metadata": {},
   "source": [
    "We know through previous courses that the scalar flux in a 1-D cylindrical reactor is\n",
    "\n",
    "$$\\phi(r) = A J_0(B_\\mathrm{g} r),$$\n",
    "\n",
    "where $J_0$ is the order-0 Bessel function of the first kind. To find the critical raadius of the reactor, we need to find $r$ such that\n",
    "\n",
    "$$J_0(B_\\mathrm{g} r) = 0.$$\n",
    "\n",
    "$\\br$We will do this using inexact Newton from Chapter 13, although there are several ways we can do this. \n",
    "\n",
    "$\\br$The file $\\texttt{ch13.py}$ contains the functions from chapter 13, including $\\texttt{inexact\\_newton}$. We will define the function we want to find the root of, and then use the inexact Newton function to do so. The SciPy function $\\texttt{special.jv}$ will be used to evaluate the zero-th order Bessel function."
   ]
  },
  {
   "cell_type": "code",
   "execution_count": 5,
   "metadata": {},
   "outputs": [
    {
     "name": "stdout",
     "output_type": "stream",
     "text": [
      "It took 3 iterations\n",
      "The critical radius is 118.39 cm\n"
     ]
    }
   ],
   "source": [
    "import numpy as np\n",
    "import scipy.special\n",
    "\n",
    "# Import inexact_newton\n",
    "from ch13 import inexact_newton\n",
    "\n",
    "# Define given constants\n",
    "B_g = 0.0203124 # [1/cm]\n",
    "Sig_f = 0.07 # [1/cm]\n",
    "\n",
    "# Define function to find root of\n",
    "f = lambda r: scipy.special.jv(0,B_g*r)\n",
    "\n",
    "# Solve for root\n",
    "R_crit = inexact_newton(f,100.0)\n",
    "\n",
    "# Print to user\n",
    "print('The critical radius is %.2f' % R_crit,\"cm\")"
   ]
  },
  {
   "cell_type": "markdown",
   "metadata": {},
   "source": [
    "Given that the scalar flux is\n",
    "\n",
    "$$\\phi(r) = A J_0(B_\\mathrm{g} r),$$\n",
    "\n",
    "the maximum value of the scalar flux is $A$, because $J_0(0) = 1$ is the maximum of this funtion. To find $A$ we need to solve the equation\n",
    "\n",
    "$$P = E_\\mathrm{f} R_\\mathrm{f},$$\n",
    "\n",
    "where $P$ is the power per unit height, $E_\\mathrm{f}$ is the energy per fission, and $R_\\mathrm{f}$ is the fission rate.\n",
    "\n",
    "The fission rate is given by\n",
    "\n",
    "$$R_\\mathrm{f} = 2 \\pi \\int_0^\\mathrm{R} \\Sigma_f A J_0(B_\\mathrm{g} r)r~dr,$$\n",
    "\n",
    "which is the form of the integral because the differential area element $dA$ is given by\n",
    "\n",
    "$$dA = 2 \\pi r dr,$$\n",
    "\n",
    "in 1-D cylindrical coordinates. Also, we can pull the $\\Sigma_\\mathrm{f}$ and $A$ out of the integral because it is constant in this problem. Therefore, $A$ is given by\n",
    "\n",
    "$$A = \\frac{P}{E_\\mathrm{f}}~\\Bigg( 2 \\pi \\int_0^\\mathrm{R} \\Sigma_f J_0(B_\\mathrm{g}r)r~dr\\Bigg)^{-1}.$$\n",
    "\n",
    "$\\br$Gauss-Legendre quadrature will be used to estimate the integral with $L = 8$. The file $\\texttt{ch16.py}$ contains the functions needed and is imported, but they can also be pasted. It is acceptable to use any of the numerical methods of integration present in the lecture notes."
   ]
  },
  {
   "cell_type": "code",
   "execution_count": 6,
   "metadata": {},
   "outputs": [
    {
     "name": "stdout",
     "output_type": "stream",
     "text": [
      "The peak scalar flux is 4.69038e+13 n/cm^2-s\n"
     ]
    }
   ],
   "source": [
    "# Import generalGL and GLQuad\n",
    "from ch16 import generalGL,GLQuad\n",
    "\n",
    "# Define the power per unit length\n",
    "P = 2.0E6 # [J/cm]\n",
    "E_f = 3.204E-11 # [J]\n",
    "\n",
    "# Define integrand to solve\n",
    "integrand = lambda r: 2.0*np.pi*Sig_f*scipy.special.jv(0,B_g*r)*r\n",
    "\n",
    "# Solve using L = 8\n",
    "integral = generalGL(integrand,0,R_crit,8)\n",
    "phiMax = P/(E_f*integral)\n",
    "print('The peak scalar flux is %.5e' % phiMax,\"n/cm^2-s\")"
   ]
  },
  {
   "cell_type": "markdown",
   "metadata": {},
   "source": [
    "### case 2"
   ]
  },
  {
   "cell_type": "markdown",
   "metadata": {},
   "source": [
    "In this case the scalar flux looks like\n",
    "\n",
    "$$\\phi(r,z) = A J_0 \\Big(\\frac{2.4048}{R_\\mathrm{crit}}r\\Big)~\\mathrm{cos}\\Big(\\frac{\\pi}{H_\\mathrm{crit}}z\\Big).$$\n",
    "\n",
    "Now we can determine total power by\n",
    "\n",
    "$$P = E_\\mathrm{f}~\\Bigg( \\int_0^R r~dr \\int_{-H/2}^{H/2} 2 \\pi \\Sigma_\\mathrm{f} A J_0 \\Big(\\frac{2.405}{R_\\mathrm{crit}}r\\Big)~\\mathrm{cos}\\Big(\\frac{\\pi}{H_\\mathrm{crit}}z\\Big)~dz\\Bigg).$$\n",
    "\n",
    "This makes\n",
    "\n",
    "$$A = \\frac{P}{E_\\mathrm{f}}~\\Bigg( \\int_0^R r~dr \\int_{-H/2}^{H/2} 2 \\pi \\Sigma_\\mathrm{f} A J_0 \\Big(\\frac{2.405}{R_\\mathrm{crit}}r\\Big)~\\mathrm{cos}\\Big(\\frac{\\pi}{H_\\mathrm{crit}}z\\Big)~dz\\Bigg)^{-1}.$$\n",
    "\n",
    "$\\br$To find the new critical radius we will need to solve the equation\n",
    "\n",
    "$$(B_\\mathrm{g}^{1D})^2 = \\Big(\\frac{\\pi}{H_\\mathrm{crit}}\\Big)^2 + \\Big(\\frac{2.405}{r}\\Big)^2,$$\n",
    "\n",
    "$\\br$and we will use the $\\texttt{inexact\\_newton}$ function from the Chapter 13 notes."
   ]
  },
  {
   "cell_type": "code",
   "execution_count": 7,
   "metadata": {},
   "outputs": [
    {
     "name": "stdout",
     "output_type": "stream",
     "text": [
      "It took 3 iterations\n",
      "The new critical radius is 124.50 cm\n"
     ]
    }
   ],
   "source": [
    "# Define function for root-find\n",
    "H_crit = 500.0 # [cm]\n",
    "f = lambda r: B_g**2 - (np.pi/H_crit)**2 - (2.405/r)**2\n",
    "\n",
    "# Determine root\n",
    "R_crit = inexact_newton(f,100)\n",
    "\n",
    "# Print to user\n",
    "print('The new critical radius is %.2f' % R_crit,\"cm\")"
   ]
  },
  {
   "cell_type": "markdown",
   "metadata": {},
   "source": [
    "In order to solve the integral, we will need a 2D integral function. We will use $\\texttt{GLQuad2D}$ and $\\texttt{generalGL2D}$ from the Chapter 16 notes."
   ]
  },
  {
   "cell_type": "code",
   "execution_count": 8,
   "metadata": {},
   "outputs": [
    {
     "name": "stdout",
     "output_type": "stream",
     "text": [
      "The peak scalar flux is 6.66304e+13 n/cm^2-s\n"
     ]
    }
   ],
   "source": [
    "# Import generalGL2D and GLQuad2D\n",
    "from ch16 import generalGL2D,GLQuad2D\n",
    "\n",
    "# Define necessary constants\n",
    "P = 1000.0E6 # [J]\n",
    "E_f = 3.204E-11 # [J]\n",
    "\n",
    "# Define integral to solve\n",
    "integrand = lambda r,z: (2.0*np.pi*Sig_f*\n",
    "                        scipy.special.jv(0,(2.405/R_crit)*r)*r*np.cos(np.pi/H_crit*z))\n",
    "\n",
    "# Solve integral and phiMax\n",
    "integral = generalGL2D(integrand,0,R_crit,-H_crit/2,H_crit/2,8)\n",
    "phiMax = P/(E_f*integral)\n",
    "print('The peak scalar flux is %.5e' % phiMax,\"n/cm^2-s\")"
   ]
  }
 ],
 "metadata": {
  "kernelspec": {
   "display_name": "Python 3",
   "language": "python",
   "name": "python3"
  },
  "language_info": {
   "codemirror_mode": {
    "name": "ipython",
    "version": 3
   },
   "file_extension": ".py",
   "mimetype": "text/x-python",
   "name": "python",
   "nbconvert_exporter": "python",
   "pygments_lexer": "ipython3",
   "version": "3.6.8"
  }
 },
 "nbformat": 4,
 "nbformat_minor": 1
}
