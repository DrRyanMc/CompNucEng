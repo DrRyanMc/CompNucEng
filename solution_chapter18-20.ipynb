{
 "cells": [
  {
   "cell_type": "markdown",
   "metadata": {},
   "source": [
    "## 18.3 Time-dependent, super-critical excursion"
   ]
  },
  {
   "cell_type": "markdown",
   "metadata": {},
   "source": [
    "A burst reactor is constructed by building a sphere of plutonium-239 that has a cylindrical hole inside which a slug of plutonium can be inserted.  You will model this reactor as a solid sphere with a radius of 7 cm when the slug is in the reactor and as a hollow shell with the same outer radius and an inner radius of 2 cm when the slug is not present.  For the plutonium use the following cross-sections from the report $\\it{Reactor~Physics~Constants}$, ANL-5800:"
   ]
  },
  {
   "cell_type": "raw",
   "metadata": {},
   "source": [
    "\\begin{center}\n",
    "\\begin{tabular}{l|l}\n",
    "Quantity                    & Value   \\\\ \\hline\n",
    "$\\sigma_\\mathrm{f}$ {[}b{]} & 1.85    \\\\\n",
    "$\\sigma_\\mathrm{a}$ {[}b{]} & 2.11    \\\\\n",
    "$\\sigma_\\mathrm{tr}$ {[}b{]}               & 6.8 \\\\\n",
    "$\\nu$                       & 2.98   \n",
    "\\end{tabular}\n",
    "\\end{center}"
   ]
  },
  {
   "cell_type": "markdown",
   "metadata": {},
   "source": [
    "For the density of plutonium use $19.74$ g/cm$^3$; the diffusion coefficient is $D = 1/3\\Sigma_\\mathrm{tr}$. In the hollow area of the shell, use $\\Sigma_a = \\nu\\Sigma_\\mathrm{f} = 0$ and $D = 100$ cm. The average neutron speed in this problem is $v = 10^4$ cm/s.\n",
    "\n",
    "$\\br$An experiment is performed where there is initially 1000 neutrons uniformly distributed in the system at time $t=0$ when the solid sphere is assembled.  The sphere is solid until $t = 0.1$s at which time you can assume reactor is the hollow shell. \n",
    "\n",
    "$\\br$Your task is to compute the total number of neutrons that leak out of the sphere from time $t=0$ to $t=5$s as well as the peak fission rate density in the reactor during the experiment.  Finally, determine  the maximum value of \n",
    "\n",
    "$$\\frac{d}{dt} \\ln \\phi(r) \\approx \\frac{\\ln\\phi^{n+1}(r)  - \\ln \\phi^n(r)}{\\Delta t}.$$\n",
    "\n",
    "$\\br$Note: The leakage rate from the sphere per unit surface area is is\n",
    "\n",
    "$$\\left.-D\\frac{d\\phi}{dr}\\right|_{r=7.0},$$\n",
    "\n",
    "and the fission rate density at any point in the system is $\\Sigma_\\mathrm{f}(r)\\, \\phi(r).$"
   ]
  },
  {
   "cell_type": "markdown",
   "metadata": {},
   "source": [
    "## Solution"
   ]
  },
  {
   "cell_type": "markdown",
   "metadata": {},
   "source": [
    "The system above will have two states. The first exists on the time interval $t = [0,0.1)$, and the second on $t = [0.1,5.0]$. We will define functions that contain the material properties for both of these intervals. \n",
    "\n",
    "$\\br$The $\\texttt{DiffusionSolver}$ function from the Chapter 18 notes will be utilized, and is stored in the file $\\texttt{ch18.py}$. The solver will be executed using 100 cells and a timestep of 0.01 sec.\n",
    "\n",
    "$\\br$In order to solve the time-dependent problem, a $\\texttt{for}$ loop will be used to solve the diffusion equation at each time step. The original neutron distrubtion will be reprsented as a source as such\n",
    "\n",
    "$$\\phi^0(r) = \\frac{Nv}{\\frac{4}{3} \\pi R^3},$$\n",
    "\n",
    "where $N$ is the number of neutrons, and $R$ is the outer radius of the sphere. This distrubtion is set into an array that is the size of the number of cells in the mesh. \n",
    "\n",
    "$\\br$We must also define a new absorption cross-section and source as\n",
    "\n",
    "$$\\Sigma_\\mathrm{a}^* = \\Sigma_a(r) + \\frac{1}{v \\Delta t},~~~~~Q^{n+1,*}(r) = Q^{n+1}(r) + \\frac{1}{v \\Delta t}\\phi^n(r).$$\n",
    "\n",
    "$\\br$Within each time step, the running time is used to determine the state of the system. In this case, if $t < 0.1$ sec, we will use the material properties for the solid sphere. Otherwise, we will use the material properties for the hollow sphere. The boundary condition is then set to the previous value of $\\phi$ at the right boundary. At the end of each iteration, the new values of $\\phi$ are stored such that they can be used for the next iteration.\n",
    "\n",
    "$\\br$Variables are created that will store the total leakage, the maximum fission rate density, and the maximum value of $\\frac{d}{dt} \\mathrm{ln}~\\phi(r)$. The value of the scalar flux at the edge of the sphere for the purpose of the leakage rate can be approximated using a backward difference as\n",
    "\n",
    "$$\\left.-D\\frac{d\\phi}{dr}\\right|_{r=R} = \\frac{\\phi_I - \\phi_{I-1}}{dr}.$$\n",
    "\n",
    "Once this value is known, it is multiplied through by the diffusion coefficient and the surface area of the outer sphere. Within each time step, all of the above properties are evaluated and compared to the defined maximums. If larger, the maximums are then set to the new value.\n",
    "$\\br$"
   ]
  },
  {
   "cell_type": "code",
   "execution_count": 2,
   "metadata": {
    "scrolled": true
   },
   "outputs": [
    {
     "name": "stdout",
     "output_type": "stream",
     "text": [
      "Leakage: 712959455524955.1 neutrons\n",
      "Maximum fission rate density: 2125438908647.0698 fiss/cm^3-s\n",
      "Maxumum of d(ln(phi))/dt: 222.03861342648102 n/cm^2-s^2\n"
     ]
    }
   ],
   "source": [
    "# NUEN 329\n",
    "# Time-dependent, super-critical excursion\n",
    "\n",
    "import numpy as np\n",
    "import warnings\n",
    "warnings.filterwarnings(\"ignore\")\n",
    "\n",
    "# Functions from chapter 18\n",
    "from ch18 import *\n",
    "\n",
    "# Define cool numbers\n",
    "Na = 6.022E23 # [atoms/mol]\n",
    "\n",
    "# Define position related constants \n",
    "R = 7.0 # [cm]\n",
    "Rh = 2.0 # [cm]\n",
    "SAR = 4*np.pi*R**2 # surface area at R [cm^2]\n",
    "I = 100 # number of cells\n",
    "dr = R/I # width of a cell\n",
    "\n",
    "# Define time related constants\n",
    "tHollow = 0.1 # [sec]\n",
    "tFinal = 5.0 # [sec]\n",
    "dt = 0.01 # [sec]\n",
    "times = np.linspace(dt,tFinal,tFinal/dt)\n",
    "\n",
    "# Define plutonium constants\n",
    "sigf239 = 1.85E-24 # [cm^2]\n",
    "siga239 = 2.11E-24 # [cm^2]\n",
    "sigtr239 = 6.8E-24 # [cm^2]\n",
    "nu239 = 2.98 # [n/fiss]\n",
    "rho239 = 19.74 # [g/cm^3]\n",
    "m239 = 239.05429 # [g]\n",
    "\n",
    "# Convert plutonium cross sections\n",
    "N239 = Na*rho239/m239 # [atoms/cm^3]\n",
    "Sigf239 = N239*sigf239 # [1/cm]\n",
    "Siga239 = N239*siga239 # [1/cm]\n",
    "Sigtr239 = N239*sigtr239 # [1/cm]\n",
    "nuSigf239 = N239*nu239*sigf239 # [1/cm]\n",
    "D239 = 1/(3*Sigtr239) # [cm]\n",
    "\n",
    "# Define void (hollow) constants\n",
    "Sigfvoid = 0.0\n",
    "Sigavoid = 0.0\n",
    "nuSigfvoid = 0.0\n",
    "Dvoid = 100.0 # [cm]\n",
    "\n",
    "# Lambda functions for solid\n",
    "DSolid = lambda r: D239\n",
    "SigaSolid = lambda r: Siga239\n",
    "SigastarSolid = lambda r: SigaSolid(r) + 1/(v*dt)\n",
    "SigfSolid = lambda r: Sigf239\n",
    "nuSigfSolid = lambda r: nuSigf239\n",
    "\n",
    "# Lambda functions for hollow\n",
    "DHollow = lambda r: (r<Rh)*Dvoid + (r>=Rh)*D239\n",
    "SigaHollow = lambda r: (r<Rh)*Sigavoid + (r>=Rh)*Siga239\n",
    "SigastarHollow = lambda r: SigaHollow(r) + 1/(v*dt)\n",
    "SigfHollow = lambda r: (r>=Rh)*Sigf239\n",
    "nuSigfHollow = lambda r: (r<Rh)*nuSigfvoid + (r>=Rh)*nuSigf239\n",
    "\n",
    "# Initial neutron distribution\n",
    "neutrons = 1000\n",
    "v = 10.0**4 # [cm/s]\n",
    "density = neutrons/(4/3*np.pi*R**3) # [n/cm^3]\n",
    "phi_old = np.ones(I)*density*v # [n/cm^2-s]\n",
    "\n",
    "# Note steps to plot\n",
    "plotSteps = np.array([0,20,100,200,400,450,499])\n",
    "\n",
    "# Blank arrays for storing\n",
    "maxFRD = 0.0\n",
    "maxdphi = 0.0\n",
    "leakage = 0.0\n",
    "\n",
    "# Loop through timesteps\n",
    "for t in times:\n",
    "    # Solid sphere properties\n",
    "    if t < tHollow:\n",
    "        D = DSolid\n",
    "        Siga = SigaSolid\n",
    "        Sigastar = SigastarSolid\n",
    "        Sigf = SigfSolid\n",
    "        nuSigf = nuSigfSolid\n",
    "        \n",
    "    # Hollow sphere properties\n",
    "    else:\n",
    "        D = DHollow\n",
    "        Siga = SigaHollow\n",
    "        Sigastar = SigastarHollow\n",
    "        Sigf = SigfSolid\n",
    "        nuSigf = nuSigfHollow\n",
    "    \n",
    "    # Set boundary condition\n",
    "    BC = phi_old[-1]\n",
    "    \n",
    "    # Define previous timestep source\n",
    "    Qstar = lambda r: phi_old[int(np.round((r-0.5*dr)/dr-1))]/(v*dt)\n",
    "    \n",
    "    # Solve diffusion equation\n",
    "    r, phi = DiffusionSolver(R,I,D,Sigastar,nuSigf,Qstar,BC,2)\n",
    "            \n",
    "    # Add to leakage\n",
    "    leakage += -D(R)*(phi[-1]-phi[-2])*dt*SAR/dr\n",
    "    \n",
    "    # Check for max fission rate density\n",
    "    for cell in range(I):\n",
    "        FRD = Sigf(r[cell])*phi[cell]\n",
    "        if FRD > maxFRD:\n",
    "            maxFRD = FRD\n",
    "    \n",
    "    # Check for max change over timestep\n",
    "    dphi = (np.log(phi) - np.log(phi_old))/dt\n",
    "    if np.max(dphi) > maxdphi:\n",
    "        maxdphi = np.max(dphi)\n",
    "            \n",
    "    # Carry phi to next timestep\n",
    "    phi_old = phi.copy()\n",
    "\n",
    "print('Leakage:',leakage,'neutrons')\n",
    "print('Maximum fission rate density:',maxFRD,'fiss/cm^3-s')\n",
    "print('Maxumum of d(ln(phi))/dt:',maxdphi,'n/cm^2-s^2')"
   ]
  },
  {
   "cell_type": "markdown",
   "metadata": {},
   "source": [
    "## 19.2 Spherical Plutonium k-eigenvalue\n",
    "For the burst reactor made of plutonium in the defined in the super-critical excursion problem of Chapter 18, compute the value of $k_\\mathrm{eff}$ with and without the plug inserted."
   ]
  },
  {
   "cell_type": "markdown",
   "metadata": {},
   "source": [
    "## Solution"
   ]
  },
  {
   "cell_type": "markdown",
   "metadata": {},
   "source": [
    "Luckily, we already have the material properties defined from the \"Time-dependent, super-critical excursion\" problem in Chapter 18. We'll copy those and use them here.\n",
    "\n",
    "$\\br$The file $\\texttt{ch19.py}$ contains all of the functions from Chapter 19, including the $\\texttt{DiffusionEigenvalue}$ function that we will use here.\n",
    "\n",
    "$\\br$After defining the necessary constants and the function, we will determine the values of $k$ for each state by running the function."
   ]
  },
  {
   "cell_type": "code",
   "execution_count": 4,
   "metadata": {},
   "outputs": [
    {
     "name": "stdout",
     "output_type": "stream",
     "text": [
      "The value for keff with the plug is 0.9033667482664482\n",
      "The value for keff without the plug is 0.8321149256305226\n"
     ]
    }
   ],
   "source": [
    "import numpy as np\n",
    "\n",
    "# Functions from chapter 19\n",
    "from ch19 import *\n",
    "\n",
    "# Define cool numbers\n",
    "Na = 6.022E23 # [atoms/mol]\n",
    "\n",
    "# Define position related constants \n",
    "R = 7.0 # [cm]\n",
    "Rh = 2.0 # [cm]\n",
    "I = 100\n",
    "dr = R/I\n",
    "\n",
    "# Define plutonium constants\n",
    "sigf239 = 1.85E-24 # [cm^2]\n",
    "siga239 = 2.11E-24 # [cm^2]\n",
    "sigtr239 = 6.8E-24 # [cm^2]\n",
    "nu239 = 2.98 # [n/fiss]\n",
    "rho239 = 19.74 # [g/cm^3]\n",
    "m239 = 239.05429 # [g/mol]\n",
    "\n",
    "# Convert plutonium cross sections\n",
    "N239 = Na*rho239/m239 # [atoms/cm^3]\n",
    "Sigf239 = N239*sigf239 # [1/cm]\n",
    "Siga239 = N239*siga239 # [1/cm]\n",
    "Sigtr239 = N239*sigtr239 # [1/cm]\n",
    "nuSigf239 = N239*nu239*sigf239 # [1/cm]\n",
    "D239 = 1/(3*Sigtr239) # [cm]\n",
    "\n",
    "# Define void (hollow) constants\n",
    "Sigfvoid = 0.0\n",
    "Sigavoid = 0.0\n",
    "nuSigfvoid = 0.0\n",
    "Dvoid = 100.0 # [cm]\n",
    "\n",
    "# Lambda functions for solid\n",
    "DSolid = lambda r: D239\n",
    "SigaSolid = lambda r: Siga239\n",
    "SigfSolid = lambda r: Sigf239\n",
    "nuSigfSolid = lambda r: nuSigf239\n",
    "\n",
    "# Lambda functions for hollow\n",
    "DHollow = lambda r: (r<Rh)*Dvoid + (r>=Rh)*D239\n",
    "SigaHollow = lambda r: (r<Rh)*Sigavoid + (r>=Rh)*Siga239\n",
    "SigfHollow = lambda r: (r>=Rh)*Sigf239\n",
    "nuSigfHollow = lambda r: (r<Rh)*nuSigfvoid + (r>=Rh)*nuSigf239\n",
    "\n",
    "# Calculate for solid\n",
    "kSolid,phiSolid,r = DiffusionEigenvalue(R,I,DSolid,SigaSolid,nuSigfSolid,2)\n",
    "\n",
    "# Calculate for hollow\n",
    "kHollow,phiHollow,r = DiffusionEigenvalue(R,I,DHollow,SigaHollow,nuSigfHollow,2)\n",
    "\n",
    "# And print\n",
    "print('The value for keff with the plug is',kSolid)\n",
    "print('The value for keff without the plug is',kHollow)"
   ]
  },
  {
   "cell_type": "markdown",
   "metadata": {},
   "source": [
    "## 20.2 2-group Heterogeneous Reactor Multiplication Factor}"
   ]
  },
  {
   "cell_type": "markdown",
   "metadata": {},
   "source": [
    "Consider the following 1-D cylindrical core consisting of 10 fuel regions + 1 reflector region (each region is of width 20 cm, total domain size is $R = 200$ cm)."
   ]
  },
  {
   "cell_type": "raw",
   "metadata": {},
   "source": [
    "\\begin{center}\n",
    "\\begin{tabular}{|c|c|c|c|c|c|c|c|c|c|c|c|c|c|c|c|c|c|c|c|c|}\n",
    "\\hline\n",
    "%R&U&M&U&M&U&M&U&M&U&M& \n",
    "U$_\\mathrm{rodded}$ &M&U&M&U&M&U&M&U&R \\\\\n",
    "\\hline\n",
    "\\end{tabular}\\end{center}"
   ]
  },
  {
   "cell_type": "markdown",
   "metadata": {},
   "source": [
    "In this  table,  R= reflector, U = UO$_2$, M = MOX, U$_\\mathrm{rodded}$ = UO$_2$ + absorber. In this reactor we assume that our groups are set up so that only down scattering can be considered and all fission neutrons are born fast.\n",
    "\n",
    "$\\br$Write a python code to solve this problem. Plot the solution for $\\phi(r)$ for each group and comment on the behavior. Also give the value of the multiplication factor for this reactor. For this reactor give the ratio of the peak scalar flux to the average scalar flux: this ratio is called the power peaking factor.\n",
    "\n",
    "$\\br$Then, consider the same reactor where the control rods are removed and the R region becomes a U region.  Discuss the change in the eigenvalue and the shape of the flux. \n",
    "\n",
    "$\\br$The data you will need is below:"
   ]
  },
  {
   "cell_type": "raw",
   "metadata": {},
   "source": [
    "\\begin{center}\n",
    "\\begin{tabular}{l|lllllll}\n",
    "Material & $D_1$ & $D_2$ & $\\Sigma_\\mathrm{r1}$ & $\\Sigma_\\mathrm{r2}$ & $\\nu\\Sigma_\\mathrm{f1}$ & $\\nu\\Sigma_\\mathrm{f2}$ & $\\Sigma_{\\mathrm{s}1\\rightarrow2}$ \\\\ \\hline\n",
    "U        & 1.2   & 0.4   & 0.029653979          & 0.093079585          & 0.004567474             & 0.114186862             & 0.020432526                        \\\\\n",
    "M        & 1.2   & 0.4   & 0.029653979          & 0.23633218           & 0.006851211             & 0.351903125             & 0.015865052                        \\\\\n",
    "R        & 1.2   & 0.2   & 0.051                & 0.04                 & 0                       & 0                       & 0.05                               \\\\\n",
    "U$_\\mathrm{Rodded}$ & 1.2   & 0.4   & 0.029820069          & 0.098477509          & 0.004567474             & 0.114186862             & 0.02032872                        \n",
    "\\end{tabular}\n",
    "\\end{center}"
   ]
  },
  {
   "cell_type": "markdown",
   "metadata": {},
   "source": [
    "## Solution"
   ]
  },
  {
   "cell_type": "markdown",
   "metadata": {},
   "source": [
    "We will start by defining all of the material properties given above. Here, we will do this by the way of multiple dictionaries. Once these are defined, the variable $\\texttt{regions}$ will contain the order of the material regions. The property functions will then use the NumPy $\\texttt{floor}$ function to round down to the nearest integer of $\\frac{r}{w}$, which will be the corresponding index of the material type in the $\\texttt{regions}$ variable, and can be used to call the necessary material property without a lot of code. Note that in the $\\texttt{regions}$ variable, the last region is repeated twice. This is needed to allow the function to work correctly, and still allows the material functions to return the correct property.\n",
    "\n",
    "$\\br$Once the materials are defined as needed, the $\\texttt{TwoGroupDiffusionEigenvalue}$ function is ran with the necessary inputs. Note that all of the functions from the Chapter 20 lecture notes are contained in $\\texttt{ch20.py}$, and are imported as such.\n",
    "\n",
    "$\\br$Lastly, the power peaking factor is determined as the maximum overall flux divided by the average overall flux.$\\br$"
   ]
  },
  {
   "cell_type": "code",
   "execution_count": 5,
   "metadata": {},
   "outputs": [],
   "source": [
    "import numpy as np\n",
    "import matplotlib.pyplot as plt\n",
    "%matplotlib inline\n",
    "\n",
    "# Functions from chapter 20\n",
    "from ch20 import *\n",
    "\n",
    "# Define given data\n",
    "D = {\"U\": {1: 1.2, 2: 0.4},\n",
    "     \"M\": {1: 1.2, 2: 0.4},\n",
    "     \"R\": {1: 1.2, 2: 0.2},\n",
    "     \"Ur\": {1: 1.2, 2: 0.4}}\n",
    "Sig_r = {\"U\": {1: 0.029653979, 2: 0.093079585},\n",
    "         \"M\": {1: 0.029653979, 2: 0.23633218},\n",
    "         \"R\": {1: 0.051, 2: 0.04},\n",
    "         \"Ur\": {1: 0.029820069, 2: 0.098477509}}\n",
    "v_Sig_f = {\"U\": {1: 0.004567474, 2: 0.114186862},\n",
    "           \"M\": {1: 0.006851211, 2: 0.351903125},\n",
    "           \"R\": {1: 0.0, 2: 0.0},\n",
    "           \"Ur\": {1: 0.004567474, 2: 0.114186862}}\n",
    "Sig_ds = {\"U\": 0.020432526,\n",
    "          \"M\": 0.015865052,\n",
    "          \"R\": 0.05,\n",
    "          \"Ur\": 0.02032872}\n",
    "\n",
    "# Define regions and cells, with reflector\n",
    "regions = ['Ur','M','U','M','U','M','U','M','U','R','R']\n",
    "R = 200.0\n",
    "w = 20\n",
    "I = 1000\n",
    "\n",
    "# Define property functions\n",
    "def D_1(r):\n",
    "    regionNum = int(np.floor(r/w))\n",
    "    material = regions[regionNum]\n",
    "    return D[material][1]\n",
    "def D_2(r):\n",
    "    regionNum = int(np.floor(r/w))\n",
    "    material = regions[regionNum]\n",
    "    return D[material][2]\n",
    "def Sig_r_1(r):\n",
    "    regionNum = int(np.floor(r/w))\n",
    "    material = regions[regionNum]\n",
    "    return Sig_r[material][1]\n",
    "def Sig_r_2(r):\n",
    "    regionNum = int(np.floor(r/w))\n",
    "    material = regions[regionNum]\n",
    "    return Sig_r[material][2]\n",
    "def v_Sig_f_1(r):\n",
    "    regionNum = int(np.floor(r/w))\n",
    "    material = regions[regionNum]\n",
    "    return v_Sig_f[material][1]\n",
    "def v_Sig_f_2(r):\n",
    "    regionNum = int(np.floor(r/w))\n",
    "    material = regions[regionNum]\n",
    "    return v_Sig_f[material][2]\n",
    "def Sig_s12(r):\n",
    "    regionNum = int(np.floor(r/w))\n",
    "    material = regions[regionNum]\n",
    "    return Sig_ds[material]\n",
    "\n",
    "# Solve with reflector\n",
    "kR,phi1R,phi2R,rR = TwoGroupDiffusionEigenvalue(R,I,D_1,D_2,Sig_r_1,Sig_r_2,\n",
    "                                            v_Sig_f_1,v_Sig_f_2,Sig_s12,1)"
   ]
  },
  {
   "cell_type": "markdown",
   "metadata": {},
   "source": [
    "$\\br$Now, we will plot.$\\br$"
   ]
  },
  {
   "cell_type": "code",
   "execution_count": 6,
   "metadata": {},
   "outputs": [
    {
     "data": {
      "image/png": "[encoded data removed]",
      "text/plain": [
       "<Figure size 432x288 with 1 Axes>"
      ]
     },
     "metadata": {},
     "output_type": "display_data"
    },
    {
     "name": "stdout",
     "output_type": "stream",
     "text": [
      "The power peaking factor is 1.6048\n"
     ]
    }
   ],
   "source": [
    "# Plot with reflector\n",
    "plt.plot(rR,phi1R,label='Fast group')\n",
    "plt.plot(rR,phi2R,label='Thermal group')\n",
    "plt.title('Cylindrical reactor with reflector, $k$ = ' + str(kR)[0:6])\n",
    "plt.xlabel('$r$ (cm)')\n",
    "plt.ylabel('Normalized flux, $\\phi(r)$')\n",
    "plt.legend(bbox_to_anchor=(1.05, 1), loc=2, borderaxespad=0.)\n",
    "plt.show()\n",
    "\n",
    "# Define scalar flux and PPF\n",
    "phiR = phi1R + phi2R\n",
    "phiAvgR = np.average(phiR)\n",
    "phiMaxR = phiR.max()\n",
    "PPFR = phiMaxR/phiAvgR\n",
    "print('The power peaking factor is', '%.4f' % PPFR)"
   ]
  },
  {
   "cell_type": "markdown",
   "metadata": {},
   "source": [
    "$\\br$Notice how there is a local thermal flux maximum within the fuel rods where there is a lack of moderator, and a local thermal flux minimum in the moderated regions. At the right edge, the fast flux smoothes out as a result of the reflector."
   ]
  },
  {
   "cell_type": "markdown",
   "metadata": {},
   "source": [
    "The $\\texttt{regions}$ variable is then modified to account for the replacement of moderator with fuel at the right edge.$\\br$"
   ]
  },
  {
   "cell_type": "code",
   "execution_count": null,
   "metadata": {},
   "outputs": [],
   "source": [
    "# Solve without reflector\n",
    "regions = ['Ur','M','U','M','U','M','U','M','U','U','U']\n",
    "kU,phi1U,phi2U,rU = TwoGroupDiffusionEigenvalue(R,I,D_1,D_2,Sig_r_1,Sig_r_2,\n",
    "                                                v_Sig_f_1,v_Sig_f_2,Sig_s12,1)\n",
    "\n",
    "# Plot without reflector\n",
    "plt.plot(rU,phi1U,label='Fast group')\n",
    "plt.plot(rU,phi2U,label='Thermal group')\n",
    "plt.title('Cylindrical reactor without reflector, $k$ = ' + str(kU)[0:6])\n",
    "plt.xlabel('$r$ (cm)')\n",
    "plt.ylabel('Normalized flux, $\\phi(r)$')\n",
    "plt.legend(bbox_to_anchor=(1.05, 1), loc=2, borderaxespad=0.)\n",
    "plt.show()\n",
    "\n",
    "# Define scalar flux and PPF\n",
    "phiU = phi1U + phi2U\n",
    "phiAvgU = np.average(phiU)\n",
    "phiMaxU = phiU.max()\n",
    "PPFU = phiMaxU/phiAvgU\n",
    "print('The power peaking factor is', '%.4f' % PPFU)"
   ]
  },
  {
   "cell_type": "markdown",
   "metadata": {},
   "source": [
    "Note how at the right edge, the flux no longer decreases in a smooth fashion. It instead drops linearly as a result of the removal of the reflector. The eigenvalue increases only slightly as a result of the removal of the reflector."
   ]
  }
 ],
 "metadata": {
  "kernelspec": {
   "display_name": "Python 3",
   "language": "python",
   "name": "python3"
  },
  "language_info": {
   "codemirror_mode": {
    "name": "ipython",
    "version": 3
   },
   "file_extension": ".py",
   "mimetype": "text/x-python",
   "name": "python",
   "nbconvert_exporter": "python",
   "pygments_lexer": "ipython3",
   "version": "3.6.8"
  }
 },
 "nbformat": 4,
 "nbformat_minor": 1
}
