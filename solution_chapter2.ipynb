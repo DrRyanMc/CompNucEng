{
 "cells": [
  {
   "cell_type": "markdown",
   "metadata": {},
   "source": [
    "$\\textbf{2.1}$ Write a python code that asks the user to input a string. Then print back to the user their string backwards."
   ]
  },
  {
   "cell_type": "markdown",
   "metadata": {},
   "source": [
    "You can reference a specific character of a string, starting with the end of the string and counting backwards like so"
   ]
  },
  {
   "cell_type": "code",
   "execution_count": null,
   "metadata": {},
   "outputs": [],
   "source": [
    "someString = \"abcdefg\"\n",
    "\n",
    "print('The second to the last character of someString:',someString[-2])\n",
    "print('The fourth to the last character of someString:',someString[-4])"
   ]
  },
  {
   "cell_type": "markdown",
   "metadata": {},
   "source": [
    "and so on."
   ]
  },
  {
   "cell_type": "markdown",
   "metadata": {},
   "source": [
    "Therefore, if we determine the length of the string submitted by the user (using python's $\\texttt{len}$ function), and loop from -1 to the negative value of the length of the string, we can print out each character backwards."
   ]
  },
  {
   "cell_type": "markdown",
   "metadata": {},
   "source": [
    "Note that when using python's $\\texttt{print}$ function, the input $\\texttt{end = \"\"}$ is also used here in order to force the $\\texttt{print}$ function from forcefully entering a line break after each print."
   ]
  },
  {
   "cell_type": "code",
   "execution_count": null,
   "metadata": {},
   "outputs": [],
   "source": [
    "# Ask the user for their string\n",
    "string = input('Enter a string to be returned backwards: ')\n",
    "\n",
    "# Loop through -1 to the negative length of the string and print\n",
    "i = -1\n",
    "while(i >= -len(string)):\n",
    "    print(string[i], end=\"\"),\n",
    "    i += -1    "
   ]
  },
  {
   "cell_type": "markdown",
   "metadata": {},
   "source": [
    "$\\textbf{2.3}$ Prompt the user for a number. Report back the cute root of the number. Test the code with some numbers that are perfect cubes, e.g., 125. How accurate is the answer?"
   ]
  },
  {
   "cell_type": "code",
   "execution_count": null,
   "metadata": {},
   "outputs": [],
   "source": [
    "# Ask for the number\n",
    "number = float(input(\"Enter the number: \"))\n",
    "\n",
    "# Cube root and report\n",
    "cuberoot = number**(1/3)\n",
    "print(\"The cube root of\",number,\"is\",cuberoot)"
   ]
  },
  {
   "cell_type": "markdown",
   "metadata": {},
   "source": [
    "$\\textbf{Programming Project 1}$ Write a python code that asks the user to input the masses (in amu) of two reactants in a nuclear reaction and the two products of the reaction. The code will output the Q value of the reaction in MeV. Here is an example reaction:"
   ]
  },
  {
   "cell_type": "markdown",
   "metadata": {},
   "source": [
    "$$^{A_X}_{Z_X} X + ^{A_x}_{Z_x} \\rightarrow ^{A_Y}_{Z_Y} Y + ^{A_y}_{Z_y}y$$"
   ]
  },
  {
   "cell_type": "markdown",
   "metadata": {},
   "source": [
    "The user should be able to enter zero for the mass in case the reaction is a is a decay (i.e., has only one reactant) or is a reaction that has only one product. Use 1 amu = 931.494061 MeV/c2."
   ]
  },
  {
   "cell_type": "code",
   "execution_count": null,
   "metadata": {},
   "outputs": [],
   "source": [
    "# Define constants to be used\n",
    "amu_to_mev = 931.494061\n",
    "\n",
    "# Tell the user what were doing\n",
    "print('For the reaction X + x -> Y + y, enter the following in the units of amu')\n",
    "print('Note: for reactions of only one product/reactant, 0 is acceptable')\n",
    "\n",
    "# Ask user for all of the masses\n",
    "mass_X = float(input('Enter mass of reactant X: '))\n",
    "mass_x = float(input('Enter mass of reactant x: '))\n",
    "mass_Y = float(input('Enter mass of product Y: '))\n",
    "mass_y = float(input('Enter mass of product y: '))\n",
    "\n",
    "# Calculate Q value\n",
    "Q = amu_to_mev*(mass_Y + mass_y - mass_X - mass_x)\n",
    "\n",
    "# Tell the user the answer\n",
    "print('Q =',Q,\"MeV\")"
   ]
  },
  {
   "cell_type": "markdown",
   "metadata": {},
   "source": [
    "Note: When taking user input, the resulting python variable is a string. In order to use this input as a value in calculation, its data type must be converted (done above with the python float function)."
   ]
  }
 ],
 "metadata": {
  "kernelspec": {
   "display_name": "Python 3",
   "language": "python",
   "name": "python3"
  },
  "language_info": {
   "codemirror_mode": {
    "name": "ipython",
    "version": 3
   },
   "file_extension": ".py",
   "mimetype": "text/x-python",
   "name": "python",
   "nbconvert_exporter": "python",
   "pygments_lexer": "ipython3",
   "version": "3.6.8"
  }
 },
 "nbformat": 4,
 "nbformat_minor": 1
}
