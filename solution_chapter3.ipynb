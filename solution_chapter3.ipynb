{
 "cells": [
  {
   "cell_type": "markdown",
   "metadata": {},
   "source": [
    "$\\textbf{3.1}$ Write a function for python that simulates the roll of two standard, six-sided dice. Have the program roll the dice a large number of times and report the fraction of rolls that are each possible combination, 2-12. Compare your numbers with the probability of each possible roll that you calculate by hand."
   ]
  },
  {
   "cell_type": "markdown",
   "metadata": {},
   "source": [
    "Here we will use the random module in Python to simulate the roll of a dice. Variables will be defined that will store the number of rolls that summed to each possible combination 2-12."
   ]
  },
  {
   "cell_type": "code",
   "execution_count": null,
   "metadata": {},
   "outputs": [],
   "source": [
    "# Import random and seed the generator\n",
    "import random\n",
    "random.seed()\n",
    "\n",
    "# Plot things (not required)\n",
    "import matplotlib.pyplot as plt\n",
    "\n",
    "def RollDice(rolls, LOUD = False):\n",
    "    \"\"\"Simulates the roll of two standard, six-sided dice\n",
    "    \n",
    "    Args:\n",
    "        rolls: integer of number of rolls to make\n",
    "        LOUD: boolean that decides whether to print out the answer\n",
    "        \n",
    "    Returns:\n",
    "        r2: float of the fraction of rolls that sum to 2 \n",
    "        r3: float of the fraction of rolls that sum to 3\n",
    "        r4: float of the fraction of rolls that sum to 4\n",
    "        r5: float of the fraction of rolls that sum to 5\n",
    "        r6: float of the fraction of rolls that sum to 6\n",
    "        r7: float of the fraction of rolls that sum to 7\n",
    "        r8: float of the fraction of rolls that sum to 8\n",
    "        r9: float of the fraction of rolls that sum to 9\n",
    "        r10: float of the fraction of rolls that sum to 10\n",
    "        r11: float of the fraction of rolls that sum to 11\n",
    "        r12: float of the fraction of rolls that sum to 12\n",
    "    \"\"\"\n",
    "    \n",
    "    # Initilize roll sum variables\n",
    "    r2 = 0\n",
    "    r3 = 0\n",
    "    r4 = 0\n",
    "    r5 = 0\n",
    "    r6 = 0\n",
    "    r7 = 0\n",
    "    r8 = 0\n",
    "    r9 = 0\n",
    "    r10 = 0\n",
    "    r11 = 0\n",
    "    r12 = 0\n",
    "    \n",
    "    # Create a loop to roll for \"rolls\" time\n",
    "    for i in range(rolls):\n",
    "        sum = random.randint(1,6) + random.randint(1,6) # generate 2 random ints and sum\n",
    "        if sum == 2: # add to sum of 2\n",
    "            r2 += 1\n",
    "        elif sum == 3: # add to sum of 3\n",
    "            r3 += 1\n",
    "        elif sum == 4: # add to sum of 4\n",
    "            r4 += 1\n",
    "        elif sum == 5: # add to sum of 5\n",
    "            r5 += 1\n",
    "        elif sum == 6: # add to sum of 6\n",
    "            r6 += 1\n",
    "        elif sum == 7: # add to sum of 7\n",
    "            r7 += 1\n",
    "        elif sum == 8: # add to sum of 8\n",
    "            r8 += 1\n",
    "        elif sum == 9: # add to sum of 9\n",
    "            r9 += 1\n",
    "        elif sum == 10: # add to sum of 10\n",
    "            r10 += 1\n",
    "        elif sum == 11: # add to sum of 11\n",
    "            r11 += 1\n",
    "        else: # add to sum of 12\n",
    "            r12 += 1\n",
    "    \n",
    "    # Make the roll totals fractions\n",
    "    r2 = r2/rolls\n",
    "    r3 = r3/rolls\n",
    "    r4 = r4/rolls\n",
    "    r5 = r5/rolls\n",
    "    r6 = r6/rolls\n",
    "    r7 = r7/rolls\n",
    "    r8 = r8/rolls\n",
    "    r9 = r9/rolls\n",
    "    r10 = r10/rolls\n",
    "    r11 = r11/rolls\n",
    "    r12 = r12/rolls\n",
    "    \n",
    "    if(LOUD):\n",
    "        print(rolls, \"pair of dice rolled\")\n",
    "        print('Roll sum results')\n",
    "        print('2:\\t',r2)\n",
    "        print('3:\\t',r3)\n",
    "        print('4:\\t',r4)\n",
    "        print('5:\\t',r5)\n",
    "        print('6:\\t',r6)\n",
    "        print('7:\\t',r7)\n",
    "        print('8:\\t',r8)\n",
    "        print('9:\\t',r9)\n",
    "        print('10:\\t',r10)\n",
    "        print('11:\\t',r11)\n",
    "        print('12:\\t',r12)\n",
    "    \n",
    "    return r2,r3,r4,r5,r6,r7,r8,r9,r10,r11,r12\n",
    "\n",
    "# Run the function\n",
    "r2,r3,r4,r5,r6,r7,r8,r9,r10,r11,r12 = RollDice(5000,True)"
   ]
  },
  {
   "cell_type": "markdown",
   "metadata": {},
   "source": [
    "There are $6^2$ total permutations with the rolling of two dice. The probabilities are then calculated knowing the possible permutations of each sum divided by the total number of permutations.  Therefore, the probabilities are calculated as follows:"
   ]
  },
  {
   "cell_type": "raw",
   "metadata": {},
   "source": [
    "\\begin{center}\n",
    "\\begin{tabular}{|c|c|c|}\n",
    "    \\hline\n",
    "    Sum & Permutations & Probability \\\\\n",
    "    \\hline\n",
    "    2 & 1 & $\\frac{1}{36} = 0.0277$ \\\\\n",
    "    \\hline\n",
    "    3 & 2 & $\\frac{2}{36} = 0.0555$ \\\\\n",
    "    \\hline\n",
    "    4 & 3 & $\\frac{3}{36} = 0.0833$ \\\\\n",
    "    \\hline\n",
    "    5 & 4 & $\\frac{4}{36} = 0.1111$ \\\\\n",
    "    \\hline\n",
    "    6 & 5 & $\\frac{5}{36} = 0.1388$ \\\\\n",
    "    \\hline\n",
    "    7 & 6 & $\\frac{6}{36} = 0.1667$ \\\\\n",
    "    \\hline\n",
    "    8 & 5 & $\\frac{5}{36} = 0.1388$ \\\\\n",
    "    \\hline\n",
    "    9 & 4 & $\\frac{4}{36} = 0.1111$ \\\\\n",
    "    \\hline\n",
    "    10 & 3 & $\\frac{3}{36} = 0.0833$ \\\\\n",
    "    \\hline\n",
    "    11 & 2 & $\\frac{2}{36} = 0.0555$ \\\\\n",
    "    \\hline\n",
    "    12 & 1 & $\\frac{1}{36} = 0.0277$ \\\\\n",
    "    \\hline\n",
    "\\end{tabular}\n",
    "\\end{center}"
   ]
  },
  {
   "cell_type": "markdown",
   "metadata": {},
   "source": [
    "$\\textbf{(100 points)}$ The exponential integral, $E_n(x)$, is an important function in nuclear engineering and health physics applications. This function is defined as"
   ]
  },
  {
   "cell_type": "markdown",
   "metadata": {},
   "source": [
    "$$E_n(x) = \\int_{1}^{\\infty} dt \\frac{e^{-xt}}{t^n}.$$"
   ]
  },
  {
   "cell_type": "markdown",
   "metadata": {},
   "source": [
    "One way to compute this integral is via a Monte Carlo procedure,"
   ]
  },
  {
   "cell_type": "markdown",
   "metadata": {},
   "source": [
    "$$\\int_{a}^{b} dy~f(y) \\approx \\frac{1}{N} \\sum_{i=1}^{N}~f(y_i),$$"
   ]
  },
  {
   "cell_type": "markdown",
   "metadata": {},
   "source": [
    "where"
   ]
  },
  {
   "cell_type": "markdown",
   "metadata": {},
   "source": [
    "$$y_i \\sim U[a,b],$$"
   ]
  },
  {
   "cell_type": "markdown",
   "metadata": {},
   "source": [
    "or in words, $y_i$ is a uniform random number between $a$ and $b$. For this problem you may use the $\\texttt{random}$ or $\\texttt{numpy}$ modules. "
   ]
  },
  {
   "cell_type": "markdown",
   "metadata": {},
   "source": [
    "### 3.1\n",
    "Make the substitution $\\mu = 1/t$ in the integral to get an integral with finite bounds."
   ]
  },
  {
   "cell_type": "markdown",
   "metadata": {},
   "source": [
    "The substitution $\\mu = 1/t$ results in the following"
   ]
  },
  {
   "cell_type": "markdown",
   "metadata": {},
   "source": [
    "$$E_n(x) = \\int_{1}^{\\infty} dt \\frac{e^{-xt}}{t^n} = \\int_0^1 d\\mu \\frac{e^{-x/\\mu}}{\\mu^n}$$"
   ]
  },
  {
   "cell_type": "markdown",
   "metadata": {},
   "source": [
    "The statement above can then be substituted into the Monte Carlo procedure referenced in the problem statement to produce a method to estimate the exponential integral, such that"
   ]
  },
  {
   "cell_type": "markdown",
   "metadata": {},
   "source": [
    "$$E_n(x) = \\frac{1}{N} \\sum_{i=1}^N \\frac{e^{-x/y_i}}{y_i^n},$$"
   ]
  },
  {
   "cell_type": "markdown",
   "metadata": {},
   "source": [
    "where"
   ]
  },
  {
   "cell_type": "markdown",
   "metadata": {},
   "source": [
    "$$y_i \\sim U[0,1].$$"
   ]
  },
  {
   "cell_type": "markdown",
   "metadata": {},
   "source": [
    "(note that the equation above is not required for full credit, only the equation in regards to making the $\\mu$ substitution)"
   ]
  },
  {
   "cell_type": "markdown",
   "metadata": {},
   "source": [
    "Write a python function to compute the exponential integral. The inputs should be $n$, $x$, and $N$ in the notation above. Give estimates for $E_1(1)$ using $N = 1,10,100,1000,10^4$"
   ]
  },
  {
   "cell_type": "markdown",
   "metadata": {},
   "source": [
    "### 3.2\n",
    "The idea here is to use $\\texttt{numpy}$ function $\\texttt{random.rand}$ to create an array of N gusses and then sum the guesses according to the summation above, using the $\\texttt{sum}$ function. In addition, the function $\\texttt{e}$ is used for the exponential."
   ]
  },
  {
   "cell_type": "code",
   "execution_count": null,
   "metadata": {},
   "outputs": [],
   "source": [
    "# Use numpy\n",
    "import numpy as np\n",
    "\n",
    "def MCExpIntEstimation(n,x,N):\n",
    "    \n",
    "    \"\"\"Computes the approximation of exponential integral using\n",
    "    a Monte Carlo procedure\n",
    "        \n",
    "        Args:\n",
    "            n: Subscript for the exponential integral\n",
    "            x: Value at which to evaluate the exponential integral\n",
    "            N: Number of guesses to use in the approximation\n",
    "        \n",
    "        Returns:\n",
    "            est: The estimation with the given arguments\n",
    "    \"\"\"\n",
    "    \n",
    "    # Make an array of N gusses\n",
    "    yi = np.random.rand(N)\n",
    "    \n",
    "    # Calcualte the sum\n",
    "    est = np.sum(np.e**(-x/yi)/(N*yi**n))\n",
    "    \n",
    "    # This would also work\n",
    "    # est = 0\n",
    "    # for i in range(N):\n",
    "    #    est += np.e**(-x/yi[i])/(N*yi[i]**n)\n",
    "    \n",
    "    # Return the estimation\n",
    "    return est\n",
    "    \n",
    "# Calculate the estimates for the requested values of n,X and N\n",
    "N = [1,10,100,1000,10**4]\n",
    "for i in N:\n",
    "    print('The estimation for n=x=1, N =',i,'is',MCExpIntEstimation(1,1,i))"
   ]
  },
  {
   "cell_type": "markdown",
   "metadata": {},
   "source": [
    "Conveniently, $\\texttt{SciPi}$ has a function, $\\texttt{special.expn(n,x)}$, which returns the exponential integral. We can use this to compare results (not required)."
   ]
  },
  {
   "cell_type": "code",
   "execution_count": null,
   "metadata": {},
   "outputs": [],
   "source": [
    "from scipy import special\n",
    "print(special.expn(1,1))"
   ]
  },
  {
   "cell_type": "markdown",
   "metadata": {},
   "source": [
    "Great. It looks like as we increase the number of samples, the result converges to the actual answer."
   ]
  },
  {
   "cell_type": "markdown",
   "metadata": {},
   "source": [
    "### 3.3\n",
    "Write a python function that estimates the standard deviation of several estimates of the exponential integral function from the function you wrote in the previous part. The formula for the standard deviation of a quantity $g$ given $L$ samples is"
   ]
  },
  {
   "cell_type": "markdown",
   "metadata": {},
   "source": [
    "$$\\sigma_g = \\sqrt{\\frac{1}{L-1} \\sum_{l=1}^{L}~\\big(g_l - \\bar{g}\\big)^2}$$"
   ]
  },
  {
   "cell_type": "markdown",
   "metadata": {},
   "source": [
    "where $\\bar{g}$ is the mean of the $L$ samples. Using your function $L$ of at least 10, estimate the standard deviation of the Monte Carlo estimate of $E_1(1)$ using $N = 1,10,100,1000,10^4,10^5,10^6$."
   ]
  },
  {
   "cell_type": "markdown",
   "metadata": {},
   "source": [
    "The following takes advantage of the previous function written, $\\texttt{MCExpIntEstimation}$. By having a source for samples of the Monte Carlo estimation, a $\\texttt{for}$ loop is employed that generates $\\tt{L}$ samples of the estimation and stores them in an array $\\tt{samples}$. These samples are obtained and then the standard deviation of the samples are determined using the equation above. Note that the $\\tt{NumPy}$ function $\\tt{std}$ would work here as well."
   ]
  },
  {
   "cell_type": "code",
   "execution_count": null,
   "metadata": {},
   "outputs": [],
   "source": [
    "def StdDevEstimation(n,x,N,L):\n",
    "\n",
    "    \"\"\"Calculates the standard deviation of L estimates of\n",
    "    the exponential integral function estimated via a Monte Carlo\n",
    "    procedure.\n",
    "    \n",
    "        Args:\n",
    "            n: Subscript for the exponential integral\n",
    "            x: Value at which to evaluate the exponential integral\n",
    "            N: Number of guesses to use in the approximation\n",
    "            L: Number of estimates to use as samples\n",
    "            \n",
    "        Returns:\n",
    "            stddev: Standard deviation of the sample\n",
    "    \"\"\"\n",
    "    \n",
    "    # Define sample set\n",
    "    samples = np.zeros(L)\n",
    "    for i in range(L):\n",
    "        samples[i] = MCExpIntEstimation(n,x,N)\n",
    "        \n",
    "    # Determine standard deviation of samples\n",
    "    stddev = np.sqrt((1/(L-1))*np.sum((samples-np.mean(samples))**2))\n",
    "    \n",
    "    # This would work too, using numpy\n",
    "    #stddev = np.std(samples)\n",
    "        \n",
    "    return stddev\n",
    "\n",
    "# Define array of N's to evaluate function at\n",
    "N = [1,10,100,1000,10**4,10**5,10**6]\n",
    "\n",
    "# Evaluate and print to the user\n",
    "print(\"Standard deviation of estimates:\")\n",
    "print(\"N - standard deviation\")\n",
    "for guesses in N:\n",
    "    stdDev = StdDevEstimation(1,1,guesses,10)\n",
    "    print(guesses,\"-\",stdDev)"
   ]
  },
  {
   "cell_type": "markdown",
   "metadata": {},
   "source": [
    "Again, we would expect for the deviation of the approximations to decrease with a larger sample size (in the Monte Carlo estimation)."
   ]
  }
 ],
 "metadata": {
  "kernelspec": {
   "display_name": "Python 3",
   "language": "python",
   "name": "python3"
  },
  "language_info": {
   "codemirror_mode": {
    "name": "ipython",
    "version": 3
   },
   "file_extension": ".py",
   "mimetype": "text/x-python",
   "name": "python",
   "nbconvert_exporter": "python",
   "pygments_lexer": "ipython3",
   "version": "3.6.8"
  }
 },
 "nbformat": 4,
 "nbformat_minor": 1
}
