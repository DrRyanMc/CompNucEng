{
 "cells": [
  {
   "cell_type": "markdown",
   "metadata": {},
   "source": [
    "$\\textbf{4.1}$ Write a simple dot product calculator. Ask the user for the size of the vector, and then to input the value for each element in the vector. Print to the user the value of the dot product of the two vectors."
   ]
  },
  {
   "cell_type": "markdown",
   "metadata": {},
   "source": [
    "Here we will first create two arrays $\\texttt{x}$ and $\\texttt{y}$ with size dependent on a user input asking for vector size. Then, we will create two $\\texttt{for}$ loops that fill $\\texttt{x}$ and $\\texttt{y}$ depending on the size the user inputted. Afterwards, the dot product calculation is as simple as using the $\\texttt{numpy}$ function $\\texttt{dot(x,y)}$."
   ]
  },
  {
   "cell_type": "code",
   "execution_count": null,
   "metadata": {},
   "outputs": [],
   "source": [
    "import numpy as np\n",
    "\n",
    "# Tell the user what we are doing\n",
    "print(\"Dot product calculator\")\n",
    "\n",
    "# Ask the user for the size\n",
    "size = int(input(\"Enter the size of the vectors: \"))\n",
    "\n",
    "# Loop to input x\n",
    "x = np.zeros(size)\n",
    "for element in range(0,size):\n",
    "    x[element] = float(input(\"Enter element \" + str(element+1) + \" in the first vector: \"))\n",
    "\n",
    "# Loop to input y\n",
    "y = np.zeros(size)\n",
    "for element in range(0,size):\n",
    "    y[element] = float(input(\"Enter element \" + str(element+1) + \" in the second vector: \"))\n",
    "    \n",
    "# Calculate dot product\n",
    "dotproduct = np.dot(x,y) \n",
    "\n",
    "# Print to the user\n",
    "print(\"The dot product is\",dotproduct)"
   ]
  },
  {
   "cell_type": "markdown",
   "metadata": {},
   "source": [
    "$\\textbf{4.3}$ Ask the user for a vector size, $N$. Print to the user a random vector of size $N$. Then print the sorted matrix. NumPy has a function for sorting a vector: $\\texttt{x.sort()}$, where $\\tt{x}$ is the name of a vector."
   ]
  },
  {
   "cell_type": "markdown",
   "metadata": {},
   "source": [
    "Here we will request the user for the size $N$ and use the numpy function $\\texttt{random.rand}$ to create a random matrix with the given size. $\\tt{x.sort()}$ is then used to sort the matrix, and it is printed."
   ]
  },
  {
   "cell_type": "code",
   "execution_count": null,
   "metadata": {},
   "outputs": [],
   "source": [
    "# Use numpy\n",
    "import numpy as np\n",
    "\n",
    "# Ask the user for the size\n",
    "N = int(input(\"Enter the size of the vector: \"))\n",
    "\n",
    "# Create the random matrix\n",
    "x = np.random.rand(N)\n",
    "\n",
    "# Print generated matrix\n",
    "print(\"Matrix generated:\")\n",
    "print(x)\n",
    "\n",
    "# Sort matrix \n",
    "x.sort()\n",
    "print(\"Sorted matrix:\")\n",
    "print(x) # sorted matrix"
   ]
  },
  {
   "cell_type": "markdown",
   "metadata": {},
   "source": [
    "$\\textbf{4.5}$ Ask the user for a vector size, $N$. Print to the user a random vector of size $N$ where the elements of $N$ are from a normal distribution with mean $0$ and standard deviation $1$. To generate this vector you should use the numpy function $\\texttt{np.random.normal}$. Then print the mean value of the vector and the standard deviation. NumPy has a function that returns the mean value and standard deviation: $\\texttt{x.mean()}$ and $\\texttt{x.std()}$, where $\\tt{x}$ is the name of a vector."
   ]
  },
  {
   "cell_type": "markdown",
   "metadata": {},
   "source": [
    "Here we will request the user for the size N and use the numpy function $\\texttt{random.normal(loc,scale,size)}$ with the arguments $0,1,N$, which define the center, the width and size of samples. The numpy functions $\\texttt{x.mean()}$ and $\\texttt{x.std()}$ are then used to determine the mean and standard deviation. A decently large sample size is required to result in a mean roughly close to 0 and a standard deviation roughly close to 1."
   ]
  },
  {
   "cell_type": "code",
   "execution_count": null,
   "metadata": {},
   "outputs": [],
   "source": [
    "# Use numpy\n",
    "import numpy as np\n",
    "\n",
    "# Ask the user for the size\n",
    "N = int(input('Enter the size of the vector: '))\n",
    "\n",
    "# Create the random normal matrix\n",
    "x = np.random.normal(0,1,N)\n",
    "\n",
    "# Calculate desired values\n",
    "mean = x.mean()\n",
    "std = x.std()\n",
    "\n",
    "# Print to the user\n",
    "print(\"Matrix generated:\")\n",
    "print(x)\n",
    "print('Mean of the matrix:',mean)\n",
    "print('Standard deviation of the matrix:',std)"
   ]
  },
  {
   "cell_type": "markdown",
   "metadata": {},
   "source": [
    "## Project: Charges in a plane"
   ]
  },
  {
   "cell_type": "markdown",
   "metadata": {},
   "source": [
    "Consider a collection of $N$ charged point particles distributed in the $xy$ plane. The particles have known masses, $m$, and charges, $q$. The Coulomb force on particle $i$ is given by"
   ]
  },
  {
   "cell_type": "markdown",
   "metadata": {},
   "source": [
    "$$F_i = \\sum_{j = 1, j \\neq i}^{N} \\frac{q_i q_j}{r^2},$$"
   ]
  },
  {
   "cell_type": "markdown",
   "metadata": {},
   "source": [
    "where $r$ is the distance between particle $i$ and $j$. The $x$ and $y$ components of the force are"
   ]
  },
  {
   "cell_type": "markdown",
   "metadata": {},
   "source": [
    "$$F_i^x = \\sum_{j = 1, j \\neq i}^{N} \\frac{q_i q_j}{r^2} \\frac{x_i - x_j}{r},~~~~~~~~F_j^y = \\sum_{j = 1, j \\neq i}^{N} \\frac {q_i q_j}{r^2} \\frac{y_i - y_j}{r}.$$"
   ]
  },
  {
   "cell_type": "markdown",
   "metadata": {},
   "source": [
    "From the forces, we can compute the acceleration in each direction using $\\vec{F_i} = m_i \\vec{a}$. Given the equations of motion of a particle"
   ]
  },
  {
   "cell_type": "markdown",
   "metadata": {},
   "source": [
    "$$v_{x,i}^{l+1} = v_{x,i}^{l} + \\Delta ta_{x,i}^{l},~~~~~v_{y,i}^{l+1} = v_{y,i}^{l} + \\Delta ta_{y,i}^{l},$$"
   ]
  },
  {
   "cell_type": "markdown",
   "metadata": {},
   "source": [
    "$$x_{i}^{l+1} = x_{i}^{l} + \\Delta tv_{x,i}^{l+1},~~~~~y_{i}^{l+1} = y_{i}^{l} + \\Delta tv_{y,i}^{l+1},$$"
   ]
  },
  {
   "cell_type": "markdown",
   "metadata": {},
   "source": [
    "$$\\text{for}~l = 1 \\dots L~\\text{and}~v_{x,i}^{0} = v_{y,i}^{0} = 0.$$"
   ]
  },
  {
   "cell_type": "markdown",
   "metadata": {},
   "source": [
    "Write a python function that solves the above problem, and then solve for the final positions of the particles using $L$ = 1000 and $\\Delta t$ = 0.001. Utilize the following code snippet to write your function. The function is already defined for you and the initial values of each particle are also defined. All that is missing within the function is a method to solve for the final positions of the particles within the function. You will also need to run the function at the end of your code with the given conditions of $L$ and $\\Delta t$."
   ]
  },
  {
   "cell_type": "code",
   "execution_count": null,
   "metadata": {},
   "outputs": [],
   "source": [
    "def PlaneCharges(x,y,vx,vy,mass,q,dt,L):\n",
    "    \"\"\"Simulates a collection of N charged point particles \n",
    "    distributed in the xy plane and solves for the final \n",
    "    positions of the particles after a given period of time.\n",
    "    \n",
    "    Args:\n",
    "        x: numpy array of the initial x-positions of the particles\n",
    "        y: numpy array of the initial y-positions of the particles\n",
    "        vx: numpy array of the initial x-velocities of the particles\n",
    "        vy: numpy array of the initial y-velocities of the particles\n",
    "        mass: numpy array of the masses of the particles\n",
    "        q: numpy array of the relative charges of the particles\n",
    "        dt: float of the time step to use\n",
    "        L: number of time steps to advance\n",
    "        \n",
    "    Returns:\n",
    "        x: numpy array of the final x-positions of the particles\n",
    "        y: numpy array of the final y-positions of the particles\n",
    "        vx: numpy array of the final x-velocities of the particles\n",
    "        vy: numpy array of the final y-velocities of the particles\n",
    "    \"\"\"\n",
    "    \n",
    "    # Determine number of particles\n",
    "    N = x.size\n",
    "    \n",
    "    # Define force vectors\n",
    "    Fx = np.zeros(N)\n",
    "    Fy = np.zeros(N)\n",
    "    \n",
    "    #\n",
    "    # PLOT THE INITIAL PARTICLE POSITIONS\n",
    "    #\n",
    "    # USE GIVEN EQUATIONS TO SOLVE FOR\n",
    "    # FINAL PARTICLE POSITIONS\n",
    "    #\n",
    "    # PLOT FINAL PARTICLE POSITIONS\n",
    "    #\n",
    "        \n",
    "    # Return desired values\n",
    "    return x,y,vx,vy\n",
    "\n",
    "# Given initial values\n",
    "x = np.array([0,1,1,0,0 ,0.5, 1,.5,.5,.5,.4,.65,.45,.35])*4\n",
    "y = np.array([0,1,0,1,0.5,-.125,0.5,1.125 ,.5,.4,.5,.65,.45,.35])*4\n",
    "vx = np.zeros(x.size)\n",
    "vy = np.zeros(y.size)\n",
    "mass = np.array([10**8,10**8,10**8,10**8,10**8,10**8,10**8,10**8,1.0,1.0,1.0,1.0,1.0,1.0])\n",
    "q = np.array([1000,1000,1000,1000,1000,1000,1000,1000,1,1,1,1,1,1.0])\n",
    "\n",
    "#\n",
    "# RUN THE FUNCTION WITH THE GIVEN VALUES\n",
    "#"
   ]
  },
  {
   "cell_type": "markdown",
   "metadata": {},
   "source": [
    "There are three acceptable solutions here depending on how $\\tt{r}$ was calculated. Solution 1 calculates an array $\\tt{r}$ at the beginning of the timestep loop, which is the ideal way for it to be done. This calculation of $\\tt{r}$ was done in short exercise 6. Solution 2 calculates the radii within each force calculation and then calculates the velocity and position changes after all forces are determined. Solution 3 calculates the radii within each force calculation and then calculates the velocity and position changes."
   ]
  },
  {
   "cell_type": "markdown",
   "metadata": {},
   "source": [
    "Three or more $\\texttt{for}$ loops must be employed. First, you must loop about each time step, which in this case is $\\texttt{L}$. Once within a timestep, a loop must be employed which loops through each particle $\\texttt{i}$ in order to determine the force on the particle within that timestep. Once the forces are known on a particle, the accelerations on a particle are evaluated which can lead to the change in velocity ($\\tt{\\Delta vx}$ and $\\tt{\\Delta vy}$) and change in position $\\tt{\\Delta x}$ and $\\tt{\\Delta y}$) of the particle. The positions are plotted initially and at the end of the iteration of $\\tt{L}$ timesteps in order to show the changes."
   ]
  },
  {
   "cell_type": "markdown",
   "metadata": {},
   "source": [
    "The force arrays $\\tt{Fx}$ and $\\tt{Fy}$ must be zeroed at each new timestep, as they are reevaluated unlike the velocity and position vectors which are not zeroed. In addition, the distance array $\\tt{r}$, which is an array of distances between individual particles, must also be reevaluated at the beginning of the timestep loop."
   ]
  },
  {
   "cell_type": "markdown",
   "metadata": {},
   "source": [
    "### Solution 1"
   ]
  },
  {
   "cell_type": "markdown",
   "metadata": {},
   "source": [
    "Within this example, the radii are calculated at the beginning of the timestep loop. This is the ideal solution."
   ]
  },
  {
   "cell_type": "code",
   "execution_count": null,
   "metadata": {},
   "outputs": [],
   "source": [
    "import numpy as np\n",
    "import matplotlib.pyplot as plt\n",
    "%matplotlib inline\n",
    "def PlaneCharges(x,y,vx,vy,mass,q,dt,L):\n",
    "    \"\"\"Simulates a collection of N charged point particles \n",
    "    distributed in the xy plane and solves for the final \n",
    "    positions of the particles after a given period of time.\n",
    "    \n",
    "    Args:\n",
    "        x: numpy array of the initial x-positions of the particles\n",
    "        y: numpy array of the initial y-positions of the particles\n",
    "        vx: numpy array of the initial x-velocities of the particles\n",
    "        vy: numpy array of the initial y-velocities of the particles\n",
    "        mass: numpy array of the masses of the particles\n",
    "        q: numpy array of the relative charges of the particles\n",
    "        dt: float of the time step to use\n",
    "        L: number of time steps to advance\n",
    "        \n",
    "    Returns:\n",
    "        x: numpy array of the final x-positions of the particles\n",
    "        y: numpy array of the final y-positions of the particles\n",
    "        vx: numpy array of the final x-velocities of the particles\n",
    "        vy: numpy array of the final y-velocities of the particles\n",
    "    \"\"\"\n",
    "    \n",
    "    # Determine number of particles\n",
    "    N = x.size\n",
    "    \n",
    "    # Define force vectors\n",
    "    Fx = np.zeros(N)\n",
    "    Fy = np.zeros(N)\n",
    "    \n",
    "    # Plot initial positions\n",
    "    colors = np.arange(N) # Give each particle a unique color\n",
    "    plt.scatter(x,y,c=colors)\n",
    "    plt.title('Initial particle positions')\n",
    "    plt.show()\n",
    "\n",
    "    # Calculate the forces for each time increment\n",
    "    for k in range(L):\n",
    "        # Zero the force vector\n",
    "        Fx = Fx*0.0\n",
    "        Fy = Fy*0.0\n",
    "        # Evaluate distances between each particle\n",
    "        r = np.zeros([N,N])\n",
    "        for i in range(N):\n",
    "            for j in range(N):\n",
    "                r[i,j] = np.sqrt((x[i]-x[j])**2 + (y[i]-y[j])**2)\n",
    "        # Loop through each i\n",
    "        for i in range(N):\n",
    "            # Calculate the force by each j on i\n",
    "            for j in range(N):\n",
    "                if j != i:\n",
    "                    # Calculate force between j and i and add to Fx, Fy\n",
    "                    Fx[i] += q[i]*q[j]*(x[i]-x[j])/r[i,j]**3\n",
    "                    Fy[i] += q[i]*q[j]*(y[i]-y[j])/r[i,j]**3\n",
    "            # Determine velocity change on i\n",
    "            vx[i] += dt*Fx[i]/mass[i]\n",
    "            vy[i] += dt*Fy[i]/mass[i]\n",
    "            # Determine new position of i\n",
    "            x[i] += dt*vx[i]\n",
    "            y[i] += dt*vy[i]\n",
    "\n",
    "    # Plot final particle positions\n",
    "    plt.scatter(x,y,c=colors)\n",
    "    plt.title('Final particle positions')\n",
    "    plt.show()\n",
    "    \n",
    "    # Print a table of the final positions\n",
    "    if (N<20):\n",
    "        print('Particle\\tx-pos\\t\\t y-pos')\n",
    "        for i in range(N):\n",
    "            print(i,'\\t\\t','%.4f' % x[i],'\\t','%.4f' % y[i])\n",
    "        \n",
    "    # Return desired values\n",
    "    return x,y,vx,vy\n",
    "\n",
    "# Set up initial (given) values of x,y,mass,q\n",
    "x = np.array([0,1,1,0,0 ,0.5, 1, 0.5,.5,.5,.4,.65,.45,.35])*4\n",
    "y = np.array([0,1,0,1,0.5,-.125,0.5,1.125 ,.5,.4,.5,.65,.45,.35])*4\n",
    "vx = np.zeros(x.size)\n",
    "vy = np.zeros(y.size)\n",
    "mass = np.array([10**8,10**8,10**8,10**8,10**8,10**8,10**8,10**8,1.0,1,1,1,1,1])\n",
    "q = np.array([1000,1000,1000,1000,1000,1000,1000,1000,1,1,1,1,1,1.0])\n",
    "\n",
    "[x,y,vx,vy] = PlaneCharges(x,y,vx,vy,mass,q,0.001,1000)"
   ]
  },
  {
   "cell_type": "markdown",
   "metadata": {},
   "source": [
    "### Solution 2"
   ]
  },
  {
   "cell_type": "markdown",
   "metadata": {},
   "source": [
    "Within this example, the radii are calculated within each individual force calculation and after all force calculations are completed, the changes in velocity and position are determined. Note that only the timestep loop as shown, as all other code remains the same as it is in Solution 1."
   ]
  },
  {
   "cell_type": "code",
   "execution_count": null,
   "metadata": {},
   "outputs": [],
   "source": [
    "    # Calculate the forces for each time increment\n",
    "    for k in range(L):\n",
    "        # Zero the force vector\n",
    "        Fx = Fx*0.0\n",
    "        Fy = Fy*0.0\n",
    "        # Loop through each i\n",
    "        for i in range(N):\n",
    "            # Calculate the force by each j on i\n",
    "            for j in range(N):\n",
    "                if j != i:\n",
    "                    # Evaluate distances between i and j\n",
    "                    r = np.sqrt((x[i]-x[j])**2 + (y[i]-y[j])**2)\n",
    "                    # Calculate force between j and i and add to Fx, Fy\n",
    "                    Fx[i] += q[i]*q[j]*(x[i]-x[j])/r**3\n",
    "                    Fy[i] += q[i]*q[j]*(y[i]-y[j])/r**3\n",
    "        # Determine changes after all forces have been calculated\n",
    "        for i in range(N):\n",
    "            # Determine velocity change on i\n",
    "            vx[i] += dt*Fx[i]/mass[i]\n",
    "            vy[i] += dt*Fy[i]/mass[i]\n",
    "            # Determine new position of i\n",
    "            x[i] += dt*vx[i]\n",
    "            y[i] += dt*vy[i]"
   ]
  },
  {
   "cell_type": "markdown",
   "metadata": {},
   "source": [
    "Within this example, the radii are calculated within each individual force calculation and then the changes in velocity and position are determined. Note that only the timestep loop as shown, as all other code remains the same as it is in Solution 1."
   ]
  },
  {
   "cell_type": "code",
   "execution_count": null,
   "metadata": {},
   "outputs": [],
   "source": [
    "    # Calculate the forces for each time increment\n",
    "    for k in range(L):\n",
    "        # Zero the force vector\n",
    "        Fx = Fx*0.0\n",
    "        Fy = Fy*0.0\n",
    "        # Loop through each i\n",
    "        for i in range(N):\n",
    "            # Calculate the force by each j on i\n",
    "            for j in range(N):\n",
    "                if j != i:\n",
    "                    # Evaluate distances between i and j\n",
    "                    r = np.sqrt((x[i]-x[j])**2 + (y[i]-y[j])**2)\n",
    "                    # Calculate force between j and i and add to Fx, Fy\n",
    "                    Fx[i] += q[i]*q[j]*(x[i]-x[j])/r**3\n",
    "                    Fy[i] += q[i]*q[j]*(y[i]-y[j])/r**3\n",
    "            # Determine velocity change on i\n",
    "            vx[i] += dt*Fx[i]/mass[i]\n",
    "            vy[i] += dt*Fy[i]/mass[i]\n",
    "            # Determine new position of i\n",
    "            x[i] += dt*vx[i]\n",
    "            y[i] += dt*vy[i]"
   ]
  },
  {
   "cell_type": "markdown",
   "metadata": {},
   "source": [
    "Why does it appear that the surrounding particles didn't move? Take a look at the charges and masses. The masses of the surrounding particles are larger than the center particles by a factor of $10^8$. In addition, the charges of the surrounding particles have a magnitude that is 1000 times larger than the rest. This explains why the outer particles appear to not move."
   ]
  }
 ],
 "metadata": {
  "kernelspec": {
   "display_name": "Python 3",
   "language": "python",
   "name": "python3"
  },
  "language_info": {
   "codemirror_mode": {
    "name": "ipython",
    "version": 3
   },
   "file_extension": ".py",
   "mimetype": "text/x-python",
   "name": "python",
   "nbconvert_exporter": "python",
   "pygments_lexer": "ipython3",
   "version": "3.6.8"
  }
 },
 "nbformat": 4,
 "nbformat_minor": 1
}
