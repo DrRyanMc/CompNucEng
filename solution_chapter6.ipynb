{
 "cells": [
  {
   "cell_type": "raw",
   "metadata": {},
   "source": [
    "\\rhead{Chapter 6}\n",
    "\\begin{shortexercises}\n",
    "% SHORT EXERCISE 1\n",
    "\\begin{exercise}"
   ]
  },
  {
   "cell_type": "markdown",
   "metadata": {},
   "source": [
    "$\\textbf{(10 points)}$ Write an assert statement that gurantees a variable $\\texttt{n}$ is less than 100 and is positive."
   ]
  },
  {
   "cell_type": "raw",
   "metadata": {},
   "source": [
    "\\solution"
   ]
  },
  {
   "cell_type": "markdown",
   "metadata": {},
   "source": [
    "Here we will just use simple conditional statements as given within the $\\texttt{assert()}$ function. As $\\texttt{n}$ follows the conditions in the assertion, the code executes without error."
   ]
  },
  {
   "cell_type": "markdown",
   "metadata": {},
   "source": [
    "If we set $\\texttt{n}$ to a value that does not follow the conditions, the code executes with an error at the assertion line:"
   ]
  },
  {
   "cell_type": "code",
   "execution_count": 3,
   "metadata": {
    "collapsed": false
   },
   "outputs": [
    {
     "ename": "AssertionError",
     "evalue": "",
     "output_type": "error",
     "traceback": [
      "\u001b[0;31m---------------------------------------------------------------------------\u001b[0m",
      "\u001b[0;31mAssertionError\u001b[0m                            Traceback (most recent call last)",
      "\u001b[0;32m<ipython-input-3-c32a636150b5>\u001b[0m in \u001b[0;36m<module>\u001b[0;34m()\u001b[0m\n\u001b[1;32m      3\u001b[0m \u001b[0;34m\u001b[0m\u001b[0m\n\u001b[1;32m      4\u001b[0m \u001b[0mn\u001b[0m \u001b[0;34m=\u001b[0m \u001b[0;36m101\u001b[0m\u001b[0;34m\u001b[0m\u001b[0m\n\u001b[0;32m----> 5\u001b[0;31m \u001b[0;32massert\u001b[0m\u001b[0;34m(\u001b[0m\u001b[0;34m(\u001b[0m\u001b[0mn\u001b[0m \u001b[0;34m<\u001b[0m \u001b[0;36m100\u001b[0m\u001b[0;34m)\u001b[0m \u001b[0;32mand\u001b[0m \u001b[0;34m(\u001b[0m\u001b[0mn\u001b[0m \u001b[0;34m>\u001b[0m \u001b[0;36m0\u001b[0m\u001b[0;34m)\u001b[0m\u001b[0;34m)\u001b[0m\u001b[0;34m\u001b[0m\u001b[0m\n\u001b[0m\u001b[1;32m      6\u001b[0m \u001b[0mprint\u001b[0m\u001b[0;34m(\u001b[0m\u001b[0mn\u001b[0m\u001b[0;34m)\u001b[0m\u001b[0;34m\u001b[0m\u001b[0m\n",
      "\u001b[0;31mAssertionError\u001b[0m: "
     ]
    }
   ],
   "source": [
    "# Chapter 6 SE 1\n",
    "# NUEN 329\n",
    "\n",
    "n = 101\n",
    "assert((n < 100) and (n > 0))\n",
    "print(n)"
   ]
  },
  {
   "cell_type": "markdown",
   "metadata": {},
   "source": [
    "And of course, if $\\texttt{n}$ is set to a value that follows the condition, it executes without error."
   ]
  },
  {
   "cell_type": "code",
   "execution_count": 4,
   "metadata": {
    "collapsed": false
   },
   "outputs": [
    {
     "name": "stdout",
     "output_type": "stream",
     "text": [
      "99\n"
     ]
    }
   ],
   "source": [
    "n = 99\n",
    "assert((n < 100) and (n > 0))\n",
    "print(n)"
   ]
  },
  {
   "cell_type": "raw",
   "metadata": {},
   "source": [
    "\\vspace{0.5cm}\n",
    "\\begin{center}\n",
    "\\begin{tabular}{|c|l|}\n",
    "    \\hline\n",
    "    \\multicolumn{2}{|c|}{\\textbf{Point Breakdown}} \\\\\n",
    "    \\hline\n",
    "    3 pts & Attempt points: used some sort of \\texttt{assert} statement \\\\\n",
    "    \\hline\n",
    "    4 pts & Snippet does guarantee \\texttt{n} is less than 100 and positive \\\\\n",
    "    \\hline\n",
    "    3 pts & Report formatted well and additional comments made \\\\\n",
    "    \\hline\n",
    "\\end{tabular}\n",
    "\\end{center}"
   ]
  },
  {
   "cell_type": "raw",
   "metadata": {},
   "source": [
    "\\end{exercise}\n",
    "% SHORT EXERCISE 2\n",
    "\\begin{exercise}"
   ]
  },
  {
   "cell_type": "markdown",
   "metadata": {},
   "source": [
    "$\\textbf{(10 points)}$ Correct the following code:"
   ]
  },
  {
   "cell_type": "code",
   "execution_count": 2,
   "metadata": {
    "collapsed": false
   },
   "outputs": [
    {
     "ename": "NameError",
     "evalue": "name 'list_variable' is not defined",
     "output_type": "error",
     "traceback": [
      "\u001b[0;31m---------------------------------------------------------------------------\u001b[0m",
      "\u001b[0;31mNameError\u001b[0m                                 Traceback (most recent call last)",
      "\u001b[0;32m<ipython-input-2-624cac77d03b>\u001b[0m in \u001b[0;36m<module>\u001b[0;34m()\u001b[0m\n\u001b[0;32m----> 1\u001b[0;31m \u001b[0;32mfor\u001b[0m \u001b[0mi\u001b[0m \u001b[0;32min\u001b[0m \u001b[0mlist_variable\u001b[0m\u001b[0;34m:\u001b[0m\u001b[0;34m\u001b[0m\u001b[0m\n\u001b[0m\u001b[1;32m      2\u001b[0m     \u001b[0mlist_variable\u001b[0m \u001b[0;34m=\u001b[0m \u001b[0;34m[\u001b[0m\u001b[0;34m'one'\u001b[0m\u001b[0;34m,\u001b[0m\u001b[0;36m2\u001b[0m\u001b[0;34m,\u001b[0m\u001b[0;34m'III'\u001b[0m\u001b[0;34m,\u001b[0m\u001b[0;34m'quatro'\u001b[0m\u001b[0;34m]\u001b[0m\u001b[0;34m\u001b[0m\u001b[0m\n\u001b[1;32m      3\u001b[0m     \u001b[0mprint\u001b[0m\u001b[0;34m(\u001b[0m\u001b[0mi\u001b[0m\u001b[0;34m)\u001b[0m\u001b[0;34m\u001b[0m\u001b[0m\n",
      "\u001b[0;31mNameError\u001b[0m: name 'list_variable' is not defined"
     ]
    }
   ],
   "source": [
    "for i in list_variable:\n",
    "    list_variable = ['one',2,'III','quatro']\n",
    "    print(i)"
   ]
  },
  {
   "cell_type": "raw",
   "metadata": {},
   "source": [
    "\\solution"
   ]
  },
  {
   "cell_type": "markdown",
   "metadata": {},
   "source": [
    "In the above snippet, the definition of $\\texttt{list\\_variable}$ is placed incorrectly. In order for the for loop to execute,  $\\texttt{list\\_variable}$ must be defined before the loop is executed:"
   ]
  },
  {
   "cell_type": "code",
   "execution_count": 3,
   "metadata": {
    "collapsed": false
   },
   "outputs": [
    {
     "name": "stdout",
     "output_type": "stream",
     "text": [
      "one\n",
      "2\n",
      "III\n",
      "quatro\n"
     ]
    }
   ],
   "source": [
    "list_variable = ['one',2,'III','quatro']\n",
    "for i in list_variable:\n",
    "    print(i)"
   ]
  },
  {
   "cell_type": "raw",
   "metadata": {},
   "source": [
    "\\vspace{0.5cm}\n",
    "\\begin{center}\n",
    "\\begin{tabular}{|c|l|}\n",
    "    \\hline\n",
    "    \\multicolumn{2}{|c|}{\\textbf{Point Breakdown}} \\\\\n",
    "    \\hline\n",
    "    4 pts & \\texttt{list\\_variable} moved out of \\texttt{for} loop \\\\\n",
    "    \\hline\n",
    "    3 pts & Explanation made as to why \\texttt{list\\_variable} needs to be moved \\\\\n",
    "    \\hline\n",
    "    3 pts & Report formatted well and additional comments made \\\\\n",
    "    \\hline\n",
    "\\end{tabular}\n",
    "\\end{center}"
   ]
  },
  {
   "cell_type": "raw",
   "metadata": {},
   "source": [
    "\\end{exercise}\n",
    "\\end{shortexercises}"
   ]
  }
 ],
 "metadata": {
  "kernelspec": {
   "display_name": "Python 3",
   "language": "python",
   "name": "python3"
  },
  "language_info": {
   "codemirror_mode": {
    "name": "ipython",
    "version": 3
   },
   "file_extension": ".py",
   "mimetype": "text/x-python",
   "name": "python",
   "nbconvert_exporter": "python",
   "pygments_lexer": "ipython3",
   "version": "3.4.3"
  }
 },
 "nbformat": 4,
 "nbformat_minor": 0
}
