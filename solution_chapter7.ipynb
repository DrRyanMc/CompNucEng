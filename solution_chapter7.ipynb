{
 "cells": [
  {
   "cell_type": "markdown",
   "metadata": {},
   "source": [
    "$\\textbf{7.1}$ Solve the linear system $\\textbf{Ax} = \\textbf{b}$ for $\\textbf{x}$ where"
   ]
  },
  {
   "cell_type": "markdown",
   "metadata": {},
   "source": [
    "$$\\textbf{A} = \n",
    "\\begin{pmatrix}\n",
    "-1 & 2 & 3 \\\\\n",
    "4 & -5 & 6 \\\\\n",
    "7 & 8 & -9 \\\\\n",
    "\\end{pmatrix},\n",
    "~~~~~~~\n",
    "\\textbf{b} = (12.9,-5.1,10.7)^T.$$"
   ]
  },
  {
   "cell_type": "markdown",
   "metadata": {},
   "source": [
    "The function provided in chapter 7, $\\texttt{GaussElimPivotSolve}$, can be employed to solve the given matricies. The $\\textbf{A}$ and $\\textbf{b}$ matrcies above are defined in $\\texttt{NumPy}$ arrays. $\\texttt{GaussElimPivotSolve}$ is then used to solve the matrix equation $\\textbf{Ax} = \\textbf{b}$ for $\\textbf{x}$."
   ]
  },
  {
   "cell_type": "markdown",
   "metadata": {},
   "source": [
    "It is important to note that the functions $\\texttt{GaussElimPivotSolve}$, $\\texttt{swap\\_rows}$, and $\\texttt{BackSub}$ must be defined. In this example, the file $\\texttt{GaussElim.py}$ contains these three functions. It is acceptable to instead copy and paste the functions directly into your code."
   ]
  },
  {
   "cell_type": "code",
   "execution_count": null,
   "metadata": {},
   "outputs": [],
   "source": [
    "import numpy as np\n",
    "\n",
    "# Import swap_rows,BackSub,GaussElimPivotSolve from chapter 7 \n",
    "from GaussElim import *\n",
    "\n",
    "# Define A and b matrix\n",
    "A = np.array([(-1,2,3),(4,-5,6),(7,8,-9)])\n",
    "b = np.array([12.9,-5.1,10.7])\n",
    "\n",
    "# Solve and print\n",
    "x = GaussElimPivotSolve(A,b)\n",
    "print('x =',x)"
   ]
  },
  {
   "cell_type": "raw",
   "metadata": {},
   "source": [
    "\\vspace{0.5cm}\n",
    "\\begin{center}\n",
    "\\begin{tabular}{|c|l|}\n",
    "    \\hline\n",
    "    \\multicolumn{2}{|c|}{\\textbf{Point Breakdown}} \\\\\n",
    "    \\hline\n",
    "    1 pts & Attempt points: matrix definitions for \\textbf{A} and \\textbf{b}  \\\\\n",
    "    \\hline\n",
    "    1 pts & Attempt points: solves for each given \\texttt{n}  \\\\\n",
    "    \\hline\n",
    "    3 pts & Correct solutions printed \\\\\n",
    "    \\hline\n",
    "    2 pts & Results commented on (nature of the solutions, etc) \\\\\n",
    "    \\hline \n",
    "    1 pt & Code well commented \\\\\n",
    "    \\hline\n",
    "    2 pts & Report formatted well and additional comments made \\\\\n",
    "    \\hline\n",
    "\\end{tabular}\n",
    "\\end{center}"
   ]
  },
  {
   "cell_type": "raw",
   "metadata": {},
   "source": [
    "\\end{exercise}\n",
    "\\end{shortexercises}\n",
    "% PROBLEM 1\n",
    "\\begin{problem}{1. Xenon Poisoning}"
   ]
  },
  {
   "cell_type": "markdown",
   "metadata": {},
   "source": [
    "$\\textbf{Project 1}$ ${^{135} Xe}$ is produced in a nuclear reactor through two mechanisms:"
   ]
  },
  {
   "cell_type": "markdown",
   "metadata": {},
   "source": [
    "- The production of $^{135}$ Te from fission, when then decays to $^{135}$ I via $\\beta$ decay with a half-life of 19 s, which then decays to $^{135}$ Xe via $\\beta$ decay with a half-life of 6.6 h.\n",
    "- The production of $^{135}$ Xe directly from fission."
   ]
  },
  {
   "cell_type": "markdown",
   "metadata": {},
   "source": [
    "$^{135}$Xe is important because it has a very large capture cross-section of $2.6 \\times 10^6$ barns. $^{135}$Xe is also radioactive (scary!), and decays with a half-life of 9.1 h. For a reactor with an average scalar flux, $\\phi$ in units [neutrons/cm$^2$/s], the equations for the production of $^{135}$Xe are (using the abbreviation number density [nuclei/cm$^3$] of $^{135}$ Xe $\\rightarrow {X}$, $^{135}$I$ \\rightarrow {I}$, $^{135}$Te $\\rightarrow T$),"
   ]
  },
  {
   "cell_type": "markdown",
   "metadata": {},
   "source": [
    "$$\\frac{d}{dt} T = \\gamma_T \\Sigma_f \\phi - \\lambda_T T,$$"
   ]
  },
  {
   "cell_type": "markdown",
   "metadata": {},
   "source": [
    "$$\\frac{d}{dt} I = \\lambda_T T - \\lambda_I I,$$"
   ]
  },
  {
   "cell_type": "markdown",
   "metadata": {},
   "source": [
    "$$\\frac{d}{dt} X = \\lambda_I I + \\gamma_X \\Sigma_f \\phi - (\\lambda_X + \\Sigma_a^X \\phi) X.$$"
   ]
  },
  {
   "cell_type": "markdown",
   "metadata": {},
   "source": [
    "If we consider a steady state limit, i.e., $\\frac{d}{dt} = 0$, we have an equation for the equilibrium concentration of all three nuclides. For a $^{235}$ U fueled reactor, the fission yields for Te and Xe are $\\gamma_T = 0.061, \\gamma_X = 0.003,$ and the macroscopic fission cross-section is $\\Sigma_f = 0.07136$ cm$^{-1}$. Compute the equilibrium concentration of these three nuclides at power densities of 5, 50, and 100 W/cm$^3$, using the energy per fission of 200 MeV/fission. Also, compute the absorption rate density of neutrons in $^{135}$ Xe."
   ]
  },
  {
   "cell_type": "markdown",
   "metadata": {},
   "source": [
    "## Solution"
   ]
  },
  {
   "cell_type": "markdown",
   "metadata": {},
   "source": [
    "The equations above can be represented in the form $\\textbf{Ax} = \\textbf{b}$. Knowing that $\\frac{d}{dt} = 0$, the matrix representation becomes the following:"
   ]
  },
  {
   "cell_type": "markdown",
   "metadata": {},
   "source": [
    "$$\\begin{pmatrix}\n",
    "    \\lambda_T & 0 & 0 \\\\\n",
    "    -\\lambda_T & \\lambda_I & 0 \\\\\n",
    "    0 & -\\lambda_I & \\lambda_X + \\Sigma_a^X \\phi \\\\\n",
    "\\end{pmatrix}\n",
    "\\begin{pmatrix}\n",
    "    T \\\\\n",
    "    I \\\\\n",
    "    X \\\\\n",
    "\\end{pmatrix} =\n",
    "\\begin{pmatrix}\n",
    "    \\gamma_T \\Sigma_f \\phi \\\\\n",
    "    0 \\\\\n",
    "    \\gamma_X \\Sigma_f \\phi \\\\\n",
    "\\end{pmatrix}$$"
   ]
  },
  {
   "cell_type": "markdown",
   "metadata": {},
   "source": [
    "Solving for the $\\textbf{x}$ vector will then result in the equlibirum concentration rates of each element. This is done by defining the known matricies as $\\textbf{A}$ and $\\textbf{b}$, and then solving with $\\tt{GaussElimPivotSolve}$. A simple $\\tt{for}$ loop is used to iterate through each given power density. "
   ]
  },
  {
   "cell_type": "markdown",
   "metadata": {},
   "source": [
    "Before solving, $\\phi$ must be determined. The flux can be determined knowing the given power density, $P$, the fission cross section, $\\Sigma_\\mathrm{f}$, and the energy per fission, $E$ as follows"
   ]
  },
  {
   "cell_type": "markdown",
   "metadata": {},
   "source": [
    "$$\\phi = \\frac{P}{\\Sigma_\\mathrm{f} E}.$$"
   ]
  },
  {
   "cell_type": "markdown",
   "metadata": {},
   "source": [
    "After using $\\texttt{GaussElimPivotSolve}$ to determine the equlibirum concentrations, the absorption rate density of $X$ is determined as follows"
   ]
  },
  {
   "cell_type": "markdown",
   "metadata": {},
   "source": [
    "$$\\mathrm{ARD} = \\Sigma_\\mathrm{a} \\phi X.$$"
   ]
  },
  {
   "cell_type": "markdown",
   "metadata": {},
   "source": [
    "It is important to note that the functions $\\texttt{GaussElimPivotSolve}$, $\\texttt{swap\\_rows}$, and $\\texttt{BackSub}$ must be defined. In this example, the file $\\texttt{GaussElim.py}$ contains these three functions. It is acceptable to instead copy and paste the functions directly into your code."
   ]
  },
  {
   "cell_type": "code",
   "execution_count": null,
   "metadata": {},
   "outputs": [],
   "source": [
    "import numpy as np\n",
    "\n",
    "# Import swap_rows,BackSub,GaussElimPivotSolve from chapter 7 \n",
    "from GaussElim import *\n",
    "\n",
    "# Define given values\n",
    "densities = [5,50,100] # [W/cm^3]\n",
    "E = 200 # [MeV/fission]\n",
    "Sig_f = 0.07136 # [1/cm]\n",
    "Sig_a = 2.6E6/10**24 # [1/cm]\n",
    "gam_T = 0.061\n",
    "gam_X = 0.003\n",
    "lamb_T = np.log(2)/19.0 # [1/sec]\n",
    "lamb_I = np.log(2)/(6.6*3600) # [1/sec]\n",
    "lamb_X = np.log(2)/(9.1*3600) # [1/sec]\n",
    "MeVtoJ = 1.60217E-13\n",
    "\n",
    "# Calculate for each given power density\n",
    "for power in densities:\n",
    "    print('For power density',power,'W/cm^3:')\n",
    "    \n",
    "    # Calculate flux for given power density\n",
    "    phi = power/(Sig_f*E*MeVtoJ)\n",
    "    print('phi =','%.4E' % phi,'n/cm^2 sec')\n",
    "    \n",
    "    # Build array (T|I|X) and solve\n",
    "    A = np.array([(lamb_T,0,0),(-lamb_T,lamb_I,0),(0,-lamb_I,(lamb_X+(Sig_a*phi)))])\n",
    "    b = np.array([gam_T*Sig_f*phi,0,gam_X*Sig_f*phi])\n",
    "    x = GaussElimPivotSolve(A,b)\n",
    "    \n",
    "    # Calculate absorption rate density of X\n",
    "    ard = Sig_a*phi*x[2]\n",
    "    \n",
    "    # Print results\n",
    "    print('ARD =','%.4E' % ard,'rxns/cm^3')\n",
    "    print('T =','%.4E' % x[0],'nuclei/cm^3')\n",
    "    print('I =','%.4E' % x[1],'nuclei/cm^3')\n",
    "    print('X =','%.4E' % x[2],'nuclei/cm^3\\n')"
   ]
  },
  {
   "cell_type": "markdown",
   "metadata": {},
   "source": [
    "$$A = N \\lambda = \\frac{N \\mathrm{ln}(2)}{t_{1/2}}.$$"
   ]
  },
  {
   "cell_type": "markdown",
   "metadata": {},
   "source": [
    "$\\textbf{Programming Project 3}$ A large subcritical system with a source has its scalar flux in each of four groups described by these four equations,"
   ]
  },
  {
   "cell_type": "markdown",
   "metadata": {},
   "source": [
    "$$\\Sigma_{a,1} \\phi_1 + \\Sigma_{s,1 \\rightarrow 2} \\phi_1 = \\chi_1 \\sum_{g=1}^4 \\nu \\Sigma_{f,g} \\phi_g + Q_1,$$"
   ]
  },
  {
   "cell_type": "markdown",
   "metadata": {},
   "source": [
    "$$\t\\Sigma_{a,2} \\phi_2 + \\Sigma_{s,2 \\rightarrow 3} \\phi_2 = \\chi_2 \\sum_{g=1}^4 \\nu \\Sigma_{f,g} \\phi_g + \\Sigma_{s,1 \\rightarrow 2} \\phi_1 + Q_2,$$"
   ]
  },
  {
   "cell_type": "markdown",
   "metadata": {},
   "source": [
    "$$\\Sigma_{a,3} \\phi_3 + \\Sigma_{s,3 \\rightarrow 4} \\phi_3 = \\chi_3 \\sum_{g=1}^4 \\nu \\Sigma_{f,g} \\phi_g + \\Sigma_{s,2 \\rightarrow 3} \\phi_2 + Q_3$$"
   ]
  },
  {
   "cell_type": "markdown",
   "metadata": {},
   "source": [
    "$$\\Sigma_{a,4} \\phi_4 = \\chi_4 \\sum_{g=1}^4 \\nu \\Sigma_{f,g} \\phi_g + \\Sigma_{s,3 \\rightarrow 4} \\phi_3 + Q_4.$$"
   ]
  },
  {
   "cell_type": "markdown",
   "metadata": {},
   "source": [
    "For source strength, $Q = [10^{12},0,0,0]$ n/cm$^3$/s and the cross sections given below, for the group bounds, [1.35 MeV, 10 MeV], [9.1 keV, 1.35 MeV], [0.4 eV, 9.1 keV], and [0.0 eV, 0.4 eV], compute the scalar flux in each group in the presence of no upscattering and in a system where neutrons can only scatter within group or to the energy group given in the text."
   ]
  },
  {
   "cell_type": "markdown",
   "metadata": {},
   "source": [
    "## Solution"
   ]
  },
  {
   "cell_type": "markdown",
   "metadata": {},
   "source": [
    "Again, the set of equations above are represented as a matrix equation, $\\textbf{Ax}$ = $\\textbf{b}$:"
   ]
  },
  {
   "cell_type": "markdown",
   "metadata": {},
   "source": [
    "$$\n",
    "\\textbf{A} = \\begin{pmatrix}\n",
    "    \\Sigma_{a,1} + \\Sigma_{s,1 \\rightarrow 2} - \\chi_1 \\nu \\Sigma_{f,1} & - \\chi_1 \\nu \\Sigma_{f,2} & - \\chi_1 \\nu \\Sigma_{f,3} & - \\chi_1 \\nu \\Sigma_{f,4} \\\\\n",
    "    -\\chi_2 \\nu \\Sigma_{f,1} - \\Sigma_{s,1 \\rightarrow 2} & \\Sigma_{a,2} + \\Sigma_{s,2 \\rightarrow 3} -\\chi_2 \\nu \\Sigma_{f,2} & -\\chi_2 \\nu \\Sigma_{f,3} & -\\chi_2 \\nu \\Sigma_{f,4} \\\\\n",
    "    -\\chi_3 \\nu \\Sigma_{f,1} & -\\chi_3 \\nu \\Sigma_{f,2} - \\Sigma_{s,2 \\rightarrow 3} & \\Sigma_{a,3} + \\Sigma_{s,3 \\rightarrow 4} -\\chi_3 \\nu \\Sigma_{f,3} & -\\chi_3 \\nu \\Sigma_{f,4} \\\\\n",
    "    -\\chi_4 \\nu \\Sigma_{f,1} & -\\chi_4 \\nu \\Sigma_{f,2} & -\\Sigma_{s,3 \\rightarrow 4} - \\chi_4 \\nu \\Sigma_{f,3} & \\Sigma_{a,4} - \\chi_4 \\nu \\Sigma_{f,4}\n",
    "\\end{pmatrix},$$"
   ]
  },
  {
   "cell_type": "markdown",
   "metadata": {},
   "source": [
    "$$\\textbf{x} =\n",
    "\\begin{pmatrix}\n",
    "    \\phi_1 \\\\\n",
    "    \\phi_2 \\\\\n",
    "    \\phi_3 \\\\\n",
    "    \\phi_4\n",
    "\\end{pmatrix}~,\n",
    "\\textbf{b} = \\begin{pmatrix}\n",
    "    Q_1 \\\\\n",
    "    Q_2 \\\\\n",
    "    Q_3 \\\\\n",
    "    Q_4\n",
    "\\end{pmatrix}.\n",
    "$$"
   ]
  },
  {
   "cell_type": "markdown",
   "metadata": {},
   "source": [
    "The data given in the table is first defined in a set of arrays, and then both the $\\textbf{A}$ and $\\textbf{b}$ matricies are defined as $\\texttt{NumPy}$ arrays. The $\\textbf{A}$ matrix is filled with a $\\texttt{for}$ loop, row by row. Within each row, the terms are separated into terms in the diagonal, terms above the diagonal and terms below the diagonal. Terms above the diagonal are fission loss terms, the term immediately below the diagonal is a fission loss term with a downscatter term, and the terms further below are fission loss terms. Once $\\textbf{A}$ and $\\textbf{b}$ are properly defined, $\\textbf{x}$ is solved for using $\\texttt{GaussElimPivotSolve}$. The scalar flux is then plotted as a visual aid, and is not required."
   ]
  },
  {
   "cell_type": "markdown",
   "metadata": {},
   "source": [
    "It is important to note that the functions $\\texttt{GaussElimPivotSolve}$, $\\texttt{swap\\_rows}$, and $\\texttt{BackSub}$ must be defined. In this example, the file $\\texttt{GaussElim.py}$ contains these three functions. It is acceptable to instead copy and paste the functions directly into your code."
   ]
  },
  {
   "cell_type": "code",
   "execution_count": null,
   "metadata": {},
   "outputs": [],
   "source": [
    "\n",
    "%matplotlib inline\n",
    "import numpy as np\n",
    "import matplotlib.pyplot as plt\n",
    "\n",
    "# Import swap_rows,BackSub,GaussElimPivotSolve from chapter 7 \n",
    "from GaussElim import *\n",
    "\n",
    "# Define given data, all in units of cm\n",
    "Q = np.array([10**12,0,0,0])\n",
    "X = np.array([0.575,0.425,0,0])\n",
    "nuSig_f = np.array([0.0048,0.0006,0.00885,0.09255])\n",
    "Sig_a = np.array([0.0049,0.0028,0.0305,0.121])\n",
    "Sig_s = np.array([0.0831,0.0585,0.0651,0])\n",
    "D = np.array([2.162,1.087,0.632,0.345])\n",
    "\n",
    "# Build A matrix\n",
    "A = np.zeros([4,4])\n",
    "for row in range(4):\n",
    "    # Diagonal entry\n",
    "    A[row,row] = Sig_a[row] + Sig_s[row] - X[row]*nuSig_f[row]\n",
    "    # Entries below diagonal\n",
    "    for column in range(row):\n",
    "        A[row,column] = -X[row]*nuSig_f[column]\n",
    "        # Downscatter term one below diagonal\n",
    "        if column == row-1:\n",
    "            A[row,column] += -Sig_s[column]\n",
    "    # Entries above diagonal\n",
    "    for column in range(row+1,4):\n",
    "        A[row,column] = -X[row]*nuSig_f[column]\n",
    "    \n",
    "\n",
    "# Build b matrix\n",
    "b = np.array([Q[0],Q[1],Q[2],Q[3]])\n",
    "\n",
    "# Solve\n",
    "x = GaussElimPivotSolve(A,b)\n",
    "\n",
    "# Print results\n",
    "for n in range(1,5):\n",
    "    print('phi',n,'=','%.4E' % x[n-1],'n/cm^2 sec')\n",
    "    \n",
    "# Plot scalar flux (not required)\n",
    "E = np.array([10,1.35,1.35,9.1E-3,9.1E-3,0.4E-6,0.4E-6,1E-8])\n",
    "phi = np.array([x[0],x[0],x[1],x[1],x[2],x[2],x[3],x[3]])\n",
    "plt.semilogx(E,phi)\n",
    "plt.xlabel('Energy (MeV)')\n",
    "plt.ylabel('Scalar flux (n/cm$^3$)')\n",
    "plt.show()"
   ]
  }
 ],
 "metadata": {
  "kernelspec": {
   "display_name": "Python 3",
   "language": "python",
   "name": "python3"
  },
  "language_info": {
   "codemirror_mode": {
    "name": "ipython",
    "version": 3
   },
   "file_extension": ".py",
   "mimetype": "text/x-python",
   "name": "python",
   "nbconvert_exporter": "python",
   "pygments_lexer": "ipython3",
   "version": "3.6.8"
  }
 },
 "nbformat": 4,
 "nbformat_minor": 1
}
