{
 "cells": [
  {
   "cell_type": "markdown",
   "metadata": {},
   "source": [
    "## 8.1 \n",
    "Compute the LU factorization of the matrix"
   ]
  },
  {
   "cell_type": "markdown",
   "metadata": {},
   "source": [
    "$$\\textbf{A} = \n",
    "\\begin{pmatrix}\n",
    "    -1 & 2 & 3 \\\\\n",
    "    4 & -5 & 6 \\\\\n",
    "    7 & 8 & -9 \\\\\n",
    "\\end{pmatrix}.$$"
   ]
  },
  {
   "cell_type": "markdown",
   "metadata": {},
   "source": [
    "## Solution"
   ]
  },
  {
   "cell_type": "markdown",
   "metadata": {},
   "source": [
    "The function provided in chapter 8, $\\texttt{LU\\_factor}$, can be employed to LU factor the given matrix. The $\\textbf{A}$ matrix is defined in an $\\texttt{NumPy}$ array. In chapter 8, there are $\\texttt{two LU\\_factor}$ functions. One has pivoting and one does not. The function which employs pivoting is used here, and can be seen by the fact that a row order is printed after the factored matrix."
   ]
  },
  {
   "cell_type": "markdown",
   "metadata": {},
   "source": [
    "It is important to note that the functions $\\texttt{LU\\_factor}$ and $\\texttt{swap\\_rows}$ must be defined. In this example, the file $\\texttt{LU\\_factor\\_nopivot.py}$ contains these functions. It is acceptable to instead copy and paste the functions directly into your code."
   ]
  },
  {
   "cell_type": "code",
   "execution_count": null,
   "metadata": {},
   "outputs": [],
   "source": [
    "import numpy as np\n",
    "\n",
    "# Import swap_rows,LU_factor from chapter 7 and 8\n",
    "from LU_factor_nopivot import *\n",
    "\n",
    "# Define A matrix and LU factor\n",
    "A = np.array([(-1,2,3),(4,-5,6),(7,8,-9)])*1.0\n",
    "LU_factor(A)\n",
    "\n",
    "# Print results\n",
    "print('A, LU factored in place:')\n",
    "print(A)"
   ]
  },
  {
   "cell_type": "markdown",
   "metadata": {},
   "source": [
    "Above is the result without pivoting. If the function with pivoting is employed, the solution is the following:"
   ]
  },
  {
   "cell_type": "code",
   "execution_count": null,
   "metadata": {
    "scrolled": true
   },
   "outputs": [],
   "source": [
    "import numpy as np\n",
    "\n",
    "# Import swap_rows,LU_factor from chapter 7 and 8\n",
    "from LU_factor_pivot import *\n",
    "\n",
    "# Define A matrix and LU factor\n",
    "A = np.array([(-1,2,3),(4,-5,6),(7,8,-9)])*1.0\n",
    "row_order = LU_factor(A,LOUD=False)\n",
    "\n",
    "# Print results\n",
    "print('A, LU factored in place:')\n",
    "print(A)\n",
    "print('With row order')\n",
    "print(row_order)"
   ]
  },
  {
   "cell_type": "markdown",
   "metadata": {
    "collapsed": true
   },
   "source": [
    "## Matrix Inverse via LU factorization"
   ]
  },
  {
   "cell_type": "markdown",
   "metadata": {},
   "source": [
    "In the previous chapter we presented an approach to compute the inverse of a matrix. Here is another way to compute the inverse; this time using LU factorization. Compute the LU factorization of $\\textbf{A}$ and then use this to solve"
   ]
  },
  {
   "cell_type": "markdown",
   "metadata": {},
   "source": [
    "$$\\textbf{Ax}_i = \\textbf{b}_i,~~~~~~i = 1,...,n,$$"
   ]
  },
  {
   "cell_type": "markdown",
   "metadata": {},
   "source": [
    "where $\\textbf{b}_i$ is a vector of zeros except at position $i$ where it has 1, and $\\textbf{x}_i$ is the i$^{\\text{th}}$ column of the inverse. Test your implentation on the matrix from Short Exercise problem 1 above. Check that the inverse of $\\textbf{A}$ times the original matrix gives the identity matrix."
   ]
  },
  {
   "cell_type": "markdown",
   "metadata": {},
   "source": [
    "Use the following code snippet to write your function:"
   ]
  },
  {
   "cell_type": "code",
   "execution_count": null,
   "metadata": {},
   "outputs": [],
   "source": [
    "def MatrixInverse(A):\n",
    "    \"\"\"Determines the inverse of an nxn matrix\n",
    "    \n",
    "    Args:\n",
    "        A: numpy array of the matrix to be inverted\n",
    "    Returns:\n",
    "        inverse: numpy array of the inverted matrix\n",
    "    \"\"\"\n",
    "    \n",
    "    # INSERT YOUR CODE HERE\n",
    "    \n",
    "    return inverse     "
   ]
  },
  {
   "cell_type": "markdown",
   "metadata": {},
   "source": [
    "## Solution"
   ]
  },
  {
   "cell_type": "markdown",
   "metadata": {},
   "source": [
    "An $\\texttt{if}$ statement is first created to ensure that $\\textbf{A}$ is square. The LU factorization of $\\textbf{A}$ is then determined with $\\texttt{LU\\_factor}$. A $\\texttt{for}$ loop is then used to loop through each row and solve the equation $\\textbf{Ax}_i = \\textbf{b}_i$. As $\\textbf{b}_i$ changes within each row, it is defined by creating a zero matrix and then filling the i-th position with a 1. As each individual $\\textbf{x}_i$ is determined, it is inserted into the variable that contains the inverse. The solve function with pivoting was used here, but it is acceptable to use the solve function without pivoting as well."
   ]
  },
  {
   "cell_type": "markdown",
   "metadata": {},
   "source": [
    "It is important to note that the functions LU_solve, LU_factor, and swap_rows must be defined. In this example, the file $\\texttt{LU_solve_pivot.py}$ contains these three functions. It is acceptable to instead copy and paste the functions directly into your code."
   ]
  },
  {
   "cell_type": "code",
   "execution_count": null,
   "metadata": {},
   "outputs": [],
   "source": [
    "# Import LU_factor,LU_solve from chapter 8\n",
    "from LU_solve_pivot import *\n",
    "\n",
    "def MatrixInverse(A):\n",
    "    \"\"\"Determines the inverse of an nxn matrix\n",
    "    \n",
    "    Args:\n",
    "        A: numpy array of the matrix to be inverted\n",
    "    Returns:\n",
    "        inverse: numpy array of the inverted matrix\n",
    "    \"\"\"\n",
    "    \n",
    "    # Determine size of A\n",
    "    [Nrow,Ncol] = A.shape\n",
    "    \n",
    "    # Continue only if A is a square matrix\n",
    "    if Nrow == Ncol:\n",
    "        \n",
    "        N = Nrow\n",
    "        \n",
    "        # LU factor matrix A\n",
    "        row_order = LU_factor(A)\n",
    "\n",
    "        # Create a zero matrix with size of A\n",
    "        inverse = np.zeros([N,N])\n",
    "\n",
    "        # Loop through each column of A\n",
    "        for i in range(N):\n",
    "\n",
    "            # Determine b_i\n",
    "            b_i = np.zeros(N)\n",
    "            b_i[i] = 1\n",
    "            \n",
    "            # Solve for ith column of inverse\n",
    "            x_i = LU_solve(A,b_i,row_order)\n",
    "            \n",
    "            # Insert into inverse\n",
    "            inverse[:,i] = x_i\n",
    "    \n",
    "    else: # A is not square\n",
    "        \n",
    "        print('A must be square')\n",
    "    \n",
    "    return inverse  \n",
    "\n",
    "# Define A from short exercise 1\n",
    "A = np.array([(-1,2,3),(4,-5,6),(7,8,-9)])*1.0\n",
    "Aorig = A.copy()\n",
    "\n",
    "# Test with MatrixInverse\n",
    "inverse = MatrixInverse(A)\n",
    "print('A =')\n",
    "print(Aorig)\n",
    "print('A^-1 =')\n",
    "print(inverse)\n",
    "print('A * A^-1 =')\n",
    "print(np.dot(Aorig,inverse))"
   ]
  },
  {
   "cell_type": "markdown",
   "metadata": {},
   "source": [
    "As seen, the result is $\\textbf{AA}^{-1} = \\textbf{I}$. There is some error due to the floating point arithmetic done by Python, but this is to be expected."
   ]
  },
  {
   "cell_type": "markdown",
   "metadata": {},
   "source": [
    "## LU Factorization of a Tridiagonal system"
   ]
  },
  {
   "cell_type": "markdown",
   "metadata": {},
   "source": [
    "Before we mentioned that it was possible to LU factorize a tridiagonal matrix. Modify the LU factorization without pivoting function, $\\texttt{LU\\_factor}$, defined above to work with a tridiagonal matrix. Your modified function should take as input three vectors, representing the main diagonal and two off diagonals. The function should return the three vectors that yield the LU factorization. Check your algorithm on one of the tridiagonal matricies used in this chapter. Also, use this function to see how large of a tridiagonal system you can solve on your computer."
   ]
  },
  {
   "cell_type": "markdown",
   "metadata": {},
   "source": [
    "## Solution"
   ]
  },
  {
   "cell_type": "markdown",
   "metadata": {},
   "source": [
    "There are two ways that this can be done for full credit. The first method involves modifying the $\\texttt{LU\\_factor}$ function to rebuild the $\\textbf{A}$ matrix by the inputted diagonals, run the old factor algorithm, decompose the resulting $\\textbf{A}$ matrix, and then return the diagonals. This is seen in Solution 1. The other method involves multiplying out the LU factor and solving the resulting system of equations, which is much more efficient and will result in 30 points of extra credit."
   ]
  },
  {
   "cell_type": "markdown",
   "metadata": {},
   "source": [
    "A tridiagonal matrix of size $n \\times n$ can be represented as follows, where the blank spaces are zeros:"
   ]
  },
  {
   "cell_type": "markdown",
   "metadata": {},
   "source": [
    "$$\\textbf{A} = \\begin{pmatrix}\n",
    "    d_0 & b_0 & & & \\\\\n",
    "    a_0 & d_1 & b_1 & & \\\\\n",
    "    & a_1 & \\ddots & \\ddots & \\\\\n",
    "    & & \\ddots & \\ddots & b_{n-2} \\\\\n",
    "    & & & a_{n-2} & d_{n-1} \\\\\n",
    "\\end{pmatrix}.$$"
   ]
  },
  {
   "cell_type": "markdown",
   "metadata": {},
   "source": [
    "And the LU factorization of this can be represented as $\\textbf{A} = \\textbf{LU}$, where the blank spaces are zeros:"
   ]
  },
  {
   "cell_type": "markdown",
   "metadata": {},
   "source": [
    "$$\\begin{pmatrix}\n",
    "    d_0 & b_0 & & & \\\\\n",
    "    a_0 & d_1 & b_1 & & \\\\\n",
    "    & a_1 & \\ddots & \\ddots & \\\\\n",
    "    & & \\ddots & \\ddots & b_{n-2} \\\\\n",
    "    & & & a_{n-2} & d_{n-1} \\\\\n",
    "\\end{pmatrix} =\n",
    "\\begin{pmatrix}\n",
    "    1 &  &  &  &  \\\\\n",
    "    l_0 & 1 & & & \\\\\n",
    "    & l_1 & 1 & & \\\\\n",
    "    & & \\ddots & \\ddots & \\\\\n",
    "    & & & l_{n-2} & 1 \\\\\n",
    "\\end{pmatrix} \\times \n",
    "\\begin{pmatrix}\n",
    "    m_0 & u_0  &  &  &  \\\\\n",
    "    & m_1 & u_1 & & \\\\\n",
    "    & & m_2 & \\ddots & \\\\\n",
    "    & &  & \\ddots & u_{n-2} \\\\\n",
    "    & & & & m_{n-1} \\\\\n",
    "\\end{pmatrix}.$$"
   ]
  },
  {
   "cell_type": "markdown",
   "metadata": {},
   "source": [
    "The following modifies the $\\texttt{LU\\_factor}$ function directly. It takes the inputs of $\\texttt{d}, \\texttt{a},$ and $\\texttt{b}$ as defined in the matrix on the previous page. It first ensures that the length of the off-diagonals are 1 less than the main diagonal. Then, the matrix $\\textbf{A}$ is defined and filled with the values provided by the input. The original algorithm is then used to LU factor the $\\textbf{A}$ matrix. Lastly, the $\\texttt{A}$ matrix is decomposed into its main diagonal and off diagonals, and these values are returned. A tri-diagonal matrix from the chapter is then tested."
   ]
  },
  {
   "cell_type": "code",
   "execution_count": null,
   "metadata": {},
   "outputs": [],
   "source": [
    "import numpy as np\n",
    "\n",
    "def LU_factor(d,a,b):\n",
    "    \"\"\"Factor in place A in L*U=A. The lower triangular parts of A\n",
    "    are the L matrix.  The L has implied ones on the diagonal.\n",
    "    Args:\n",
    "        d: vector representing the main diagonal\n",
    "        a: vector representing the lower diagonal\n",
    "        b: vector representing the upper diagonal\n",
    "    Returns:\n",
    "        m: vector representing the LU factored diagonal of U\n",
    "        l: vector representing the LU factored lower diagonal of L\n",
    "        b: vector representing the LU factored upper diagonal of U\n",
    "    \"\"\"\n",
    " \n",
    "    # Size of inputs\n",
    "    N = d.shape[0]\n",
    "    Na = a.shape[0]\n",
    "    Nb = b.shape[0]\n",
    "    \n",
    "    # Off diagonals must be 1 shorter than main\n",
    "    assert N == Na + 1\n",
    "    assert N == Nb + 1\n",
    "    \n",
    "    # Create and fill A matrix\n",
    "    A = np.zeros([N,N])*1.0\n",
    "    for i in range(N):\n",
    "        # Fill diagonal terms\n",
    "        A[i,i] = d[i]\n",
    "        # Fill upper diagonal\n",
    "        if i < N-1:\n",
    "            A[i,i+1] = b[i]\n",
    "        # Fill lower diagonal\n",
    "        if i > 0:\n",
    "            A[i,i-1] = a[i-1]\n",
    "            \n",
    "    for column in range(0,N):\n",
    "        for row in range(column+1,N):\n",
    "            mod_row = A[row]\n",
    "            factor = mod_row[column]/A[column,column]\n",
    "            mod_row = mod_row - factor*A[column,:]\n",
    "            #put the factor in the correct place in the modified row\n",
    "            mod_row[column] = factor\n",
    "            #only take the part of the modified row we need\n",
    "            mod_row = mod_row[column:N]\n",
    "            A[row,column:N] = mod_row\n",
    "          \n",
    "    # Fill return diagonals\n",
    "    l = np.zeros(N-1)*1.0\n",
    "    m = np.zeros(N)*1.0\n",
    "    for i in range(N):\n",
    "        # Fill diagonal terms\n",
    "        m[i] = A[i,i]\n",
    "        # Fill lower diagonal\n",
    "        if i > 0:\n",
    "            l[i-1] = A[i,i-1]\n",
    "    \n",
    "    return m,l,b\n",
    "\n",
    "# Define a tridiagonal matrix\n",
    "d = np.array([1,2,3,4])*1.0\n",
    "a = np.array([5,6,7])*1.0\n",
    "b = np.array([8,9,10])*1.0\n",
    "\n",
    "# Do factorization\n",
    "m,l,b = LU_factor(d,a,b)\n",
    "\n",
    "# Print to user\n",
    "print('L lower diagonal:\\n',l)\n",
    "print('\\nU upper diagonal:\\n',b)\n",
    "print('\\nU main diagonal:\\n',m)"
   ]
  },
  {
   "cell_type": "markdown",
   "metadata": {},
   "source": [
    "## Solution 2"
   ]
  },
  {
   "cell_type": "markdown",
   "metadata": {},
   "source": [
    "The following takes the definition for the LU factorization of a tridiagonal matrix and multiplies out the terms to form a set of equations. The set of equations are then solved for the terms in the $\\textbf{L}$ and $\\textbf{U}$ matricies."
   ]
  },
  {
   "cell_type": "markdown",
   "metadata": {},
   "source": [
    "Following through the matrix multiplication above leads to the following set of equations:"
   ]
  },
  {
   "cell_type": "markdown",
   "metadata": {},
   "source": [
    "$$m_0 = d_0,$$"
   ]
  },
  {
   "cell_type": "markdown",
   "metadata": {},
   "source": [
    "$$l_{i-1} = \\frac{a_{i-1}}{m_{i-1}}~~~\\text{for}~i = 1,\\dots,n-1,$$"
   ]
  },
  {
   "cell_type": "markdown",
   "metadata": {},
   "source": [
    "$$m_i = d_i - l_{i-1}b_{i-1}~~~\\text{for}~i = 1,\\dots,n-1.$$"
   ]
  },
  {
   "cell_type": "markdown",
   "metadata": {},
   "source": [
    "The modified function takes the inputs of $\\texttt{d}, \\texttt{a},$ and $\\texttt{b}$ as defined in the matrix on the previous pages. It first ensures that the length of the off-diagonals are 1 less than the main diagonal. The necessary arrays to define the factored matrix, $\\texttt{l}$ and $\\texttt{m}$ are then defined. It is important to note that the upper diagonal terms in the $\\textbf{U}$ matrix are actually the upper diagonal terms from the original $\\textbf{A}$ matrix. The set of equations above are then solved with a $\\texttt{for}$ loop. The resulting arrays that represent the LU factorization are then returned, and a tri-diagonal matrix from the chapter is tested."
   ]
  },
  {
   "cell_type": "code",
   "execution_count": null,
   "metadata": {},
   "outputs": [],
   "source": [
    "# Define a tridiagonal matrix\n",
    "a = np.array([4,7,2,7])*1.0\n",
    "d = np.array([9,8,7,2,9])*1.0\n",
    "b= np.array([6,3,1,2])*1.0\n",
    "\n",
    "# Do factorization\n",
    "m,l,b = LU_factor(d,a,b)\n",
    "\n",
    "print(m)\n",
    "print(l)"
   ]
  },
  {
   "cell_type": "code",
   "execution_count": null,
   "metadata": {},
   "outputs": [],
   "source": [
    "import numpy as np\n",
    "\n",
    "def LU_factor(d,a,b):\n",
    "    \"\"\"Factor in place A in L*U=A. A is a tridiagonal matrix defined\n",
    "    by its diagonals. The L has implied ones on the diagonal.\n",
    "    Args:\n",
    "        d: vector representing the main diagonal\n",
    "        a: vector representing the lower diagonal\n",
    "        b: vector representing the upper diagonal\n",
    "    Returns:\n",
    "        m: vector representing the LU factored diagonal of U\n",
    "        l: vector representing the LU factored lower diagonal of L\n",
    "        b: vector representing the LU factored upper diagonal of U\n",
    "    \"\"\"\n",
    "    \n",
    "    # Size of inputs\n",
    "    N = d.shape[0]\n",
    "    Na = a.shape[0]\n",
    "    Nb = b.shape[0]\n",
    "    \n",
    "    # Off diagonals must be 1 shorter than main\n",
    "    assert N == Na + 1\n",
    "    assert N == Nb + 1\n",
    "    \n",
    "    # Define return arrays\n",
    "    l = np.zeros(N-1)\n",
    "    m = np.zeros(N)\n",
    "    m[0] = d[0]\n",
    "    \n",
    "    # Loop diagonally across matrix\n",
    "    for i in range(1,N):\n",
    "        l[i-1] = a[i-1]/m[i-1] # Fill lower\n",
    "        m[i] = d[i] - l[i-1]*b[i-1] # Fill upper\n",
    "    \n",
    "    return m,l,b\n",
    "\n",
    "# Define a tridiagonal matrix\n",
    "d = np.array([1,2,3,4])*1.0\n",
    "a = np.array([5,6,7])*1.0\n",
    "b = np.array([8,9,10])*1.0\n",
    "\n",
    "# Do factorization\n",
    "m,l,b = LU_factor(d,a,b)\n",
    "\n",
    "# Print to user\n",
    "print('L lower diagonal:\\n',l)\n",
    "print('\\nU upper diagonal:\\n',b)\n",
    "print('\\nU main diagonal:\\n',m)"
   ]
  }
 ],
 "metadata": {
  "kernelspec": {
   "display_name": "Python 3",
   "language": "python",
   "name": "python3"
  },
  "language_info": {
   "codemirror_mode": {
    "name": "ipython",
    "version": 3
   },
   "file_extension": ".py",
   "mimetype": "text/x-python",
   "name": "python",
   "nbconvert_exporter": "python",
   "pygments_lexer": "ipython3",
   "version": "3.6.8"
  }
 },
 "nbformat": 4,
 "nbformat_minor": 1
}
