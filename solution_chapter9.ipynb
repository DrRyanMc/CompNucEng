{
 "cells": [
  {
   "cell_type": "markdown",
   "metadata": {},
   "source": [
    "## 9.1 \n",
    "Write a python function called $\\texttt{isSymmetric}$ which takes a single parameter $\\texttt{A}$ and checks if the NumPy matrix $\\texttt{A}$ is symmetric. It should return 1 if the matrix is symmetric, and 0 if the matrix is non-symmetric."
   ]
  },
  {
   "cell_type": "markdown",
   "metadata": {},
   "source": [
    "## Solution"
   ]
  },
  {
   "cell_type": "markdown",
   "metadata": {},
   "source": [
    "A matrix $\\texttt{A}$ is symmetric if the following is true"
   ]
  },
  {
   "cell_type": "markdown",
   "metadata": {},
   "source": [
    "$$\\textbf{A} = \\textbf{A}^T.$$"
   ]
  },
  {
   "cell_type": "markdown",
   "metadata": {},
   "source": [
    "The transpose of $\\texttt{A}$ can be determined by reverting the rows and columns of the matrix. The numpy function $\\texttt{transpose}$ can also be employed. Once the transpose of $\\texttt{A}$ is determined, an $\\texttt{if}$ statement is used to verify if that the tranpose is equal to the original matrix."
   ]
  },
  {
   "cell_type": "markdown",
   "metadata": {},
   "source": [
    "Note that to determine if each element of numpy array $\\texttt{A}$ is equal to each corresponding element of numpy array $\\texttt{B}$, the statement to be used is $\\texttt{(A == B).all()}$."
   ]
  },
  {
   "cell_type": "code",
   "execution_count": 1,
   "metadata": {},
   "outputs": [
    {
     "name": "stdout",
     "output_type": "stream",
     "text": [
      "For matrix A:\n",
      " [[ 1.  7.  3.]\n",
      " [ 7.  4. -5.]\n",
      " [ 3. -5.  6.]]\n",
      "Result: 1\n",
      "\n",
      "For matrix A:\n",
      " [[ 1.  7.  5.]\n",
      " [ 7.  4. -5.]\n",
      " [ 3. -5.  6.]]\n",
      "Result: 0\n",
      "\n",
      "For matrix A:\n",
      " [[1 2 3]\n",
      " [2 4 5]\n",
      " [3 5 6]]\n",
      "Result: 1\n"
     ]
    }
   ],
   "source": [
    "import numpy as np\n",
    "\n",
    "def isSymmetric(A):\n",
    "    \"\"\"Determines if a matrix is symmetric\n",
    "    \n",
    "    Args:\n",
    "        A: numpy matrix\n",
    "    Returns:\n",
    "        int: 1 if A is symmetric, 0 if non-symmetric\n",
    "    \"\"\"\n",
    "    \n",
    "    # Determine size of A\n",
    "    [Nrow,Ncol] = A.shape\n",
    "    \n",
    "    # Continue only if A is a square matrix\n",
    "    assert (Nrow == Ncol),\"A is not square\"\n",
    "    N = Nrow\n",
    "    \n",
    "    # Determine A^T\n",
    "    # Can also use transposeA = np.transpose(A)\n",
    "    transposeA = np.zeros([N,N])\n",
    "    for i in range(0,N):\n",
    "        transposeA[i,:] = A[:,i]\n",
    "     \n",
    "    # A is symmetric if A^T = A\n",
    "    if (transposeA == A).all():\n",
    "        return 1\n",
    "    else:\n",
    "        return 0\n",
    "        \n",
    "# Test on a symmetric matrix\n",
    "A = np.array([(1,7,3),(7,4,-5),(3,-5,6)])*1.0\n",
    "result = isSymmetric(A)\n",
    "print('For matrix A:\\n',A)\n",
    "print('Result:',result)\n",
    "\n",
    "# Test on a non-symmetric matrix\n",
    "A = np.array([(1,7,5),(7,4,-5),(3,-5,6)])*1.0\n",
    "result = isSymmetric(A)\n",
    "print('\\nFor matrix A:\\n',A)\n",
    "print('Result:',result)\n",
    "\n",
    "A = np.array([(1,2,3),(2,4,5),(3,5,6)])\n",
    "result = isSymmetric(A)\n",
    "print('\\nFor matrix A:\\n',A)\n",
    "print('Result:',result)"
   ]
  },
  {
   "cell_type": "markdown",
   "metadata": {},
   "source": [
    "##  Exiting Gracefully\n",
    "The Jacobi and Gauss-Sidel implementations in this chapter have a maximum number of iterations before they return a solution. They do not, however, tell the user that the maximum number of iterations was reached. Modify the Jacobi implementation given above to alert the user that the maximum number of iterations has been reached. You can do this by inserting a $\\texttt{print}$ statement that is executed or by using an $\\texttt{assert}$ statement."
   ]
  },
  {
   "cell_type": "markdown",
   "metadata": {},
   "source": [
    "## Solution"
   ]
  },
  {
   "cell_type": "markdown",
   "metadata": {},
   "source": [
    "The following alerts the user after $\\texttt{max\\_iterations}$ has been reached using a $\\texttt{print}$ statement."
   ]
  },
  {
   "cell_type": "code",
   "execution_count": 2,
   "metadata": {},
   "outputs": [],
   "source": [
    "def JacobiTri(A,b,tol=1.0e-6,max_iterations=100,LOUD=False):\n",
    "    \"\"\"Solve a linear system by Jacobi iteration.\n",
    "    Note: system must be diagonally dominant\n",
    "    Args:\n",
    "        A: N by N array\n",
    "        b: array of length N\n",
    "        tol: Relative L2 norm tolerance for convergence\n",
    "        max_iterations: maximum number of iterations\n",
    "    Returns:\n",
    "        The approximate solution to the linear system\n",
    "    \"\"\"\n",
    "    [Nrow, Ncol] = A.shape\n",
    "    assert 3 == Ncol\n",
    "    N = Nrow\n",
    "    converged = False\n",
    "    iteration = 1\n",
    "    x = np.random.rand(N) #random initial guess\n",
    "    x_new = np.zeros(N)\n",
    "    while not(converged):\n",
    "        x = x_new.copy() #replace old value\n",
    "        for i in range(1,N-1):\n",
    "            x_new[i] = (b[i] - A[i,0]*x[i-1] - A[i,2]*x[i+1])/A[i,1]\n",
    "        i = 0\n",
    "        x_new[0] = (b[i] - A[i,2]*x[i+1])/A[i,1]\n",
    "        i = N-1\n",
    "        x_new[i] = (b[i] - A[i,0]*x[i-1])/A[i,1]\n",
    "        relative_change = np.linalg.norm(x_new-x)/np.linalg.norm(x_new)\n",
    "        if (LOUD):\n",
    "            print(\"Iteration\",iteration,\": Relative Change =\",relative_change)\n",
    "        if (relative_change < tol) or (iteration >= max_iterations):\n",
    "            converged = True\n",
    "        iteration += 1\n",
    "        # PRINT STATEMENT TO CHECK FOR max_iterations\n",
    "        if (iteration == max_iterations):\n",
    "            print(max_iterations,'iterations reached. Exiting.')\n",
    "            break\n",
    "    return x_new"
   ]
  },
  {
   "cell_type": "markdown",
   "metadata": {},
   "source": [
    "The following alerts the user after $\\texttt{max\\_iterations}$ has been reached using an $\\texttt{assert}$ statement."
   ]
  },
  {
   "cell_type": "code",
   "execution_count": 3,
   "metadata": {},
   "outputs": [],
   "source": [
    "def JacobiTri(A,b,tol=1.0e-6,max_iterations=100,LOUD=False):\n",
    "    \"\"\"Solve a linear system by Jacobi iteration.\n",
    "    Note: system must be diagonally dominant\n",
    "    Args:\n",
    "        A: N by N array\n",
    "        b: array of length N\n",
    "        tol: Relative L2 norm tolerance for convergence\n",
    "        max_iterations: maximum number of iterations\n",
    "    Returns:\n",
    "        The approximate solution to the linear system\n",
    "    \"\"\"\n",
    "    [Nrow, Ncol] = A.shape\n",
    "    assert 3 == Ncol\n",
    "    N = Nrow\n",
    "    converged = False\n",
    "    iteration = 1\n",
    "    x = np.random.rand(N) #random initial guess\n",
    "    x_new = np.zeros(N)\n",
    "    while not(converged):\n",
    "        x = x_new.copy() #replace old value\n",
    "        for i in range(1,N-1):\n",
    "            x_new[i] = (b[i] - A[i,0]*x[i-1] - A[i,2]*x[i+1])/A[i,1]\n",
    "        i = 0\n",
    "        x_new[0] = (b[i] - A[i,2]*x[i+1])/A[i,1]\n",
    "        i = N-1\n",
    "        x_new[i] = (b[i] - A[i,0]*x[i-1])/A[i,1]\n",
    "        relative_change = np.linalg.norm(x_new-x)/np.linalg.norm(x_new)\n",
    "        if (LOUD):\n",
    "            print(\"Iteration\",iteration,\": Relative Change =\",relative_change)\n",
    "        if (relative_change < tol) or (iteration >= max_iterations):\n",
    "            converged = True\n",
    "        iteration += 1\n",
    "        # ASSERT STATEMENT TO CHECK FOR max_iterations\n",
    "        assert max_iterations < iteration\n",
    "    return x_new"
   ]
  },
  {
   "cell_type": "markdown",
   "metadata": {
    "collapsed": true
   },
   "source": [
    "## 2-D Heat Equation"
   ]
  },
  {
   "cell_type": "markdown",
   "metadata": {},
   "source": [
    "Below is a program in Algorithm 5, which builds a matrix and righthand side for a heat conduction problem in 2-D. The discretization of the 2-D heat equation gives a linear system $\\textbf{Ax = b}$ where the solution vector x is the temperature at the grid points of the 2-D domain. In particular"
   ]
  },
  {
   "cell_type": "markdown",
   "metadata": {},
   "source": [
    "The 2-D heat equation in a homogenous material of constant conductivity $k$ with a uniform volumetric heat source $q$ and zero-termpature conditions on the boundary of the rectangular domain of length $L_x$ and width $L_y$ is"
   ]
  },
  {
   "cell_type": "markdown",
   "metadata": {},
   "source": [
    "$$ -k\\Delta^2 T = q,~~~\\text{for } x \\in [0,L_x],~~y \\in [0,L_y].$$"
   ]
  },
  {
   "cell_type": "markdown",
   "metadata": {},
   "source": [
    "With the boundary condition"
   ]
  },
  {
   "cell_type": "markdown",
   "metadata": {},
   "source": [
    "$$T(x,y) = 0~~~~~\\text{for } x,y~\\text{on the boundary}.$$"
   ]
  },
  {
   "cell_type": "markdown",
   "metadata": {},
   "source": [
    "The 2-D Laplacian is discretized using a mathematical technique known as finite differences (which we will see later\n",
    "on)."
   ]
  },
  {
   "cell_type": "markdown",
   "metadata": {},
   "source": [
    "As a result of the spatial discretization the heat equation forms a linear system of the form Ax = b. The code below\n",
    "forms this matrix."
   ]
  },
  {
   "cell_type": "markdown",
   "metadata": {},
   "source": [
    "The size of this matrix is $\\texttt{nCells}$ is determined by the value of $\\Delta$ (the distance between points at which we want to evaluate the temperature), and the size of $L_x$ and $L_y$. In the code $L_x = L_y$ and this value is called $L$. The total number of values in each direction is $\\texttt{ndim} = L/\\Delta$ leading to a total number of unknowns is $\\texttt{nCells = ndim *\n",
    "ndim}$."
   ]
  },
  {
   "cell_type": "markdown",
   "metadata": {},
   "source": [
    "Your work:"
   ]
  },
  {
   "cell_type": "markdown",
   "metadata": {},
   "source": [
    "Look at Algorithm 5. It is a working program except that the conjugate gradient function has been deleted from it. To make it run you will have to add in a conjugate gradient solver. The conjugate gradient solver given in class should return a vector containing the residual at each iteration."
   ]
  },
  {
   "cell_type": "markdown",
   "metadata": {},
   "source": [
    "Plot the logarithm of the residual, $\\lvert\\lvert \\textbf{Ax}_i - \\textbf{b}\\rvert\\rvert_2$ error versus the iteration number."
   ]
  },
  {
   "cell_type": "markdown",
   "metadata": {},
   "source": [
    "The solution vector $\\textbf{x}$ contains the $\\texttt{nCells = ndim * ndim}$ unknowns. The $x$ and $y$ positions corresponding to a given row of the matrix are defined in the lines that assign $\\texttt{xVal}$ and $\\texttt{yVal}$. Plot the 2-D temperature distribution in the two following cases:"
   ]
  },
  {
   "cell_type": "markdown",
   "metadata": {},
   "source": [
    "\n",
    "- A very coarse grid (small number of grid points)\n",
    "- A fine grid (high number of grid points)\n"
   ]
  },
  {
   "cell_type": "markdown",
   "metadata": {},
   "source": [
    "## Solution"
   ]
  },
  {
   "cell_type": "markdown",
   "metadata": {},
   "source": [
    "The conjugate gradient solver, $\\texttt{CG}$ is copied from the Chapter 9 notes. First, the variable $\\texttt{residuals}$ was defined to store the residual of each iteration. The $\\texttt{NumPy}$ function $\\texttt{append}$ is then used to append each residual to the variable $\\texttt{residuals}$. Lastly, this new variable is added to the $\\texttt{return}$ statement at the end of the function. The snippet given in Algorithm 5 is then used to fill the $\\texttt{A}$ and $\\texttt{B}$ matricies and then they are solved with $\\texttt{CG}$."
   ]
  },
  {
   "cell_type": "code",
   "execution_count": 6,
   "metadata": {},
   "outputs": [],
   "source": [
    "import numpy as np\n",
    "import matplotlib.pyplot as plt\n",
    "import math\n",
    "\n",
    "# Bye bye warning\n",
    "import warnings\n",
    "warnings.filterwarnings(\"ignore\")\n",
    "\n",
    "# CG solver from Chapter 9, modified\n",
    "def CG(A,b, x0=np.array([]),tol=1.0e-6,max_iterations=100,LOUD=False):\n",
    "    \"\"\"Solve a linear system by Conjugate Gradient\n",
    "    Note: system must be SPD\n",
    "    Args:\n",
    "        A: N by N array\n",
    "        b: array of length N\n",
    "        x0: initial guess (if none given will be random)\n",
    "        tol: Relative L2 norm tolerance for convergence\n",
    "        max_iterations: maximum number of iterations\n",
    "    Returns:\n",
    "        The approximate solution to the linear system\n",
    "    \"\"\"\n",
    "    \n",
    "    # Create empty variable for residuals\n",
    "    residuals = np.array([])\n",
    "    [Nrow, Ncol] = A.shape\n",
    "    assert Nrow == Ncol\n",
    "    N = Nrow\n",
    "    converged = False\n",
    "    iteration = 1\n",
    "    if (x0.size==0):\n",
    "        x = np.random.rand(N) #random initial guess\n",
    "    else:\n",
    "        x = x0\n",
    "    r = b - np.dot(A,x)\n",
    "    s = r.copy()\n",
    "    while not(converged):\n",
    "        denom = np.dot(s, np.dot(A,s))\n",
    "        alpha = np.dot(s,r)/denom\n",
    "        x = x + alpha*s\n",
    "        r = b - np.dot(A,x)\n",
    "        beta = - np.dot(r,np.dot(A,s))/denom\n",
    "        s = r + beta * s\n",
    "        relative_change = np.linalg.norm(r)\n",
    "        residuals = np.append(residuals,relative_change)\n",
    "        if (LOUD):\n",
    "            print(\"Iteration\",iteration,\": Relative Change =\",relative_change)\n",
    "        if (relative_change < tol) or (iteration >= max_iterations):\n",
    "            converged = True\n",
    "        iteration += 1\n",
    "    return x,residuals   \n",
    "        \n",
    "delta = 0.05;\n",
    "L = 1.0;\n",
    "k = 0.001;\n",
    "ndim = int(round(L/delta))\n",
    "nCells = ndim*ndim;\n",
    "A = np.zeros((nCells,nCells));\n",
    "b = np.zeros(nCells)\n",
    "#save us some work for later\n",
    "idelta2 = 1.0/(delta*delta);\n",
    "\n",
    "#now fill in A and b\n",
    "for cellVar in range(nCells):\n",
    "    xCell = cellVar % ndim; #x % y means x modulo y\n",
    "    yCell = (cellVar-xCell)//ndim;\n",
    "    xVal = xCell*delta + 0.5*delta;\n",
    "    yVal = yCell*delta + 0.5*delta;\n",
    "    #put source only in the middle of the problem\n",
    "    if ( ( math.fabs(xVal - L*0.5) < .25*L) and ( math.fabs(yVal - L*0.5) < .25*L) ):\n",
    "        b[cellVar] = 1;\n",
    "    #end if\n",
    "    \n",
    "    A[cellVar,cellVar] = 4.0*k*idelta2;\n",
    "    \n",
    "    if (xCell > 0):\n",
    "        A[cellVar,ndim*yCell + xCell -1] = -k*idelta2;\n",
    "    if (xCell < ndim-1):\n",
    "        A[cellVar,ndim*yCell + xCell + 1] = -k*idelta2;\n",
    "    if (yCell > 0):\n",
    "        A[cellVar,ndim*(yCell-1) + xCell] = -k*idelta2;\n",
    "    if (yCell < ndim-1):\n",
    "        A[cellVar,ndim*(yCell+1) + xCell] = -k*idelta2;\n",
    "        \n",
    "if (nCells <= 20):\n",
    "    #print the matrix\n",
    "    print(\"The A matrix in Ax = b is\\n\",A)\n",
    "    \n",
    "    #print the righthand side\n",
    "    print(\"The RHS is\",b)\n",
    "    \n",
    "x, residuals = CG(A,b,LOUD=False,max_iterations=1000)"
   ]
  },
  {
   "cell_type": "markdown",
   "metadata": {},
   "source": [
    "Note that the iteration residuals are supressed for the sake of saving space on the page."
   ]
  },
  {
   "cell_type": "markdown",
   "metadata": {},
   "source": [
    "$\\br$Once the system has been solved, the log of the residual error is then plotted per the equation given in the problem statement."
   ]
  },
  {
   "cell_type": "code",
   "execution_count": 7,
   "metadata": {},
   "outputs": [
    {
     "data": {
      "image/png": "[encoded data removed]",
      "text/plain": [
       "<Figure size 432x288 with 1 Axes>"
      ]
     },
     "metadata": {},
     "output_type": "display_data"
    }
   ],
   "source": [
    "# Plot residual errors\n",
    "iterations = np.arange(residuals.size)\n",
    "plt.semilogy(iterations, residuals)\n",
    "plt.xlabel(\"Iteration\")\n",
    "plt.ylabel(\"Residual\")\n",
    "plt.title(\"Residual as a function of iteration, $\\Delta =$\" +  str(delta))\n",
    "plt.show()"
   ]
  },
  {
   "cell_type": "markdown",
   "metadata": {},
   "source": [
    "The grid defined above is of dimension 20 x 20, so the previous solution can be used to represent a coarse grid. Therefore, the solution is plotted using the $\\texttt{matplotlib}$ function $\\texttt{pcolor}$. "
   ]
  },
  {
   "cell_type": "code",
   "execution_count": 8,
   "metadata": {},
   "outputs": [
    {
     "data": {
      "image/png": "[encoded data removed]",
      "text/plain": [
       "<Figure size 432x288 with 2 Axes>"
      ]
     },
     "metadata": {},
     "output_type": "display_data"
    }
   ],
   "source": [
    "# Define edges for plotting\n",
    "points = np.linspace(0.5*delta, L-0.5*delta, ndim)\n",
    "\n",
    "# Create mesh based on edges\n",
    "X,Y = np.meshgrid(points, points)\n",
    "\n",
    "# Plot distribution\n",
    "plt.pcolor(X,Y, np.reshape(x,(ndim,ndim)));\n",
    "plt.xlabel(\"x\")\n",
    "plt.ylabel(\"y\")\n",
    "plt.colorbar()\n",
    "plt.title(\"Temperature Solution, $\\Delta =$\" +  str(delta))\n",
    "plt.show()"
   ]
  },
  {
   "cell_type": "markdown",
   "metadata": {},
   "source": [
    "The value of $\\Delta$ is then changed to 0.02 to solve for a more fine grid using the previous code. Once the solution is obtained, the grid is again plotted with the residual errors."
   ]
  },
  {
   "cell_type": "code",
   "execution_count": 10,
   "metadata": {},
   "outputs": [
    {
     "data": {
      "image/png": "[encoded data removed]",
      "text/plain": [
       "<Figure size 432x288 with 2 Axes>"
      ]
     },
     "metadata": {},
     "output_type": "display_data"
    }
   ],
   "source": [
    "delta = 0.02; # This is changed\n",
    "L = 1.0;\n",
    "k = 0.001;\n",
    "ndim = int(round(L/delta))\n",
    "nCells = ndim*ndim;\n",
    "A = np.zeros((nCells,nCells));\n",
    "b = np.zeros(nCells)\n",
    "#save us some work for later\n",
    "idelta2 = 1.0/(delta*delta);\n",
    "\n",
    "#now fill in A and b\n",
    "for cellVar in range(nCells):\n",
    "    xCell = cellVar % ndim; #x % y means x modulo y\n",
    "    yCell = (cellVar-xCell)//ndim;\n",
    "    xVal = xCell*delta + 0.5*delta;\n",
    "    yVal = yCell*delta + 0.5*delta;\n",
    "    #put source only in the middle of the problem\n",
    "    if ( ( math.fabs(xVal - L*0.5) < .25*L) and ( math.fabs(yVal - L*0.5) < .25*L) ):\n",
    "        b[cellVar] = 1;\n",
    "    #end if\n",
    "    \n",
    "    A[cellVar,cellVar] = 4.0*k*idelta2;\n",
    "    \n",
    "    if (xCell > 0):\n",
    "        A[cellVar,ndim*yCell + xCell -1] = -k*idelta2;\n",
    "    if (xCell < ndim-1):\n",
    "        A[cellVar,ndim*yCell + xCell + 1] = -k*idelta2;\n",
    "    if (yCell > 0):\n",
    "        A[cellVar,ndim*(yCell-1) + xCell] = -k*idelta2;\n",
    "    if (yCell < ndim-1):\n",
    "        A[cellVar,ndim*(yCell+1) + xCell] = -k*idelta2;\n",
    "        \n",
    "if (nCells <= 20):\n",
    "    #print the matrix\n",
    "    print(\"The A matrix in Ax = b is\\n\",A)\n",
    "    \n",
    "    #print the righthand side\n",
    "    print(\"The RHS is\",b)\n",
    "    \n",
    "x, residuals = CG(A,b,LOUD=False,max_iterations=1000)\n",
    "\n",
    "# Define edges for plotting\n",
    "points = np.linspace(0.5*delta, L-0.5*delta, ndim)\n",
    "\n",
    "# Create mesh based on edges\n",
    "X,Y = np.meshgrid(points, points)\n",
    "\n",
    "# Plot distribution\n",
    "plt.pcolor(X,Y, np.reshape(x,(ndim,ndim)));\n",
    "plt.xlabel(\"x\")\n",
    "plt.ylabel(\"y\")\n",
    "plt.colorbar()\n",
    "plt.title(\"Temperature Solution, $\\Delta =$\" +  str(delta))\n",
    "plt.show()"
   ]
  }
 ],
 "metadata": {
  "kernelspec": {
   "display_name": "Python 3",
   "language": "python",
   "name": "python3"
  },
  "language_info": {
   "codemirror_mode": {
    "name": "ipython",
    "version": 3
   },
   "file_extension": ".py",
   "mimetype": "text/x-python",
   "name": "python",
   "nbconvert_exporter": "python",
   "pygments_lexer": "ipython3",
   "version": "3.6.8"
  }
 },
 "nbformat": 4,
 "nbformat_minor": 1
}
