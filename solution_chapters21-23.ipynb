{
 "cells": [
  {
   "cell_type": "markdown",
   "metadata": {},
   "source": [
    "## 21.3"
   ]
  },
  {
   "cell_type": "markdown",
   "metadata": {},
   "source": [
    "The Maxwell-Boltzman distribution, often called just a Maxwellian distribution, gives the distribution of speeds of particles in a gas by the formula\n",
    "\n",
    "$$f(v) = \\sqrt{\\left(\\frac{m}{2 \\pi kT}\\right)^3}\\, 4\\pi v^2 e^{- \\frac{mv^2}{2kT}}$$\n",
    "\n",
    "where $m$ is the mass of the particles, $T$ is the temperature, and $k$ is the Boltzmann constant.  Consider a gas of deuterium at $kT = 1$ keV $= 1.60218 \\times 10^{-16}$ J.  Sample particle speeds from the Maxwellian using rejection sampling.  From your sampled points, compute the mean speed and the square-root of the mean speed squared (i.e., compute the mean value of the speed squared and then take the square root, aka the root-mean square speed).   The mean speed should be \n",
    "\n",
    "$$\\int_0^\\infty dv\\, v f(v) = \\sqrt{\\frac{8kT}{\\pi m}},$$\n",
    "\n",
    "and the root-mean square speed should be\n",
    "\n",
    "$$\\sqrt{ \\int_0^\\infty dv\\, v^2 f(v)} = \\sqrt{\\frac{3kT}{m}}.$$\n",
    "\n",
    "Compute these quantities using sample numbers of $N=10,10^2,10^4,10^6$ and discuss your results."
   ]
  },
  {
   "cell_type": "markdown",
   "metadata": {},
   "source": [
    "## Solution"
   ]
  },
  {
   "cell_type": "markdown",
   "metadata": {},
   "source": [
    "First, we must define a function that represents the Maxwellian distribution for sampling. When performing rejection sampling, it is often useful to plot the distribution over a wide variety of energies to determine a good range to sample in. Looking at the first plot below, it is clear why the energy range chosen was $E = [0.0,1 \\times 10^6]$. In addition, the maximum height chosen was determined by the max of the function in the range chosen. It is acceptable to chose a wider range, but it will require a larger number of samples for the same result. Bounding the samples to a reasonable range is a good choice.\n",
    "\n",
    "$\\br$We will then loop through each number of samples requested. Empty lists are created that will be filled with the rejected and accepted samples. Another loop is then created that will loop through the desired number of samples. A $v$ is then sampled in the range above from a uniform distribution, and the same done in the $y$ direction. Each sample is checked and either accepted or rejected.\n",
    "\n",
    "$\\br$After the sampling is complete, the mean speed and square-root of the mean speed are calculated and compared to the exact solution.\n",
    "\n",
    "$\\br$Note that the first three samplings are plotted as a visual aid, and that these plots are not required for full credit.$\\br$"
   ]
  },
  {
   "cell_type": "code",
   "execution_count": null,
   "metadata": {},
   "outputs": [],
   "source": [
    "import numpy as np\n",
    "import matplotlib.pyplot as plt\n",
    "%matplotlib inline\n",
    "\n",
    "# Define constants\n",
    "kT = 1.60218E-16 # [J]\n",
    "Na = 6.022E23 # [atoms/mole]\n",
    "m = 2.01410178E-3/Na # [g/atom]\n",
    "\n",
    "# Define distribution\n",
    "def f(v,m,kT):\n",
    "    return np.sqrt((m/(2*np.pi*kT))**3)*4*np.pi*v**2*np.exp(-m*v**2/(2*kT))\n",
    "\n",
    "# Define min and max velocities\n",
    "min_v = 0.0\n",
    "max_v = 1.0e6\n",
    "\n",
    "# Determine max in range\n",
    "numvs = 10**5\n",
    "vs = np.linspace(min_v,max_v,numvs)\n",
    "max_dist = np.max(f(vs,m,kT))\n",
    "\n",
    "# Determine exact mean and root-mean square\n",
    "meanExact = np.sqrt(8*kT/(np.pi*m))\n",
    "rootMeanExact = np.sqrt(3*kT/m)\n",
    "print('The exact exact mean speed is', '%.5e' % meanExact,'m/s')\n",
    "print('The exact root-mean square speed is', '%.5e' % rootMeanExact,'m/s\\n')\n",
    "\n",
    "# Sample numbers to loop through\n",
    "Ns = 10**(np.array([1,2,4,6]))\n",
    "for N in Ns:\n",
    "    # Fill arrays\n",
    "    accepted_v = []\n",
    "    accepted_y = []\n",
    "    rejected_v = []\n",
    "    rejected_y = []\n",
    "    \n",
    "    # Sample N particles\n",
    "    for sample in range(N):\n",
    "        # Sample v\n",
    "        v = np.random.uniform(min_v,max_v,1)\n",
    "        y = np.random.uniform(0,max_dist,1)\n",
    "        rel_prob = f(v,m,kT)\n",
    "        # Accept or reject and append\n",
    "        if y <= rel_prob:\n",
    "            accepted_v.append(v)\n",
    "            accepted_y.append(y)\n",
    "        else:\n",
    "            rejected_v.append(v)\n",
    "            rejected_y.append(y)\n",
    "            \n",
    "    # Numpy array please\n",
    "    accepted_v = np.array(accepted_v)\n",
    "    accepted_y = np.array(accepted_y)\n",
    "    rejected_v = np.array(rejected_v)\n",
    "    rejected_y = np.array(rejected_y)\n",
    "\n",
    "    # Plot (not required)\n",
    "    # But not for 10^6 particles--too many\n",
    "    if N < 10**6:\n",
    "        plt.title('Rejection sampling of $10^' + str(np.log10(N))[0] + '$ particles')\n",
    "        plt.plot(accepted_v,accepted_y,'+',color='green',label='Accepted samples')\n",
    "        plt.plot(rejected_v,rejected_y,'x',color='red',label='Rejected samples')\n",
    "        plt.plot(vs,f(vs,m,kT),label=r'$f(v)$',color='black',linewidth=2)\n",
    "        plt.plot(vs,max_dist*np.ones(numvs),'--',color='black',label='Maximum',linewidth=2)\n",
    "        plt.legend(bbox_to_anchor=(1.05, 1), loc=2, borderaxespad=0.)\n",
    "        plt.xlabel('Particle velocity (m/s)')\n",
    "        plt.ticklabel_format(style='sci', axis='y', scilimits=(0,0))\n",
    "        plt.show()\n",
    "    \n",
    "    print('For N = 10^',str(np.log10(N))[0],'particles:')\n",
    "    \n",
    "    # Determine required means\n",
    "    mean = np.mean(accepted_v)\n",
    "    meanError = np.abs((mean-meanExact)/meanExact)*100\n",
    "    rootMean = np.sqrt(np.mean(accepted_v**2))\n",
    "    rootMeanError = np.abs((rootMean-rootMeanExact)/rootMeanExact)*100\n",
    "    \n",
    "    # Annd print\n",
    "    print('Mean speed:', '%.5e' % mean,'m/s with %.2f' % meanError + '% error')\n",
    "    print('Root-mean square speed:', '%.5e' % rootMean,'m/s with %.2f' % rootMeanError + '% error')"
   ]
  },
  {
   "cell_type": "markdown",
   "metadata": {},
   "source": [
    "Notice how the errors begin to converge, and that when $10^6$ particles are ran we end up with a rather good set of samples that exhibit the mean behavior very well. "
   ]
  },
  {
   "cell_type": "markdown",
   "metadata": {},
   "source": [
    "## Chapter 21 Short Exercise 2"
   ]
  },
  {
   "cell_type": "markdown",
   "metadata": {},
   "source": [
    "Modify the shielding code to consider neutrons of a single energy impinging on the shield and to tally the energy of the absorbed neutrons.  Assume the neutrons are all 2.5 MeV and are produced from the fusion of deuterium. Plot the distribution of transmitted and absorbed neutrons with a large enough number of sample particles."
   ]
  },
  {
   "cell_type": "markdown",
   "metadata": {},
   "source": [
    "## Solution"
   ]
  },
  {
   "cell_type": "markdown",
   "metadata": {},
   "source": [
    "First, we will start with the $\\texttt{slab\\_reactor}$ function from the Chapter 21 notes. Changes are made below such that no sampling is done over energy. Instead, all samples are assigned the same energy. The function is then renamed $\\texttt{slab\\_reactor\\_mod}$.\n",
    "\n",
    "$\\br$In addition, code is copied that imports the energy-dependent cross sections from a csv format for input to the function. \n",
    "\n",
    "$\\br$As it was chosen to simulate 1 million particles, the function was also modifed to print out the status every 100,000 particles."
   ]
  },
  {
   "cell_type": "code",
   "execution_count": null,
   "metadata": {},
   "outputs": [],
   "source": [
    "import numpy as np\n",
    "import matplotlib.pyplot as plt\n",
    "\n",
    "def slab_reactor_mod(Sig_s,Sig_a,E,thickness,density,A,N,isotropic=False):\n",
    "    \"\"\"Compute the fraction of neutrons that leak through a slab and\n",
    "    have a constant incident energy\n",
    "    Inputs:\n",
    "    Sig_s: The scattering macroscopic x-section array in form Energy, X-sect\n",
    "    Sig_a: The absorption macroscopic x-section\n",
    "    E: incident neutron energy\n",
    "    thickness: Width of the slab\n",
    "    density:  density of material in atoms per cc\n",
    "    A:         atomic weight of shield\n",
    "    N:         Number of neutrons to simulate\n",
    "    isotropic: Are the neutrons isotropic or a beam\n",
    "    \n",
    "    Returns:\n",
    "    transmission: energies of neutrons that leak through\n",
    "    created: energies of neutrons that were born\n",
    "    \"\"\"\n",
    "    \n",
    "    alpha = (A-1.0)**2/(A+1.0)**2\n",
    "    transmission = []\n",
    "    created = []\n",
    "    absorbed = []\n",
    "    N = int(N)\n",
    "    for i in range(N):\n",
    "        #sample direction\n",
    "        if (isotropic):\n",
    "            mu = np.random.random(1)\n",
    "        else:\n",
    "            mu = 1.0\n",
    "        #energy is constant\n",
    "        energy = E\n",
    "        #initial position is 0\n",
    "        x=0\n",
    "        created.append(E)\n",
    "        alive = 1\n",
    "        while (alive):\n",
    "            #get distance to collision\n",
    "            scat_index = energy_lookup(Sig_s[0,:],energy)\n",
    "            abs_index = energy_lookup(Sig_a[0,:],energy)\n",
    "            cur_scat = Sig_s[1,scat_index]\n",
    "            cur_abs = Sig_a[1,abs_index]\n",
    "            Sig_t = cur_scat + cur_abs\n",
    "            l = -np.log(1-np.random.random(1))/Sig_t\n",
    "            #move particle\n",
    "            x += l*mu\n",
    "            #still in the slab\n",
    "            if (x>thickness):\n",
    "                transmission.append(energy)\n",
    "                alive = 0 \n",
    "            elif (x<0):\n",
    "                alive = 0\n",
    "            else:\n",
    "                #scatter or absorb\n",
    "                if (np.random.random(1) < cur_scat/Sig_t):\n",
    "                    #scatter, pick new mu and energy\n",
    "                    mu = np.random.uniform(-1,1,1)\n",
    "                    energy = np.random.uniform(alpha*energy,energy,1)\n",
    "                else: #absorbed \n",
    "                    absorbed.append(energy)\n",
    "                    alive = 0\n",
    "        if i%100000 == 0:\n",
    "            print('Simulated',i,'particles')\n",
    "    return transmission, created, absorbed\n",
    "\n",
    "def energy_lookup(data_set, inp_energy):\n",
    "    \"\"\"look up energy in a data set and return the nearest energy in the table\n",
    "    Input:\n",
    "    data_set: a vector of energies\n",
    "    inp_energy: the energy to lookup\n",
    "    Output:\n",
    "    index: the index of the nearest neighbor in the table\n",
    "    \"\"\"\n",
    "    #argmin returns the indices of the smallest members of an array\n",
    "    #here we'll look for the minimum difference between the input energy and the table\n",
    "    index = np.argmin(np.fabs(data_set-inp_energy))\n",
    "    return index\n",
    "\n",
    "# Import energy dependent cross-sections for Pb-208\n",
    "import csv\n",
    "lead_s = [] #create a blank list for the x-sects\n",
    "lead_s_energy = [] #create a blank list for the x-sects energies\n",
    "#this loop will only execute if the file opens\n",
    "with open('pb_scat.csv') as csvfile:\n",
    "    pbScat = csv.reader(csvfile)\n",
    "    for row in pbScat: #have for loop that loops over each line\n",
    "        lead_s.append(float(row[1]))\n",
    "        lead_s_energy.append(float(row[0]))\n",
    "lead_scattering = np.array([lead_s_energy,lead_s])\n",
    "lead_abs = [] #create a blank list for the x-sects\n",
    "lead_abs_energy = [] #create a blank list for the x-sects energie\n",
    "#this loop will only execute if the file opens\n",
    "with open('pb_radcap.csv') as csvfile:\n",
    "    pbAbs = csv.reader(csvfile)\n",
    "    for row in pbAbs: #have for loop that loops over each line\n",
    "        lead_abs.append(float(row[1]))\n",
    "        lead_abs_energy.append(float(row[0]))\n",
    "lead_absorption = np.array([lead_abs_energy,lead_abs])\n",
    "\n",
    "# Define necessary inputs\n",
    "E = 2.5E6 # [MeV]\n",
    "N = 1e6 # [particles]\n",
    "A = 208 # [g/mol]\n",
    "Na = 6.022E23 # [atoms/mol]\n",
    "density = 11.34/A*Na # [atoms/cm^3]\n",
    "thickness = 5 # [cm]\n",
    "\n",
    "# Run!\n",
    "transmission,created,absorbed = slab_reactor_mod(lead_scattering,lead_absorption,\n",
    "                                                 E,thickness,density,A,N,isotropic=True)"
   ]
  },
  {
   "cell_type": "markdown",
   "metadata": {},
   "source": [
    "Now that we have our data, we will plot. First will come a plot of the source particles. Note that this plot is optional, but it is done to verify that all of our particles are being born at 2.5 MeV.$\\br$"
   ]
  },
  {
   "cell_type": "code",
   "execution_count": null,
   "metadata": {},
   "outputs": [],
   "source": [
    "# Plot created particles\n",
    "plt.hist(np.array(created)/1.e6,bins = 10 ** np.linspace(np.log10(0.001), np.log10(10), 200))\n",
    "plt.gca().set_xscale(\"log\")\n",
    "plt.gca().set_yscale(\"log\")\n",
    "plt.xlabel(\"Energy (MeV)\")\n",
    "plt.ylabel('Particles')\n",
    "plt.title(\"Created particles (optional plot)\")\n",
    "plt.show()"
   ]
  },
  {
   "cell_type": "markdown",
   "metadata": {},
   "source": [
    "Great--2.5 MeV it is.\n",
    "\n",
    "$\\br$Last, we will plot the transmitted and absorbed particles.$\\br$"
   ]
  },
  {
   "cell_type": "code",
   "execution_count": null,
   "metadata": {},
   "outputs": [],
   "source": [
    "# Plot transmitted particles\n",
    "plt.hist(np.array(transmission)/1.e6,bins = 10 ** np.linspace(np.log10(0.001), np.log10(10), 200))\n",
    "plt.gca().set_xscale(\"log\")\n",
    "plt.gca().set_yscale(\"log\")\n",
    "plt.xlabel(\"Energy (MeV)\")\n",
    "plt.ylabel('Particles')\n",
    "plt.title(\"Transmitted particles\")\n",
    "plt.show()\n",
    "\n",
    "# Plot absorbed particles\n",
    "plt.hist(np.array(absorbed)/1.e6,bins = 10 ** np.linspace(np.log10(0.001), np.log10(10), 200))\n",
    "plt.gca().set_xscale(\"log\")\n",
    "plt.gca().set_yscale(\"log\")\n",
    "plt.xlabel(\"Energy (MeV)\")\n",
    "plt.ylabel('Particles')\n",
    "plt.title(\"Absorbed particles\")\n",
    "plt.show()"
   ]
  },
  {
   "cell_type": "markdown",
   "metadata": {},
   "source": [
    "## Pure Plutonium Reactor: Part 1"
   ]
  },
  {
   "cell_type": "markdown",
   "metadata": {},
   "source": [
    "In Chapter 18 we defined a pulsed reactor made of pure plutonium with the following cross-sections from the report $\\it{Reactor~Physics~Constants}$, ANL-5800:"
   ]
  },
  {
   "cell_type": "raw",
   "metadata": {},
   "source": [
    "\\begin{center}\n",
    "\\begin{tabular}{l|l}\n",
    "Quantity                    & Value   \\\\ \\hline\n",
    "$\\sigma_\\mathrm{f}$ {[}b{]} & 1.85    \\\\\n",
    "$\\sigma_\\mathrm{a}$ {[}b{]} & 2.11    \\\\\n",
    "$\\sigma_\\mathrm{tr}$ {[}b{]}               & 6.8 \\\\\n",
    "$\\nu$                       & 2.98   \n",
    "\\end{tabular}\n",
    "\\end{center}"
   ]
  },
  {
   "cell_type": "markdown",
   "metadata": {},
   "source": [
    "For the density of plutonium use $19.74$ g/cm$^3$; you may assume that $\\sigma_\\mathrm{t} \\approx \\sigma_\\mathrm{tr}.$ \n",
    "\n",
    "$\\br$Compute $k_\\mathrm{eff}$ for a slab of thickness 7 cm made from pure plutonium-239 using fission cycles and the fission matrix method. "
   ]
  },
  {
   "cell_type": "markdown",
   "metadata": {},
   "source": [
    "## Solution"
   ]
  },
  {
   "cell_type": "markdown",
   "metadata": {},
   "source": [
    "The file $\\texttt{ch23.py}$ will be imported, as it contains all of the functions present in the Chapter 23 notes.\n",
    "\n",
    "$\\br$We will first define all of the given information for use in the later functions.\n",
    "\n",
    "$\\br$As $\\sigma_\\mathrm{t} \\approx \\sigma_\\mathrm{tr}$, we will easily compute the scattering cross section as\n",
    "\n",
    "$$\\Sigma_s = \\Sigma_\\mathrm{tr} - \\Sigma_\\mathrm{a}.$$"
   ]
  },
  {
   "cell_type": "code",
   "execution_count": null,
   "metadata": {},
   "outputs": [],
   "source": [
    "# NUEN 329\n",
    "# Pure Plutonium Reactor: Part 1\n",
    "\n",
    "import numpy as np\n",
    "from ch23 import *\n",
    "\n",
    "# Define cool numbers\n",
    "Na = 6.022E23 # [atoms/mol]\n",
    "\n",
    "# Define plutonium constants\n",
    "sigf = 1.85E-24 # [cm^2]\n",
    "siga = 2.11E-24 # [cm^2]\n",
    "sigtr = 6.8E-24 # [cm^2]\n",
    "nu = 2.98 # [n/fiss]\n",
    "rho = 19.74 # [g/cm^3]\n",
    "m = 239.05429 # [g]\n",
    "\n",
    "# Convert plutonium cross sections\n",
    "Sigf = Na*rho/m*sigf # [1/cm]\n",
    "Siga = Na*rho/m*siga # [1/cm]\n",
    "Sigtr = Na*rho/m*sigtr # [1/cm]\n",
    "Sigs = Sigtr - Siga # [1/cm]"
   ]
  },
  {
   "cell_type": "markdown",
   "metadata": {},
   "source": [
    "$\\br$We will start with the fission cycle method, using the $\\texttt{homog\\_slab\\_k}$ function. All that is necessary here is to define the input values for the function. Here, we will run 10 inactive cycles and 50 active cycles of 20,000 neutrons. A smaller number of cycles and neutrons are acceptable, but the solution looks a bit better otherwise.\n",
    "\n",
    "$\\br$After running the function, we will plot the resulting values of $k$ and determine the average value using an exceprt from the lecture notes.$\\br$"
   ]
  },
  {
   "cell_type": "code",
   "execution_count": null,
   "metadata": {},
   "outputs": [],
   "source": [
    "# Solve using fission cycles\n",
    "N = 20000\n",
    "thickness = 7.0 # [cm]\n",
    "inactive_cycles = 10\n",
    "active_cycles = 50\n",
    "k = homog_slab_k(N,Sigtr,Sigs,Sigf,nu,thickness,inactive_cycles,active_cycles)\n",
    "\n",
    "# Plot\n",
    "plt.plot(k)\n",
    "plt.title(str(np.mean(k[inactive_cycles:(active_cycles+inactive_cycles)]))+\n",
    "        \"$\\pm$\" + str(np.std(k[inactive_cycles:(active_cycles+inactive_cycles)])))\n",
    "plt.xlabel(\"Cycle\")\n",
    "plt.ylabel(\"k\")\n",
    "plt.plot([inactive_cycles,inactive_cycles],[np.min(k)*.9,np.max(k)*1.1])\n",
    "plt.axis([0,k.size,np.min(k)*.9,np.max(k)*1.1])\n",
    "plt.show()"
   ]
  },
  {
   "cell_type": "markdown",
   "metadata": {},
   "source": [
    "Next, we will use the fission matrix method. The $\\texttt{fission\\_matrix}$ function will be used to define the matrix, and the NumPy function $\\texttt{linalg.eig}$ will be used to solve for the eigenvalues of the matrix.\n",
    "\n",
    "$\\br$We will look at the entires in the fission matrix, and plot the eigenvalues (also taken directly from the lecture notes).$\\br$"
   ]
  },
  {
   "cell_type": "code",
   "execution_count": null,
   "metadata": {},
   "outputs": [],
   "source": [
    "# Solve using fission matrix\n",
    "N = 100000\n",
    "Nx = 50\n",
    "H,Xmid = fission_matrix(N,Sigtr,Sigs,Sigf,nu,thickness,Nx)\n",
    "\n",
    "# Plot matrix\n",
    "plt.pcolormesh(H)\n",
    "plt.title(\"Entries in matrix $\\mathbf{H}$\")\n",
    "plt.colorbar()\n",
    "plt.show()\n",
    "ks, v = np.linalg.eig(H)\n",
    "\n",
    "# Plot eigenvalues\n",
    "plt.plot(np.real(ks),np.imag(ks),'o')\n",
    "plt.title(\"$k_\\mathrm{eff} = $\" + str(np.real(np.max(ks))))\n",
    "plt.xlabel(\"Real part of k\")\n",
    "plt.ylabel(\"Imaginary part of k\")\n",
    "plt.show()"
   ]
  },
  {
   "cell_type": "markdown",
   "metadata": {},
   "source": [
    "Note that both methods resulted in a similar value of $k_\\mathrm{eff}$."
   ]
  }
 ],
 "metadata": {
  "kernelspec": {
   "display_name": "Python 3",
   "language": "python",
   "name": "python3"
  },
  "language_info": {
   "codemirror_mode": {
    "name": "ipython",
    "version": 3
   },
   "file_extension": ".py",
   "mimetype": "text/x-python",
   "name": "python",
   "nbconvert_exporter": "python",
   "pygments_lexer": "ipython3",
   "version": "3.6.8"
  }
 },
 "nbformat": 4,
 "nbformat_minor": 1
}
